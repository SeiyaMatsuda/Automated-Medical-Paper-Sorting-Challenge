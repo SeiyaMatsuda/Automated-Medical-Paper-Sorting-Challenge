{
 "cells": [
  {
   "cell_type": "markdown",
   "id": "b24625a1-7ba1-47b4-b1ab-211d6459c363",
   "metadata": {
    "jp-MarkdownHeadingCollapsed": true,
    "tags": []
   },
   "source": [
    "1. データの読み込み"
   ]
  },
  {
   "cell_type": "code",
   "execution_count": 152,
   "id": "ed6cdea4",
   "metadata": {},
   "outputs": [],
   "source": [
    "import math\n",
    "import random\n",
    "import time\n",
    "import warnings\n",
    "import numpy as np\n",
    "import pandas as pd\n",
    "import torch\n",
    "import torch.nn as nn\n",
    "import os\n",
    "import transformers as T\n",
    "from pathlib import Path\n",
    "from sklearn.metrics import fbeta_score\n",
    "from sklearn.model_selection import StratifiedKFold\n",
    "from torch.utils.data import DataLoader, Dataset\n",
    "from sklearn.linear_model import LogisticRegression\n",
    "from tqdm.notebook import tqdm\n",
    "import matplotlib.pyplot as plt\n",
    "import string\n",
    "from nltk.corpus import stopwords\n",
    "from sklearn.pipeline import Pipeline\n",
    "from sklearn.feature_extraction.text import TfidfVectorizer\n",
    "from sklearn.feature_extraction.text import CountVectorizer\n",
    "from sklearn.metrics import fbeta_score\n",
    "from sklearn.preprocessing import MinMaxScaler,StandardScaler\n",
    "from imblearn.under_sampling import RandomUnderSampler\n",
    "from sklearn.decomposition import TruncatedSVD\n",
    "from sklearn.pipeline import Pipeline\n",
    "import tqdm\n",
    "from sklearn.feature_selection import SelectKBest, chi2\n",
    "from scipy.optimize import minimize_scalar\n",
    "from sklearn import naive_bayes"
   ]
  },
  {
   "cell_type": "code",
   "execution_count": 2,
   "id": "23e20c63",
   "metadata": {},
   "outputs": [],
   "source": [
    "warnings.filterwarnings(\"ignore\")"
   ]
  },
  {
   "cell_type": "code",
   "execution_count": 3,
   "id": "74829744-95a2-4e2a-b2ec-5401640d6b99",
   "metadata": {},
   "outputs": [
    {
     "name": "stdout",
     "output_type": "stream",
     "text": [
      "cuda\n"
     ]
    }
   ],
   "source": [
    "device = torch.device(\"cuda\" if torch.cuda.is_available() else \"cpu\")\n",
    "print(device)"
   ]
  },
  {
   "cell_type": "code",
   "execution_count": 4,
   "id": "42ab13eb-6570-472c-97ee-eab8f5821e79",
   "metadata": {},
   "outputs": [],
   "source": [
    "def seed_torch(seed=42):\n",
    "    random.seed(seed)\n",
    "    os.environ[\"PYTHONHASHSEED\"] = str(seed)\n",
    "    np.random.seed(seed)\n",
    "    torch.manual_seed(seed)\n",
    "    torch.cuda.manual_seed(seed)\n",
    "    torch.cuda.manual_seed_all(seed)\n",
    "    torch.backends.cudnn.deterministic = True\n",
    "\n",
    "seed = 471\n",
    "seed_torch(seed)"
   ]
  },
  {
   "cell_type": "code",
   "execution_count": 125,
   "id": "8519c10e-d167-4886-a9c8-8d089db471f8",
   "metadata": {},
   "outputs": [],
   "source": [
    "DATA_DIR = './dataset/data1'"
   ]
  },
  {
   "cell_type": "code",
   "execution_count": 141,
   "id": "955df467-3a40-4737-aab2-dab0d5e0f60b",
   "metadata": {},
   "outputs": [],
   "source": [
    "def text_process(mess):\n",
    "    STOPWORDS = stopwords.words('english') + ['u', 'ü', 'ur', '4', '2', 'im', 'dont', 'doin', 'ure']\n",
    "    nopunc = [char for char in mess if char not in string.punctuation]\n",
    "    nopunc = ''.join(nopunc)\n",
    "    return ' '.join([word.lower() for word in nopunc.split() if word.lower() not in STOPWORDS])\n",
    "#データの読み込み\n",
    "train = pd.read_csv(DATA_DIR  +\"/train.csv\", index_col=0).fillna(\" \")\n",
    "test = pd.read_csv(DATA_DIR + \"/test.csv\", index_col=0).fillna(\" \")\n",
    "sub = pd.read_csv(DATA_DIR + \"/sample_submit.csv\", index_col=0)\n",
    "train.title = train.title.apply(text_process)\n",
    "test.title = test.title.apply(text_process)"
   ]
  },
  {
   "cell_type": "code",
   "execution_count": null,
   "id": "92d1c578-df69-4004-8b23-dfe48eccc356",
   "metadata": {
    "tags": []
   },
   "outputs": [
    {
     "name": "stderr",
     "output_type": "stream",
     "text": [
      "  0%|                                                                                                                                                                                       | 0/10 [00:00<?, ?it/s]"
     ]
    },
    {
     "name": "stdout",
     "output_type": "stream",
     "text": [
      "(1138, 2000)\n",
      "0.8174791914387634 0\n",
      "(1138, 1999)\n",
      "0.8174791914387634 0.8174791914387634\n",
      "(1138, 1998)\n"
     ]
    },
    {
     "name": "stderr",
     "output_type": "stream",
     "text": [
      " 10%|█████████████████▌                                                                                                                                                             | 1/10 [01:35<14:17, 95.30s/it]"
     ]
    },
    {
     "name": "stdout",
     "output_type": "stream",
     "text": [
      "0.8167508167508166 0.8174791914387634\n",
      "fold0::0.4736128313781865::0.8167508167508166\n",
      "(1138, 2000)\n",
      "0.8429458740017747 0\n",
      "(1138, 1999)\n",
      "0.8451957295373664 0.8429458740017747\n",
      "(1138, 1998)\n",
      "0.8454464550578463 0.8451957295373664\n",
      "(1138, 1997)\n",
      "0.8461995249406175 0.8454464550578463\n",
      "(1138, 1996)\n",
      "0.8461995249406175 0.8461995249406175\n",
      "(1138, 1995)\n",
      "0.8461995249406175 0.8461995249406175\n",
      "(1138, 1994)\n",
      "0.8461995249406175 0.8461995249406175\n",
      "(1138, 1993)\n",
      "0.8464508464508465 0.8461995249406175\n",
      "(1138, 1992)\n",
      "0.8464508464508465 0.8464508464508465\n",
      "(1138, 1991)\n"
     ]
    },
    {
     "name": "stderr",
     "output_type": "stream",
     "text": [
      " 20%|███████████████████████████████████                                                                                                                                            | 2/10 [03:11<12:45, 95.71s/it]"
     ]
    },
    {
     "name": "stdout",
     "output_type": "stream",
     "text": [
      "0.8441943127962085 0.8464508464508465\n",
      "fold1::0.5003035514520238::0.8441943127962085\n",
      "(1138, 2000)\n",
      "0.8995502248875561 0\n",
      "(1138, 1999)\n"
     ]
    },
    {
     "name": "stderr",
     "output_type": "stream",
     "text": [
      " 30%|████████████████████████████████████████████████████▌                                                                                                                          | 3/10 [04:47<11:11, 95.91s/it]"
     ]
    },
    {
     "name": "stdout",
     "output_type": "stream",
     "text": [
      "0.8992805755395683 0.8995502248875561\n",
      "fold2::0.5352203328650172::0.8992805755395683\n",
      "(1136, 2000)\n",
      "0.8673026886383349 0\n",
      "(1136, 1999)\n",
      "0.8782032824647281 0.8673026886383349\n",
      "(1136, 1998)\n",
      "0.8787093056755979 0.8782032824647281\n",
      "(1136, 1997)\n"
     ]
    },
    {
     "name": "stderr",
     "output_type": "stream",
     "text": [
      " 40%|██████████████████████████████████████████████████████████████████████                                                                                                         | 4/10 [06:22<09:33, 95.56s/it]"
     ]
    },
    {
     "name": "stdout",
     "output_type": "stream",
     "text": [
      "0.8782032824647281 0.8787093056755979\n",
      "fold3::0.44263650090073564::0.8782032824647281\n",
      "(1136, 2000)\n",
      "0.8928571428571429 0\n",
      "(1136, 1999)\n"
     ]
    },
    {
     "name": "stderr",
     "output_type": "stream",
     "text": [
      " 50%|███████████████████████████████████████████████████████████████████████████████████████▌                                                                                       | 5/10 [07:54<07:52, 94.46s/it]"
     ]
    },
    {
     "name": "stdout",
     "output_type": "stream",
     "text": [
      "0.890837104072398 0.8928571428571429\n",
      "fold4::0.39233519678090956::0.890837104072398\n",
      "(1138, 2000)\n",
      "0.8613386049138663 0\n",
      "(1138, 1999)\n",
      "0.862312694373763 0.8613386049138663\n",
      "(1138, 1998)\n",
      "0.8625817965496728 0.862312694373763\n",
      "(1138, 1997)\n"
     ]
    },
    {
     "name": "stderr",
     "output_type": "stream",
     "text": [
      " 60%|█████████████████████████████████████████████████████████████████████████████████████████████████████████                                                                      | 6/10 [09:30<06:19, 94.77s/it]"
     ]
    },
    {
     "name": "stdout",
     "output_type": "stream",
     "text": [
      "0.8573089218250507 0.8625817965496728\n",
      "fold5::0.42945690055832225::0.8573089218250507\n",
      "(1138, 2000)\n",
      "0.8489208633093526 0\n",
      "(1138, 1999)\n",
      "0.8494097322199828 0.8489208633093526\n",
      "(1138, 1998)\n"
     ]
    },
    {
     "name": "stderr",
     "output_type": "stream",
     "text": [
      " 70%|██████████████████████████████████████████████████████████████████████████████████████████████████████████████████████████▍                                                    | 7/10 [11:05<04:44, 94.81s/it]"
     ]
    },
    {
     "name": "stdout",
     "output_type": "stream",
     "text": [
      "0.8479448117275079 0.8494097322199828\n",
      "fold6::0.40877337298400446::0.8479448117275079\n",
      "(1138, 2000)\n",
      "0.8801213960546282 0\n",
      "(1138, 1999)\n",
      "0.8806559368357122 0.8801213960546282\n",
      "(1138, 1998)\n"
     ]
    },
    {
     "name": "stderr",
     "output_type": "stream",
     "text": [
      " 80%|████████████████████████████████████████████████████████████████████████████████████████████████████████████████████████████████████████████                                   | 8/10 [12:40<03:09, 94.99s/it]"
     ]
    },
    {
     "name": "stdout",
     "output_type": "stream",
     "text": [
      "0.8732309545317675 0.8806559368357122\n",
      "fold7::0.5373350003181293::0.8732309545317675\n",
      "(1138, 2000)\n",
      "0.830614061109463 0\n",
      "(1138, 1999)\n",
      "0.8320950965824665 0.830614061109463\n",
      "(1138, 1998)\n",
      "0.8323424494649226 0.8320950965824665\n",
      "(1138, 1997)\n"
     ]
    },
    {
     "name": "stderr",
     "output_type": "stream",
     "text": [
      " 90%|█████████████████████████████████████████████████████████████████████████████████████████████████████████████████████████████████████████████████████████████▌                 | 9/10 [14:15<01:35, 95.05s/it]"
     ]
    },
    {
     "name": "stdout",
     "output_type": "stream",
     "text": [
      "0.8320950965824665 0.8323424494649226\n",
      "fold8::0.4626799215872639::0.8320950965824665\n",
      "(1138, 2000)\n",
      "0.7976366322008862 0\n",
      "(1138, 1999)\n"
     ]
    },
    {
     "name": "stderr",
     "output_type": "stream",
     "text": [
      "100%|██████████████████████████████████████████████████████████████████████████████████████████████████████████████████████████████████████████████████████████████████████████████| 10/10 [15:47<00:00, 94.75s/it]"
     ]
    },
    {
     "name": "stdout",
     "output_type": "stream",
     "text": [
      "0.7959905660377359 0.7976366322008862\n",
      "fold9::0.45032929013213757::0.7959905660377359\n"
     ]
    },
    {
     "name": "stderr",
     "output_type": "stream",
     "text": [
      "\n"
     ]
    }
   ],
   "source": [
    "X_train, y_train = train.loc[:, ['title', 'abstract']], train.loc[:, 'judgement']\n",
    "X_test = test.loc[:, ['title', 'abstract']]\n",
    "skf = StratifiedKFold(n_splits=10, shuffle=True, random_state=42)\n",
    "sub_prob = []\n",
    "for fold, (tr_idx, val_idx) in tqdm.tqdm(enumerate(skf.split(X_train, y_train)), total=10):\n",
    "#     sub = np.zeros()\n",
    "    X_tr, y_tr= X_train.iloc[tr_idx], y_train.iloc[tr_idx]\n",
    "    X_val, y_val= X_train.iloc[val_idx], y_train.iloc[val_idx]\n",
    "    rus = RandomUnderSampler(random_state=71)\n",
    "    pipline = Pipeline([('tfidf', TfidfVectorizer()), ('svd', TruncatedSVD(n_components=500, random_state=0)), \n",
    "            ('sc',MinMaxScaler())])\n",
    "    X_tr1 = pipline.fit_transform(X_tr.title)\n",
    "    X_val1 = pipline.transform(X_val.title)\n",
    "    X_tes1 = pipline.transform(X_test.title)\n",
    "    X_tr2 = pipline.fit_transform(X_tr.abstract)\n",
    "    X_val2 = pipline.transform(X_val.abstract)\n",
    "    X_tes2 = pipline.transform(X_test.abstract)\n",
    "    X_tr = np.concatenate([X_tr1, X_tr2], axis=1)\n",
    "    X_val = np.concatenate([X_val1, X_val2], axis=1)\n",
    "    X_tes = np.concatenate([X_tes1, X_tes2], axis=1)\n",
    "    X_tr, y_tr = rus.fit_resample(X_tr,y_tr)\n",
    "    max_score = 0\n",
    "    columns_num = X_tr.shape[1]\n",
    "    for k in range(columns_num):\n",
    "        select_num = columns_num-k\n",
    "        select = SelectKBest(score_func = chi2, k=select_num)\n",
    "        X_tr_ = select.fit_transform(X_tr, y_tr)\n",
    "        X_val_ = select.transform(X_val)\n",
    "        X_tes_ = select.transform(X_tes)\n",
    "        print(X_tr_.shape)\n",
    "        model = LogisticRegression()\n",
    "        model.fit(X_tr_, y_tr)\n",
    "        prob = model.predict_proba(X_val_)[:,1]\n",
    "        def calc_thres(x:float):\n",
    "            predict =  np.where(prob < x, 0, 1)\n",
    "            return -fbeta_score(y_val, predict, beta=7)\n",
    "        thres = minimize_scalar(calc_thres, method='Bounded', bounds=(0.01, 0.99))\n",
    "        score = -thres.fun\n",
    "        print(score,max_score)\n",
    "        if score < max_score:\n",
    "            break\n",
    "        else:\n",
    "            max_score = score\n",
    "            X_tes_fix = X_tes_\n",
    "            model_fix = model\n",
    "    prediction = model_fix.predict_proba(X_tes_fix)[:,1]\n",
    "    test_prob =  np.where(prediction < thres.x, 0, 1)\n",
    "    sub_prob.append(test_prob)\n",
    "    print('fold{}::{}::{}'.format(fold, thres.x, -thres.fun))"
   ]
  },
  {
   "cell_type": "code",
   "execution_count": 181,
   "id": "6319d280-d1a1-43c0-9073-b380109674a0",
   "metadata": {},
   "outputs": [],
   "source": [
    "mode_2, count_2 = stats.mode(np.stack(sub_prob), axis=0)\n",
    "sub = pd.read_csv(DATA_DIR + \"/sample_submit.csv\", header = None)\n",
    "sub.columns = [\"id\", \"judgement\"]\n",
    "sub[\"judgement\"] = mode_2[0]\n",
    "#保存先のディレクトリ作成\n",
    "save_dir = \"./result/result6\"\n",
    "if not os.path.isdir(save_dir):\n",
    "    os.makedirs(save_dir)\n",
    "sub.to_csv(save_dir + '/submission.csv', header=None, index=None)"
   ]
  },
  {
   "cell_type": "code",
   "execution_count": 119,
   "id": "5ea5fa7a-b8e8-4717-952a-aec72e818666",
   "metadata": {},
   "outputs": [],
   "source": [
    "def text_process(mess):\n",
    "    STOPWORDS = stopwords.words('english') + ['u', 'ü', 'ur', '4', '2', 'im', 'dont', 'doin', 'ure']\n",
    "    nopunc = [char for char in mess if char not in string.punctuation]\n",
    "    nopunc = ''.join(nopunc)\n",
    "    return ' '.join([word.lower() for word in nopunc.split() if word.lower() not in STOPWORDS])\n",
    "#データの読み込み\n",
    "train = pd.read_csv(DATA_DIR  +\"/train.csv\", index_col=0).fillna(\"no abstract\")\n",
    "test = pd.read_csv(DATA_DIR + \"/test.csv\", index_col=0).fillna(\"no abstract\")\n",
    "sub = pd.read_csv(DATA_DIR + \"/sample_submit.csv\", index_col=0)\n",
    "train.title = train.title.apply(text_process)\n",
    "test.title = test.title.apply(text_process)\n",
    "X_train, y_train = train.loc[:, ['title', 'abstract']], train.loc[:, 'judgement']\n",
    "X_test = test.loc[:, ['title', 'abstract']]\n",
    "skf = StratifiedKFold(n_splits=10, shuffle=True, random_state=42)\n",
    "sub_prob = []\n",
    "for fold, (tr_idx, val_idx) in tqdm.tqdm(enumerate(skf.split(X_train, y_train)), total=10):\n",
    "#     sub = np.zeros()\n",
    "    X_tr, y_tr= X_train.iloc[tr_idx], y_train.iloc[tr_idx]\n",
    "    X_val, y_val= X_train.iloc[val_idx], y_train.iloc[val_idx]\n",
    "    rus = RandomUnderSampler(random_state=71)\n",
    "    pipline = Pipeline([('tfidf', TfidfVectorizer()), ('svd', TruncatedSVD(n_components=50, random_state=0))])\n",
    "    X_tr1 = pipline.fit_transform(X_tr.title)\n",
    "    X_val1 = pipline.transform(X_val.title)\n",
    "    X_tes1 = pipline.transform(X_test.title)\n",
    "    X_tr2 = pipline.fit_transform(X_tr.abstract)\n",
    "    X_val2 = pipline.transform(X_val.abstract)\n",
    "    X_tes2 = pipline.transform(X_test.abstract)\n",
    "    X_tr = np.concatenate([X_tr1, X_tr2], axis=1)\n",
    "    X_val = np.concatenate([X_val1, X_val2], axis=1)\n",
    "    X_tes = np.concatenate([X_tes1, X_tes2], axis=1)\n",
    "    X_tr, y_tr = rus.fit_resample(X_tr,y_tr)\n",
    "    model = LogisticRegression(random_state=0)\n",
    "    model.fit(X_tr, y_tr)\n",
    "    prob = model.predict_proba(X_val)[:,1]\n",
    "    def calc_thres(x:float):\n",
    "        predict =  np.where(prob < x, 0, 1)\n",
    "        return -fbeta_score(y_val, predict, beta=7)\n",
    "    thres = minimize_scalar(calc_thres, method='Bounded', bounds=(0.01, 0.99))\n",
    "    prediction = model.predict_proba(X_tes)[:,1]\n",
    "    test_prob =  np.where(prediction < thres.x, 0, 1)\n",
    "    sub_prob.append(test_prob)\n",
    "    print('fold{}::{}::{}'.format(fold, thres.x, -thres.fun))"
   ]
  },
  {
   "cell_type": "code",
   "execution_count": 112,
   "id": "16de90c9-fc91-4b63-8456-e03a3f001a8a",
   "metadata": {},
   "outputs": [
    {
     "data": {
      "text/plain": [
       "id           1942126291\n",
       "judgement          5315\n",
       "dtype: int64"
      ]
     },
     "execution_count": 112,
     "metadata": {},
     "output_type": "execute_result"
    }
   ],
   "source": [
    "sub.sum()"
   ]
  },
  {
   "cell_type": "code",
   "execution_count": 75,
   "id": "fedf8ad9-dfd8-45e5-908b-06c115093baf",
   "metadata": {},
   "outputs": [],
   "source": [
    "predict_proba =  model.predict_proba(X_val)[:,1]\n",
    "p=[]\n",
    "for threhold in np.linspace(0, 1, 10000):\n",
    "    predict = np.where(predict_proba > threhold, 1, 0)\n",
    "    score = fbeta_score(y_val, predict, beta=7.0)\n",
    "    p.append(score)"
   ]
  },
  {
   "cell_type": "code",
   "execution_count": 57,
   "id": "69f63088-cfbe-4104-9fc9-67c01bbee24b",
   "metadata": {},
   "outputs": [
    {
     "name": "stdout",
     "output_type": "stream",
     "text": [
      "0.0005000500050005 0.8841732979664015\n"
     ]
    },
    {
     "data": {
      "text/plain": [
       "[<matplotlib.lines.Line2D at 0x7f0ba259dfa0>]"
      ]
     },
     "execution_count": 57,
     "metadata": {},
     "output_type": "execute_result"
    },
    {
     "data": {
      "image/png": "[encoded data removed]",
      "text/plain": [
       "<Figure size 432x288 with 1 Axes>"
      ]
     },
     "metadata": {
      "needs_background": "light"
     },
     "output_type": "display_data"
    }
   ],
   "source": [
    "print(np.linspace(0, 1, 10000)[np.argmax(p)], np.max(p))\n",
    "plt.plot(np.linspace(0, 1, 10000), p)"
   ]
  },
  {
   "cell_type": "code",
   "execution_count": 54,
   "id": "722db3a4-16b0-4a6c-a15f-720dfeb8834b",
   "metadata": {},
   "outputs": [
    {
     "ename": "NameError",
     "evalue": "name 'vect' is not defined",
     "output_type": "error",
     "traceback": [
      "\u001b[0;31m---------------------------------------------------------------------------\u001b[0m",
      "\u001b[0;31mNameError\u001b[0m                                 Traceback (most recent call last)",
      "\u001b[0;32m/tmp/ipykernel_255043/3280358525.py\u001b[0m in \u001b[0;36m<module>\u001b[0;34m\u001b[0m\n\u001b[1;32m      1\u001b[0m \u001b[0mtitle_list\u001b[0m \u001b[0;34m=\u001b[0m \u001b[0mtrain\u001b[0m\u001b[0;34m[\u001b[0m\u001b[0;34m'title'\u001b[0m\u001b[0;34m]\u001b[0m\u001b[0;34m.\u001b[0m\u001b[0mvalues\u001b[0m\u001b[0;34m.\u001b[0m\u001b[0mtolist\u001b[0m\u001b[0;34m(\u001b[0m\u001b[0;34m)\u001b[0m\u001b[0;34m\u001b[0m\u001b[0;34m\u001b[0m\u001b[0m\n\u001b[0;32m----> 2\u001b[0;31m \u001b[0mvect\u001b[0m\u001b[0;34m.\u001b[0m\u001b[0mfit\u001b[0m\u001b[0;34m(\u001b[0m\u001b[0mtitle_list\u001b[0m\u001b[0;34m)\u001b[0m\u001b[0;34m\u001b[0m\u001b[0;34m\u001b[0m\u001b[0m\n\u001b[0m\u001b[1;32m      3\u001b[0m \u001b[0mtitle_token_oh\u001b[0m \u001b[0;34m=\u001b[0m \u001b[0mtfidf\u001b[0m\u001b[0;34m.\u001b[0m\u001b[0mtransform\u001b[0m\u001b[0;34m(\u001b[0m\u001b[0mtitle_list\u001b[0m\u001b[0;34m)\u001b[0m\u001b[0;34m\u001b[0m\u001b[0;34m\u001b[0m\u001b[0m\n\u001b[1;32m      4\u001b[0m \u001b[0mtitle_token_oh\u001b[0m \u001b[0;34m=\u001b[0m \u001b[0mtitle_token_oh\u001b[0m\u001b[0;34m.\u001b[0m\u001b[0mtoarray\u001b[0m\u001b[0;34m(\u001b[0m\u001b[0;34m)\u001b[0m\u001b[0;34m\u001b[0m\u001b[0;34m\u001b[0m\u001b[0m\n",
      "\u001b[0;31mNameError\u001b[0m: name 'vect' is not defined"
     ]
    }
   ],
   "source": [
    "title_list = train['title'].values.tolist()\n",
    "vect.fit(title_list)\n",
    "title_token_oh = tfidf.transform(title_list)\n",
    "title_token_oh = title_token_oh.toarray()"
   ]
  },
  {
   "cell_type": "code",
   "execution_count": null,
   "id": "1bb384d5-78b2-4ab7-98b5-2820bfa2bf53",
   "metadata": {},
   "outputs": [],
   "source": [
    "abstract_list = train['abstract'].values.tolist()\n",
    "vect.fit(abstract_list)\n",
    "abstract_token_oh = vect.transform(abstract_list)\n",
    "abstract_token_oh = abstract_token_oh.toarray()"
   ]
  },
  {
   "cell_type": "code",
   "execution_count": null,
   "id": "5b153f74-bb71-4f6e-89f0-59f9d88c69a2",
   "metadata": {},
   "outputs": [],
   "source": [
    "def append_len(df):\n",
    "    len_title = df.title.apply(len)\n",
    "    len_abstract = df.abstract.apply(len)\n",
    "    df[\"len_title\"] = len_title\n",
    "    df[\"len_abstract\"] = len_abstract\n",
    "    return df\n",
    "train = append_len(train)\n",
    "test = append_len(test)"
   ]
  },
  {
   "cell_type": "code",
   "execution_count": null,
   "id": "de799d54-0eb2-4091-a3d5-26feab5e44d0",
   "metadata": {},
   "outputs": [],
   "source": [
    "import seaborn as sns\n",
    "sns.distplot(train['len_title'])"
   ]
  },
  {
   "cell_type": "code",
   "execution_count": null,
   "id": "a40e68ff-c6f9-45bf-ad5c-2a4967d903a8",
   "metadata": {},
   "outputs": [],
   "source": [
    "import seaborn as sns\n",
    "sns.distplot(train['len_abstract'])"
   ]
  },
  {
   "cell_type": "code",
   "execution_count": null,
   "id": "83874165-7fb6-40b6-b387-bab30293231c",
   "metadata": {},
   "outputs": [],
   "source": [
    "sns.boxplot(x=train.judgement, y=train['len_title'])"
   ]
  },
  {
   "cell_type": "code",
   "execution_count": null,
   "id": "d1d173e9-db60-4b20-a553-2b012adc8bcf",
   "metadata": {},
   "outputs": [],
   "source": [
    "sns.boxplot(x=train.judgement, y=train['len_title'])"
   ]
  },
  {
   "cell_type": "code",
   "execution_count": null,
   "id": "496d8e7d-04d9-4ec7-99b4-d9a0a8b18691",
   "metadata": {},
   "outputs": [],
   "source": [
    "plt.figure(figsize=(12, 8))\n",
    "\n",
    "train[train.judgement==0].len_title.plot(bins=35, kind='hist', color='blue', \n",
    "                                       label='Ham messages', alpha=0.6)\n",
    "train[train.judgement==1].len_title.plot(kind='hist', color='red', \n",
    "                                       label='Spam messages', alpha=0.6)\n",
    "plt.legend()\n",
    "plt.xlabel(\"Message Length\")"
   ]
  },
  {
   "cell_type": "code",
   "execution_count": null,
   "id": "025400e4-c122-4cf5-8e5f-0fc6fd5a5681",
   "metadata": {},
   "outputs": [],
   "source": [
    "plt.figure(figsize=(12, 8))\n",
    "\n",
    "train[train.judgement==0].len_abstract.plot(bins=35, kind='hist', color='blue', \n",
    "                                       label='Ham messages', alpha=0.6)\n",
    "train[train.judgement==1].len_abstract.plot(kind='hist', color='red', \n",
    "                                       label='Spam messages', alpha=0.6)\n",
    "plt.legend()\n",
    "plt.xlabel(\"Message Length\")"
   ]
  },
  {
   "cell_type": "code",
   "execution_count": null,
   "id": "cb56e9b5-2ea2-4aba-bd09-168d4db9ca39",
   "metadata": {},
   "outputs": [],
   "source": [
    "import string\n",
    "from nltk.corpus import stopwords\n",
    "from sklearn.feature_extraction.text import CountVectorizer"
   ]
  },
  {
   "cell_type": "code",
   "execution_count": null,
   "id": "a55ba89e-bd6c-4ae4-bb77-43e1d67974cf",
   "metadata": {},
   "outputs": [],
   "source": [
    "def text_process(mess):\n",
    "    STOPWORDS = stopwords.words('english') + ['u', 'ü', 'ur', '4', '2', 'im', 'dont', 'doin', 'ure']\n",
    "    a = ''.join(map(str, list(range(10))))\n",
    "    nopunc = [char for char in mess if char not in string.punctuation +a]\n",
    "    nopunc = ''.join(nopunc)\n",
    "    return ' '.join([word.lower() for word in nopunc.split() if word.lower() not in STOPWORDS])"
   ]
  },
  {
   "cell_type": "code",
   "execution_count": null,
   "id": "f4a4167f-1cac-4335-a40a-4b1b56b80173",
   "metadata": {},
   "outputs": [],
   "source": [
    "train['title_token'] = train.title.apply(text_process)\n",
    "train['abstract_token'] = train.abstract.apply(text_process)\n",
    "test['title_token'] = test.title.apply(text_process)\n",
    "test['abstract_token'] = test.abstract.apply(text_process)"
   ]
  },
  {
   "cell_type": "code",
   "execution_count": null,
   "id": "7acf1fee-f7a7-4af2-bd72-0bec2ec01396",
   "metadata": {},
   "outputs": [],
   "source": [
    "vectorizer = CountVectorizer()\n",
    "vectorizer.fit(pd.concat([train['title_token'], test['title_token']], axis=0).tolist())\n",
    "title_list = vectorizer.get_feature_names()\n",
    "X_title_train = vectorizer.transform(train['title_token']).toarray()\n",
    "X_title_test = vectorizer.transform(test['title_token']).toarray()"
   ]
  },
  {
   "cell_type": "code",
   "execution_count": null,
   "id": "30f84f12-0350-4c0c-8451-3a742c352bfc",
   "metadata": {},
   "outputs": [],
   "source": [
    "vectorizer = CountVectorizer()\n",
    "vectorizer.fit(pd.concat([train['abstract_token'], test['abstract_token']], axis=0).tolist())\n",
    "abstract_list = vectorizer.get_feature_names()\n",
    "X_abstract_train = vectorizer.transform(train['abstract_token']).toarray()\n",
    "X_abstract_test = vectorizer.transform(test['abstract_token']).toarray()"
   ]
  },
  {
   "cell_type": "code",
   "execution_count": null,
   "id": "6147e2cd-6ece-402e-8b71-7e3020899c16",
   "metadata": {},
   "outputs": [],
   "source": [
    "X_abstract_train.shape"
   ]
  },
  {
   "cell_type": "code",
   "execution_count": null,
   "id": "3f8089f7-c8a5-4241-97b0-56b5692b8f3d",
   "metadata": {},
   "outputs": [],
   "source": [
    "# Santandarのデータには適用できないので、簡単な紹介のみ\n",
    "from operator import itemgetter\n",
    "from sklearn.feature_selection import chi2\n",
    "# fisher score\n",
    "fscore = chi2(X_title_train, train.judgement)[0]"
   ]
  },
  {
   "cell_type": "code",
   "execution_count": null,
   "id": "05439e31-4532-4bc0-a9a2-39d6647fe047",
   "metadata": {},
   "outputs": [],
   "source": [
    "#とりあえず次元が多すぎるので上位500のみ使用する\n",
    "fscore = chi2(X_title_train, train.judgement)[0]\n",
    "fscore = np.array(fscore)\n",
    "idx = np.argsort(-fscore)[:500]\n",
    "X_title_500_train = X_title_train[:, idx]\n",
    "X_title_500_test = X_title_test[:, idx]\n",
    "title_list_500 = np.array(title_list)[idx]"
   ]
  },
  {
   "cell_type": "code",
   "execution_count": null,
   "id": "d475089f-e1fc-4315-b6b7-0b646fc45df0",
   "metadata": {},
   "outputs": [],
   "source": [
    "#とりあえず次元が多すぎるので上位500のみ使用する\n",
    "fscore = chi2(X_abstract_train, train.judgement)[0]\n",
    "fscore = np.array(fscore)\n",
    "idx = np.argsort(-fscore)[:500]\n",
    "X_abstract_500_train = X_abstract_train[:, idx]\n",
    "X_abstract_500_test = X_abstract_test[:, idx]\n",
    "abstract_list_500 = np.array(abstract_list)[idx]"
   ]
  },
  {
   "cell_type": "code",
   "execution_count": null,
   "id": "deea0955-0376-486e-a961-b6fdc255c7f0",
   "metadata": {},
   "outputs": [],
   "source": [
    "X_chi2_train = np.concatenate([X_title_500_train, X_abstract_500_train], axis = 1)\n",
    "X_chi2_test = np.concatenate([X_title_500_test, X_abstract_500_test], axis = 1)"
   ]
  },
  {
   "cell_type": "code",
   "execution_count": null,
   "id": "7fe0e5dd-49d9-4d79-910c-a5fe4aa595a3",
   "metadata": {},
   "outputs": [],
   "source": [
    "columns_title = list(map(lambda x:f\"title_count_{x}\", title_list_500))\n",
    "columns_abstract = list(map( lambda x:f\"abstract_count_{x}\", abstract_list_500))\n",
    "train.loc[:, columns_title + columns_abstract] = X_chi2_train\n",
    "test.loc[:, columns_title + columns_abstract] = X_chi2_test"
   ]
  },
  {
   "cell_type": "code",
   "execution_count": null,
   "id": "5d2702c1-ade9-4f0f-b231-971e544ad89c",
   "metadata": {},
   "outputs": [],
   "source": [
    "#保存先のディレクトリ作成\n",
    "save_dir = \"./dataset/data3\"\n",
    "if not os.path.isdir(save_dir):\n",
    "    os.makedirs(save_dir)\n",
    "train.to_csv(os.path.join(save_dir, 'train.csv'))\n",
    "test.to_csv(os.path.join(save_dir, 'test.csv'))"
   ]
  },
  {
   "cell_type": "code",
   "execution_count": null,
   "id": "3eb085da-d4fc-47e6-ac30-1d5bee493a4b",
   "metadata": {},
   "outputs": [],
   "source": []
  }
 ],
 "metadata": {
  "kernelspec": {
   "display_name": "signate_env",
   "language": "python",
   "name": "signate_env"
  },
  "language_info": {
   "codemirror_mode": {
    "name": "ipython",
    "version": 3
   },
   "file_extension": ".py",
   "mimetype": "text/x-python",
   "name": "python",
   "nbconvert_exporter": "python",
   "pygments_lexer": "ipython3",
   "version": "3.9.6"
  }
 },
 "nbformat": 4,
 "nbformat_minor": 5
}
