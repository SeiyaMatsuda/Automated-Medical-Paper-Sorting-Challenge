{
 "cells": [
  {
   "cell_type": "markdown",
   "id": "b24625a1-7ba1-47b4-b1ab-211d6459c363",
   "metadata": {
    "jp-MarkdownHeadingCollapsed": true,
    "tags": []
   },
   "source": [
    "1. データの読み込み"
   ]
  },
  {
   "cell_type": "code",
   "execution_count": 13,
   "id": "ed6cdea4",
   "metadata": {},
   "outputs": [],
   "source": [
    "import math\n",
    "import random\n",
    "import time\n",
    "import warnings\n",
    "import numpy as np\n",
    "import pandas as pd\n",
    "import torch\n",
    "import torch.nn as nn\n",
    "import os\n",
    "import transformers as T\n",
    "from pathlib import Path\n",
    "from sklearn.metrics import fbeta_score\n",
    "from sklearn.model_selection import StratifiedKFold\n",
    "from torch.utils.data import DataLoader, Dataset\n",
    "import tqdm"
   ]
  },
  {
   "cell_type": "code",
   "execution_count": 2,
   "id": "23e20c63",
   "metadata": {},
   "outputs": [],
   "source": [
    "warnings.filterwarnings(\"ignore\")"
   ]
  },
  {
   "cell_type": "code",
   "execution_count": 3,
   "id": "74829744-95a2-4e2a-b2ec-5401640d6b99",
   "metadata": {},
   "outputs": [
    {
     "name": "stdout",
     "output_type": "stream",
     "text": [
      "cuda\n"
     ]
    }
   ],
   "source": [
    "device = torch.device(\"cuda\" if torch.cuda.is_available() else \"cpu\")\n",
    "print(device)"
   ]
  },
  {
   "cell_type": "code",
   "execution_count": 4,
   "id": "42ab13eb-6570-472c-97ee-eab8f5821e79",
   "metadata": {},
   "outputs": [],
   "source": [
    "def seed_torch(seed=42):\n",
    "    random.seed(seed)\n",
    "    os.environ[\"PYTHONHASHSEED\"] = str(seed)\n",
    "    np.random.seed(seed)\n",
    "    torch.manual_seed(seed)\n",
    "    torch.cuda.manual_seed(seed)\n",
    "    torch.cuda.manual_seed_all(seed)\n",
    "    torch.backends.cudnn.deterministic = True\n",
    "\n",
    "seed = 471\n",
    "seed_torch(seed)"
   ]
  },
  {
   "cell_type": "code",
   "execution_count": 5,
   "id": "8519c10e-d167-4886-a9c8-8d089db471f8",
   "metadata": {},
   "outputs": [],
   "source": [
    "DATA_DIR = './dataset/data1'\n",
    "OUTPUT_DIR = './result/result1'\n",
    "if not os.path.isdir(OUTPUT_DIR):\n",
    "    os.makedirs(OUTPUT_DIR)"
   ]
  },
  {
   "cell_type": "code",
   "execution_count": 6,
   "id": "13dd61c3-7492-47af-b121-084f344fcdc6",
   "metadata": {
    "tags": []
   },
   "outputs": [],
   "source": [
    "def init_logger(log_file=OUTPUT_DIR + \"/train.log\"):\n",
    "    from logging import INFO, FileHandler, Formatter, StreamHandler, getLogger\n",
    "\n",
    "    logger = getLogger(__name__)\n",
    "    logger.setLevel(INFO)\n",
    "    handler1 = StreamHandler()\n",
    "    handler1.setFormatter(Formatter(\"%(message)s\"))\n",
    "    handler2 = FileHandler(filename=log_file)\n",
    "    handler2.setFormatter(Formatter(\"%(message)s\"))\n",
    "    logger.addHandler(handler1)\n",
    "    logger.addHandler(handler2)\n",
    "    return logger\n",
    "\n",
    "LOGGER = init_logger()"
   ]
  },
  {
   "cell_type": "code",
   "execution_count": 7,
   "id": "db7afb3d-e9f1-4e87-a78d-488bfa71db82",
   "metadata": {},
   "outputs": [],
   "source": [
    "train = pd.read_csv(DATA_DIR  +\"/train.csv\")\n",
    "test = pd.read_csv(DATA_DIR + \"/test.csv\")\n",
    "sub = pd.read_csv(DATA_DIR + \"/sample_submit.csv\", header=None)\n",
    "sub.columns = [\"id\", \"judgement\"]"
   ]
  },
  {
   "cell_type": "code",
   "execution_count": 8,
   "id": "71388fe1-6635-473a-bd81-01384a2f2aee",
   "metadata": {},
   "outputs": [],
   "source": [
    "def get_train_data(train):\n",
    "\n",
    "    # 交差検証 用の番号を振ります。\n",
    "    Fold = StratifiedKFold(n_splits=5, shuffle=True, random_state=seed)\n",
    "    for n, (train_index, val_index) in enumerate(Fold.split(train, train[\"judgement\"])):\n",
    "        train.loc[val_index, \"fold\"] = int(n)\n",
    "    train[\"fold\"] = train[\"fold\"].astype(np.uint8)\n",
    "\n",
    "    return train"
   ]
  },
  {
   "cell_type": "code",
   "execution_count": 9,
   "id": "fe0073b6-a0a6-44a2-9029-fcd48817e793",
   "metadata": {},
   "outputs": [],
   "source": [
    "def get_test_data(test):\n",
    "    return test"
   ]
  },
  {
   "cell_type": "code",
   "execution_count": 10,
   "id": "cccf40ac-ca6f-475e-a0ab-1740b1841310",
   "metadata": {},
   "outputs": [],
   "source": [
    "train = get_train_data(train)"
   ]
  },
  {
   "cell_type": "code",
   "execution_count": 17,
   "id": "92dad8e7-a220-4b5f-ab7d-6dd5f11345e4",
   "metadata": {},
   "outputs": [],
   "source": [
    "class get_embedding_representaion():\n",
    "    def __init__(self, df, model_name):\n",
    "        tokenizer = T.BertTokenizer.from_pretrained(model_name)\n",
    "        self.title = df[\"title\"].tolist()\n",
    "        self.encoded = tokenizer.batch_encode_plus(\n",
    "          self.title, padding=True, add_special_tokens=True\n",
    "        )\n",
    "        self.df = df\n",
    "        self.model = T.BertModel.from_pretrained(model_name)\n",
    "\n",
    "    def get_format(self, device, num=64):\n",
    "        self.model = self.model.to(device)\n",
    "        input_ids = torch.tensor(self.encoded[\"input_ids\"], device=device)\n",
    "        input_ids = input_ids[:, :512]\n",
    "        vec = []\n",
    "        with torch.no_grad():\n",
    "            for i in tqdm.tqdm(range((len(input_ids)//num)+1), total =len(input_ids)//num):\n",
    "                start = num * i\n",
    "                end  = num * (i+1)\n",
    "                # 単語ベクトルを計算\n",
    "                outputs = self.model(input_ids[start:end])\n",
    "                vec.append(outputs[0][:, 0, :].data.cpu())\n",
    "        vec = torch.cat(vec, axis=0).detach().numpy().copy()\n",
    "        df_vec = pd.DataFrame(vec).rename(columns=lambda x:f\"title_vector_{x}\")\n",
    "        return df_vec"
   ]
  },
  {
   "cell_type": "code",
   "execution_count": 18,
   "id": "eee7e0e7-fdd3-4535-94de-6d62fb2d0a30",
   "metadata": {},
   "outputs": [
    {
     "name": "stderr",
     "output_type": "stream",
     "text": [
      "Some weights of the model checkpoint at bert-base-uncased were not used when initializing BertModel: ['cls.seq_relationship.weight', 'cls.predictions.bias', 'cls.predictions.transform.LayerNorm.weight', 'cls.seq_relationship.bias', 'cls.predictions.transform.dense.weight', 'cls.predictions.transform.dense.bias', 'cls.predictions.transform.LayerNorm.bias', 'cls.predictions.decoder.weight']\n",
      "- This IS expected if you are initializing BertModel from the checkpoint of a model trained on another task or with another architecture (e.g. initializing a BertForSequenceClassification model from a BertForPreTraining model).\n",
      "- This IS NOT expected if you are initializing BertModel from the checkpoint of a model that you expect to be exactly identical (initializing a BertForSequenceClassification model from a BertForSequenceClassification model).\n",
      "425it [01:08,  6.24it/s]                                                                                                                                                                                           \n"
     ]
    }
   ],
   "source": [
    "get_embedding = get_embedding_representaion(train, 'bert-base-uncased')\n",
    "traindf_vec = get_embedding.get_format(device = device)"
   ]
  },
  {
   "cell_type": "code",
   "execution_count": 19,
   "id": "90e6cf4d-d857-46e9-a4c2-8c85858aa1ef",
   "metadata": {},
   "outputs": [
    {
     "name": "stderr",
     "output_type": "stream",
     "text": [
      "Some weights of the model checkpoint at bert-base-uncased were not used when initializing BertModel: ['cls.seq_relationship.weight', 'cls.predictions.bias', 'cls.predictions.transform.LayerNorm.weight', 'cls.seq_relationship.bias', 'cls.predictions.transform.dense.weight', 'cls.predictions.transform.dense.bias', 'cls.predictions.transform.LayerNorm.bias', 'cls.predictions.decoder.weight']\n",
      "- This IS expected if you are initializing BertModel from the checkpoint of a model trained on another task or with another architecture (e.g. initializing a BertForSequenceClassification model from a BertForPreTraining model).\n",
      "- This IS NOT expected if you are initializing BertModel from the checkpoint of a model that you expect to be exactly identical (initializing a BertForSequenceClassification model from a BertForSequenceClassification model).\n",
      "639it [02:10,  4.89it/s]                                                                                                                                                                                           \n"
     ]
    }
   ],
   "source": [
    "get_embedding = get_embedding_representaion(test, 'bert-base-uncased')\n",
    "testdf_vec = get_embedding.get_format(device = device)"
   ]
  },
  {
   "cell_type": "code",
   "execution_count": 20,
   "id": "a097c0a6-783c-4f2f-8013-867f23f73ca9",
   "metadata": {},
   "outputs": [],
   "source": [
    "train_df = pd.concat([train, traindf_vec], axis = 1)\n",
    "test_df = pd.concat([test, testdf_vec], axis = 1)"
   ]
  },
  {
   "cell_type": "code",
   "execution_count": 26,
   "id": "621e3728-f3ab-4c35-ae4a-8c2912144f25",
   "metadata": {},
   "outputs": [],
   "source": [
    "#保存先のディレクトリ作成\n",
    "save_dir = \"./dataset/data2\"\n",
    "# os.makedirs(save_dir)\n",
    "train_df.to_csv(os.path.join(save_dir, 'train.csv'))\n",
    "test_df.to_csv(os.path.join(save_dir, 'test.csv'))"
   ]
  },
  {
   "cell_type": "code",
   "execution_count": null,
   "id": "a98263fd-0726-4d0e-b016-7d7c573b69b8",
   "metadata": {},
   "outputs": [],
   "source": []
  }
 ],
 "metadata": {
  "kernelspec": {
   "display_name": "signate_env",
   "language": "python",
   "name": "signate_env"
  },
  "language_info": {
   "codemirror_mode": {
    "name": "ipython",
    "version": 3
   },
   "file_extension": ".py",
   "mimetype": "text/x-python",
   "name": "python",
   "nbconvert_exporter": "python",
   "pygments_lexer": "ipython3",
   "version": "3.9.6"
  }
 },
 "nbformat": 4,
 "nbformat_minor": 5
}
