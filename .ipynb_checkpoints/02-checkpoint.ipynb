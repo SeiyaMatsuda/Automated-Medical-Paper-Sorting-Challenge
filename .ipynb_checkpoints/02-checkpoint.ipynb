{
 "cells": [
  {
   "cell_type": "markdown",
   "id": "b24625a1-7ba1-47b4-b1ab-211d6459c363",
   "metadata": {
    "jp-MarkdownHeadingCollapsed": true,
    "tags": []
   },
   "source": [
    "1. データの読み込み"
   ]
  },
  {
   "cell_type": "code",
   "execution_count": 1,
   "id": "ed6cdea4",
   "metadata": {},
   "outputs": [],
   "source": [
    "import math\n",
    "import random\n",
    "import time\n",
    "import warnings\n",
    "import numpy as np\n",
    "import pandas as pd\n",
    "import torch\n",
    "import torch.nn as nn\n",
    "import os\n",
    "import transformers as T\n",
    "from pathlib import Path\n",
    "from sklearn.metrics import fbeta_score\n",
    "from sklearn.model_selection import StratifiedKFold\n",
    "from torch.utils.data import DataLoader, Dataset\n",
    "from tqdm.notebook import tqdm"
   ]
  },
  {
   "cell_type": "code",
   "execution_count": 2,
   "id": "23e20c63",
   "metadata": {},
   "outputs": [],
   "source": [
    "warnings.filterwarnings(\"ignore\")"
   ]
  },
  {
   "cell_type": "code",
   "execution_count": 22,
   "id": "74829744-95a2-4e2a-b2ec-5401640d6b99",
   "metadata": {},
   "outputs": [
    {
     "name": "stdout",
     "output_type": "stream",
     "text": [
      "cuda\n"
     ]
    }
   ],
   "source": [
    "device = torch.device(\"cuda\" if torch.cuda.is_available() else \"cpu\")\n",
    "print(device)"
   ]
  },
  {
   "cell_type": "code",
   "execution_count": 4,
   "id": "42ab13eb-6570-472c-97ee-eab8f5821e79",
   "metadata": {},
   "outputs": [],
   "source": [
    "def seed_torch(seed=42):\n",
    "    random.seed(seed)\n",
    "    os.environ[\"PYTHONHASHSEED\"] = str(seed)\n",
    "    np.random.seed(seed)\n",
    "    torch.manual_seed(seed)\n",
    "    torch.cuda.manual_seed(seed)\n",
    "    torch.cuda.manual_seed_all(seed)\n",
    "    torch.backends.cudnn.deterministic = True\n",
    "\n",
    "seed = 471\n",
    "seed_torch(seed)"
   ]
  },
  {
   "cell_type": "code",
   "execution_count": 5,
   "id": "8519c10e-d167-4886-a9c8-8d089db471f8",
   "metadata": {},
   "outputs": [],
   "source": [
    "DATA_DIR = './dataset/data1'\n",
    "OUTPUT_DIR = './result/result1'\n",
    "if not os.path.isdir(OUTPUT_DIR):\n",
    "    os.makedirs(OUTPUT_DIR)"
   ]
  },
  {
   "cell_type": "code",
   "execution_count": 6,
   "id": "13dd61c3-7492-47af-b121-084f344fcdc6",
   "metadata": {
    "tags": []
   },
   "outputs": [],
   "source": [
    "def init_logger(log_file=OUTPUT_DIR + \"/train.log\"):\n",
    "    from logging import INFO, FileHandler, Formatter, StreamHandler, getLogger\n",
    "\n",
    "    logger = getLogger(__name__)\n",
    "    logger.setLevel(INFO)\n",
    "    handler1 = StreamHandler()\n",
    "    handler1.setFormatter(Formatter(\"%(message)s\"))\n",
    "    handler2 = FileHandler(filename=log_file)\n",
    "    handler2.setFormatter(Formatter(\"%(message)s\"))\n",
    "    logger.addHandler(handler1)\n",
    "    logger.addHandler(handler2)\n",
    "    return logger\n",
    "\n",
    "LOGGER = init_logger()"
   ]
  },
  {
   "cell_type": "code",
   "execution_count": 7,
   "id": "db7afb3d-e9f1-4e87-a78d-488bfa71db82",
   "metadata": {},
   "outputs": [],
   "source": [
    "train = pd.read_csv(DATA_DIR  +\"/train.csv\", index_col=0)\n",
    "test = pd.read_csv(DATA_DIR + \"/test.csv\", index_col=0)\n",
    "sub = pd.read_csv(DATA_DIR + \"/sample_submit.csv\", header=None)\n",
    "sub.columns = [\"id\", \"judgement\"]"
   ]
  },
  {
   "cell_type": "code",
   "execution_count": 24,
   "id": "fedf8ad9-dfd8-45e5-908b-06c115093baf",
   "metadata": {},
   "outputs": [
    {
     "name": "stdout",
     "output_type": "stream",
     "text": [
      "0.023282372444280715\n"
     ]
    }
   ],
   "source": [
    "# この値を境に、モデルの出力を 0 と 1 にします。\n",
    "border = len(train[train[\"judgement\"] == 1]) / len(train[\"judgement\"])\n",
    "print(border)"
   ]
  },
  {
   "cell_type": "code",
   "execution_count": 10,
   "id": "71388fe1-6635-473a-bd81-01384a2f2aee",
   "metadata": {},
   "outputs": [],
   "source": [
    "def get_train_data(train):\n",
    "\n",
    "    # 交差検証 用の番号を振ります。\n",
    "    Fold = StratifiedKFold(n_splits=5, shuffle=True, random_state=seed)\n",
    "    for n, (train_index, val_index) in enumerate(Fold.split(train, train[\"judgement\"])):\n",
    "        train.loc[val_index, \"fold\"] = int(n)\n",
    "    train[\"fold\"] = train[\"fold\"].astype(np.uint8)\n",
    "\n",
    "    return train"
   ]
  },
  {
   "cell_type": "code",
   "execution_count": 11,
   "id": "fe0073b6-a0a6-44a2-9029-fcd48817e793",
   "metadata": {},
   "outputs": [],
   "source": [
    "def get_test_data(test):\n",
    "    return test"
   ]
  },
  {
   "cell_type": "code",
   "execution_count": 12,
   "id": "cccf40ac-ca6f-475e-a0ab-1740b1841310",
   "metadata": {},
   "outputs": [],
   "source": [
    "train = get_train_data(train)"
   ]
  },
  {
   "cell_type": "code",
   "execution_count": 13,
   "id": "92dad8e7-a220-4b5f-ab7d-6dd5f11345e4",
   "metadata": {},
   "outputs": [],
   "source": [
    "class BaseDataset(Dataset):\n",
    "    def __init__(self, df, model_name, include_labels=True):\n",
    "        tokenizer = T.BertTokenizer.from_pretrained(model_name)\n",
    "\n",
    "        self.df = df\n",
    "        self.include_labels = include_labels\n",
    "\n",
    "        self.title = df[\"title\"].tolist()\n",
    "        self.encoded = tokenizer.batch_encode_plus(\n",
    "            self.title,\n",
    "            padding = 'max_length',            \n",
    "            max_length = 72,\n",
    "            truncation = True,\n",
    "            return_attention_mask=True\n",
    "        )\n",
    "        \n",
    "        if self.include_labels:\n",
    "            self.labels = df[\"judgement\"].values\n",
    "\n",
    "    def __len__(self):\n",
    "        return len(self.df)\n",
    "\n",
    "    def __getitem__(self, idx):\n",
    "        input_ids = torch.tensor(self.encoded['input_ids'][idx])\n",
    "        attention_mask = torch.tensor(self.encoded['attention_mask'][idx])\n",
    "\n",
    "        if self.include_labels:\n",
    "            label = torch.tensor(self.labels[idx]).float()\n",
    "            return input_ids, attention_mask, label\n",
    "\n",
    "        return input_ids, attention_mask"
   ]
  },
  {
   "cell_type": "code",
   "execution_count": 14,
   "id": "d20a5d76-0d5c-4255-ab0c-aa0a0fd7be24",
   "metadata": {},
   "outputs": [],
   "source": [
    "class BaseModel(nn.Module):\n",
    "    def __init__(self, model_name):\n",
    "        super().__init__()\n",
    "\n",
    "        self.model = T.BertForSequenceClassification.from_pretrained(model_name, num_labels=1)\n",
    "        self.sigmoid = nn.Sigmoid()\n",
    "\n",
    "    def forward(self, input_ids, attention_mask):\n",
    "        out = self.model(input_ids=input_ids, attention_mask=attention_mask)\n",
    "        out = self.sigmoid(out.logits).squeeze()\n",
    "\n",
    "        return out"
   ]
  },
  {
   "cell_type": "code",
   "execution_count": 15,
   "id": "cceceab6-1098-4296-b9f7-89a9b3b2fe08",
   "metadata": {},
   "outputs": [],
   "source": [
    "class AverageMeter(object):\n",
    "    \"\"\"Computes and stores the average and current value\"\"\"\n",
    "\n",
    "    def __init__(self):\n",
    "        self.reset()\n",
    "\n",
    "    def reset(self):\n",
    "        self.val = 0\n",
    "        self.avg = 0\n",
    "        self.sum = 0\n",
    "        self.count = 0\n",
    "\n",
    "    def update(self, val, n=1):\n",
    "        self.val = val\n",
    "        self.sum += val * n\n",
    "        self.count += n\n",
    "        self.avg = self.sum / self.count\n",
    "\n",
    "\n",
    "def asMinutes(s):\n",
    "    m = math.floor(s / 60)\n",
    "    s -= m * 60\n",
    "    return \"%dm %ds\" % (m, s)\n",
    "\n",
    "\n",
    "def timeSince(since, percent):\n",
    "    now = time.time()\n",
    "    s = now - since\n",
    "    es = s / (percent)\n",
    "    rs = es - s\n",
    "    return \"%s (remain %s)\" % (asMinutes(s), asMinutes(rs))"
   ]
  },
  {
   "cell_type": "code",
   "execution_count": 16,
   "id": "b66bbde8-0a88-4bc7-9aab-1e3e2d87be18",
   "metadata": {},
   "outputs": [],
   "source": [
    "def train_fn(train_loader, model, criterion, optimizer, epoch, device):\n",
    "    start = end = time.time()\n",
    "    losses = AverageMeter()\n",
    "\n",
    "    # switch to train mode\n",
    "    model.train()\n",
    "\n",
    "    for step, (input_ids, attention_mask, labels) in enumerate(train_loader):\n",
    "        optimizer.zero_grad()\n",
    "\n",
    "        input_ids = input_ids.to(device)\n",
    "        attention_mask = attention_mask.to(device)\n",
    "        labels = labels.to(device)\n",
    "        batch_size = labels.size(0)\n",
    "\n",
    "        y_preds = model(input_ids, attention_mask)\n",
    "\n",
    "        loss = criterion(y_preds, labels)\n",
    "\n",
    "        # record loss\n",
    "        losses.update(loss.item(), batch_size)\n",
    "        loss.backward()\n",
    "\n",
    "        optimizer.step()\n",
    "\n",
    "        if step % 100 == 0 or step == (len(train_loader) - 1):\n",
    "            print(\n",
    "                f\"Epoch: [{epoch + 1}][{step}/{len(train_loader)}] \"\n",
    "                f\"Elapsed {timeSince(start, float(step + 1) / len(train_loader)):s} \"\n",
    "                f\"Loss: {losses.avg:.4f} \"\n",
    "            )\n",
    "\n",
    "    return losses.avg"
   ]
  },
  {
   "cell_type": "code",
   "execution_count": 17,
   "id": "e3eb1b26-4538-4a05-b4d6-16165bdc49c2",
   "metadata": {},
   "outputs": [],
   "source": [
    "def valid_fn(valid_loader, model, criterion, device):\n",
    "    start = end = time.time()\n",
    "    losses = AverageMeter()\n",
    "\n",
    "    # switch to evaluation mode\n",
    "    model.eval()\n",
    "    preds = []\n",
    "\n",
    "    for step, (input_ids, attention_mask, labels) in enumerate(valid_loader):\n",
    "        input_ids = input_ids.to(device)\n",
    "        attention_mask = attention_mask.to(device)\n",
    "        labels = labels.to(device)\n",
    "        batch_size = labels.size(0)\n",
    "\n",
    "        # compute loss\n",
    "        with torch.no_grad():\n",
    "            y_preds = model(input_ids, attention_mask)\n",
    "\n",
    "        loss = criterion(y_preds, labels)\n",
    "        losses.update(loss.item(), batch_size)\n",
    "\n",
    "        # record score\n",
    "        preds.append(y_preds.to(\"cpu\").numpy())\n",
    "\n",
    "        if step % 100 == 0 or step == (len(valid_loader) - 1):\n",
    "            print(\n",
    "                f\"EVAL: [{step}/{len(valid_loader)}] \"\n",
    "                f\"Elapsed {timeSince(start, float(step + 1) / len(valid_loader)):s} \"\n",
    "                f\"Loss: {losses.avg:.4f} \"\n",
    "            )\n",
    "\n",
    "    predictions = np.concatenate(preds)\n",
    "    return losses.avg, predictions"
   ]
  },
  {
   "cell_type": "code",
   "execution_count": 18,
   "id": "1dc9ca74-bc5f-4fb7-89b8-3d287df9dbd9",
   "metadata": {},
   "outputs": [],
   "source": [
    "def train_loop(train, fold):\n",
    "\n",
    "    LOGGER.info(f\"========== fold: {fold} training ==========\")\n",
    "\n",
    "    # ====================================================\n",
    "    # Data Loader\n",
    "    # ====================================================\n",
    "    trn_idx = train[train[\"fold\"] != fold].index\n",
    "    val_idx = train[train[\"fold\"] == fold].index\n",
    "\n",
    "    train_folds = train.loc[trn_idx].reset_index(drop=True)\n",
    "    valid_folds = train.loc[val_idx].reset_index(drop=True)\n",
    "\n",
    "    train_dataset = BaseDataset(train_folds, \"bert-base-uncased\")\n",
    "    valid_dataset = BaseDataset(valid_folds, \"bert-base-uncased\")\n",
    "\n",
    "    train_loader = DataLoader(\n",
    "        train_dataset,\n",
    "        batch_size=16,\n",
    "        shuffle=True,\n",
    "        num_workers=4,\n",
    "        pin_memory=True,\n",
    "        drop_last=True,\n",
    "    )\n",
    "    valid_loader = DataLoader(\n",
    "        valid_dataset,\n",
    "        batch_size=16,\n",
    "        shuffle=False,\n",
    "        num_workers=4,\n",
    "        pin_memory=True,\n",
    "        drop_last=False,\n",
    "    )\n",
    "\n",
    "    # ====================================================\n",
    "    # Model\n",
    "    # ====================================================\n",
    "    model = BaseModel(\"bert-base-uncased\")\n",
    "    model.to(device)\n",
    "\n",
    "    optimizer = T.AdamW(model.parameters(), lr=2e-5)\n",
    "\n",
    "    criterion = nn.BCELoss()\n",
    "\n",
    "    # ====================================================\n",
    "    # Loop\n",
    "    # ====================================================\n",
    "    best_score = -1\n",
    "    best_loss = np.inf\n",
    "\n",
    "    for epoch in range(3):\n",
    "        start_time = time.time()\n",
    "        \n",
    "        # train\n",
    "        avg_loss = train_fn(train_loader, model, criterion, optimizer, epoch, device)\n",
    "\n",
    "        # eval\n",
    "        avg_val_loss, preds = valid_fn(valid_loader, model, criterion, device)\n",
    "        valid_labels = valid_folds[\"judgement\"].values\n",
    "\n",
    "        # scoring\n",
    "        score = fbeta_score(valid_labels, np.where(preds < border, 0, 1), beta=7.0)\n",
    "\n",
    "        elapsed = time.time() - start_time\n",
    "        LOGGER.info(\n",
    "            f\"Epoch {epoch+1} - avg_train_loss: {avg_loss:.4f}  avg_val_loss: {avg_val_loss:.4f}  time: {elapsed:.0f}s\"\n",
    "        )\n",
    "        LOGGER.info(f\"Epoch {epoch+1} - Score: {score}\")\n",
    "\n",
    "        if score > best_score:\n",
    "            best_score = score\n",
    "            LOGGER.info(f\"Epoch {epoch+1} - Save Best Score: {best_score:.4f} Model\")\n",
    "            torch.save(\n",
    "                {\"model\": model.state_dict(), \"preds\": preds}, OUTPUT_DIR + f\"bert-base-uncased_fold{fold}_best.pth\"\n",
    "            )\n",
    "\n",
    "    check_point = torch.load(OUTPUT_DIR + f\"bert-base-uncased_fold{fold}_best.pth\")\n",
    "\n",
    "    valid_folds[\"preds\"] = check_point[\"preds\"]\n",
    "\n",
    "    return valid_folds"
   ]
  },
  {
   "cell_type": "code",
   "execution_count": 19,
   "id": "7a7303c8-8caa-4ca8-8824-450ecf406ff5",
   "metadata": {},
   "outputs": [],
   "source": [
    "def get_result(result_df):\n",
    "    preds = result_df[\"preds\"].values\n",
    "    labels = result_df[\"judgement\"].values\n",
    "    score = fbeta_score(labels, np.where(preds < border, 0, 1), beta=7.0)\n",
    "    LOGGER.info(f\"Score: {score:<.5f}\")"
   ]
  },
  {
   "cell_type": "code",
   "execution_count": 20,
   "id": "7e7f1df6-599e-462f-87c9-320c5362a71c",
   "metadata": {},
   "outputs": [],
   "source": [
    "def main():\n",
    "    # Training\n",
    "    oof_df = pd.DataFrame()\n",
    "    for fold in range(5):\n",
    "        _oof_df = train_loop(train, fold)\n",
    "        oof_df = pd.concat([oof_df, _oof_df])\n",
    "        LOGGER.info(f\"========== fold: {fold} result ==========\")\n",
    "        get_result(_oof_df)\n",
    "        \n",
    "    # CV result\n",
    "    LOGGER.info(f\"========== CV ==========\")\n",
    "    get_result(oof_df)\n",
    "    \n",
    "    # Save OOF result\n",
    "    oof_df.to_csv(OUTPUT_DIR + \"oof_df.csv\", index=False)\n",
    "\n",
    "    # Inference\n",
    "    predictions = inference()\n",
    "    predictions = np.where(predictions < border, 0, 1)\n",
    "\n",
    "    # submission\n",
    "    sub[\"judgement\"] = predictions\n",
    "    sub.to_csv(OUTPUT_DIR + \"submission.csv\", index=False, header=False)"
   ]
  },
  {
   "cell_type": "code",
   "execution_count": 25,
   "id": "d4302906-8e71-4098-b3b0-592cf220063d",
   "metadata": {},
   "outputs": [
    {
     "name": "stderr",
     "output_type": "stream",
     "text": [
      "========== fold: 0 training ==========\n",
      "Some weights of the model checkpoint at bert-base-uncased were not used when initializing BertForSequenceClassification: ['cls.predictions.transform.dense.weight', 'cls.seq_relationship.bias', 'cls.predictions.bias', 'cls.predictions.decoder.weight', 'cls.predictions.transform.LayerNorm.weight', 'cls.seq_relationship.weight', 'cls.predictions.transform.dense.bias', 'cls.predictions.transform.LayerNorm.bias']\n",
      "- This IS expected if you are initializing BertForSequenceClassification from the checkpoint of a model trained on another task or with another architecture (e.g. initializing a BertForSequenceClassification model from a BertForPreTraining model).\n",
      "- This IS NOT expected if you are initializing BertForSequenceClassification from the checkpoint of a model that you expect to be exactly identical (initializing a BertForSequenceClassification model from a BertForSequenceClassification model).\n",
      "Some weights of BertForSequenceClassification were not initialized from the model checkpoint at bert-base-uncased and are newly initialized: ['classifier.weight', 'classifier.bias']\n",
      "You should probably TRAIN this model on a down-stream task to be able to use it for predictions and inference.\n",
      "[W pthreadpool-cpp.cc:90] Warning: Leaking Caffe2 thread-pool after fork. (function pthreadpool)\n",
      "[W pthreadpool-cpp.cc:90] Warning: Leaking Caffe2 thread-pool after fork. (function pthreadpool)\n",
      "[W pthreadpool-cpp.cc:90] Warning: Leaking Caffe2 thread-pool after fork. (function pthreadpool)\n",
      "[W pthreadpool-cpp.cc:90] Warning: Leaking Caffe2 thread-pool after fork. (function pthreadpool)\n"
     ]
    },
    {
     "name": "stdout",
     "output_type": "stream",
     "text": [
      "Epoch: [1][0/1357] Elapsed 0m 0s (remain 5m 4s) Loss: 0.7050 \n",
      "Epoch: [1][100/1357] Elapsed 0m 10s (remain 2m 8s) Loss: 0.1698 \n",
      "Epoch: [1][200/1357] Elapsed 0m 20s (remain 1m 57s) Loss: 0.1324 \n",
      "Epoch: [1][300/1357] Elapsed 0m 30s (remain 1m 47s) Loss: 0.1181 \n",
      "Epoch: [1][400/1357] Elapsed 0m 41s (remain 1m 38s) Loss: 0.1082 \n",
      "Epoch: [1][500/1357] Elapsed 0m 52s (remain 1m 29s) Loss: 0.1021 \n",
      "Epoch: [1][600/1357] Elapsed 1m 3s (remain 1m 19s) Loss: 0.1008 \n",
      "Epoch: [1][700/1357] Elapsed 1m 14s (remain 1m 9s) Loss: 0.0984 \n",
      "Epoch: [1][800/1357] Elapsed 1m 24s (remain 0m 58s) Loss: 0.0944 \n",
      "Epoch: [1][900/1357] Elapsed 1m 35s (remain 0m 48s) Loss: 0.0912 \n",
      "Epoch: [1][1000/1357] Elapsed 1m 46s (remain 0m 37s) Loss: 0.0877 \n",
      "Epoch: [1][1100/1357] Elapsed 1m 57s (remain 0m 27s) Loss: 0.0879 \n",
      "Epoch: [1][1200/1357] Elapsed 2m 8s (remain 0m 16s) Loss: 0.0870 \n",
      "Epoch: [1][1300/1357] Elapsed 2m 19s (remain 0m 5s) Loss: 0.0850 \n",
      "Epoch: [1][1356/1357] Elapsed 2m 25s (remain 0m 0s) Loss: 0.0840 \n"
     ]
    },
    {
     "name": "stderr",
     "output_type": "stream",
     "text": [
      "[W pthreadpool-cpp.cc:90] Warning: Leaking Caffe2 thread-pool after fork. (function pthreadpool)\n",
      "[W pthreadpool-cpp.cc:90] Warning: Leaking Caffe2 thread-pool after fork. (function pthreadpool)\n"
     ]
    },
    {
     "name": "stdout",
     "output_type": "stream",
     "text": [
      "EVAL: [0/340] Elapsed 0m 0s (remain 0m 49s) Loss: 0.0065 \n"
     ]
    },
    {
     "name": "stderr",
     "output_type": "stream",
     "text": [
      "[W pthreadpool-cpp.cc:90] Warning: Leaking Caffe2 thread-pool after fork. (function pthreadpool)\n",
      "[W pthreadpool-cpp.cc:90] Warning: Leaking Caffe2 thread-pool after fork. (function pthreadpool)\n"
     ]
    },
    {
     "name": "stdout",
     "output_type": "stream",
     "text": [
      "EVAL: [100/340] Elapsed 0m 3s (remain 0m 7s) Loss: 0.0550 \n",
      "EVAL: [200/340] Elapsed 0m 6s (remain 0m 4s) Loss: 0.0574 \n",
      "EVAL: [300/340] Elapsed 0m 9s (remain 0m 1s) Loss: 0.0586 \n"
     ]
    },
    {
     "name": "stderr",
     "output_type": "stream",
     "text": [
      "Epoch 1 - avg_train_loss: 0.0840  avg_val_loss: 0.0586  time: 156s\n",
      "Epoch 1 - Score: 0.8382289726321823\n",
      "Epoch 1 - Save Best Score: 0.8382 Model\n"
     ]
    },
    {
     "name": "stdout",
     "output_type": "stream",
     "text": [
      "EVAL: [339/340] Elapsed 0m 10s (remain 0m 0s) Loss: 0.0586 \n"
     ]
    },
    {
     "name": "stderr",
     "output_type": "stream",
     "text": [
      "[W pthreadpool-cpp.cc:90] Warning: Leaking Caffe2 thread-pool after fork. (function pthreadpool)\n",
      "[W pthreadpool-cpp.cc:90] Warning: Leaking Caffe2 thread-pool after fork. (function pthreadpool)\n",
      "[W pthreadpool-cpp.cc:90] Warning: Leaking Caffe2 thread-pool after fork. (function pthreadpool)\n",
      "[W pthreadpool-cpp.cc:90] Warning: Leaking Caffe2 thread-pool after fork. (function pthreadpool)\n"
     ]
    },
    {
     "name": "stdout",
     "output_type": "stream",
     "text": [
      "Epoch: [2][0/1357] Elapsed 0m 0s (remain 4m 51s) Loss: 0.0116 \n",
      "Epoch: [2][100/1357] Elapsed 0m 10s (remain 2m 16s) Loss: 0.0361 \n",
      "Epoch: [2][200/1357] Elapsed 0m 21s (remain 2m 5s) Loss: 0.0383 \n",
      "Epoch: [2][300/1357] Elapsed 0m 32s (remain 1m 53s) Loss: 0.0389 \n",
      "Epoch: [2][400/1357] Elapsed 0m 43s (remain 1m 42s) Loss: 0.0397 \n",
      "Epoch: [2][500/1357] Elapsed 0m 53s (remain 1m 30s) Loss: 0.0427 \n",
      "Epoch: [2][600/1357] Elapsed 1m 3s (remain 1m 20s) Loss: 0.0454 \n",
      "Epoch: [2][700/1357] Elapsed 1m 13s (remain 1m 9s) Loss: 0.0448 \n",
      "Epoch: [2][800/1357] Elapsed 1m 23s (remain 0m 58s) Loss: 0.0452 \n",
      "Epoch: [2][900/1357] Elapsed 1m 33s (remain 0m 47s) Loss: 0.0458 \n",
      "Epoch: [2][1000/1357] Elapsed 1m 43s (remain 0m 36s) Loss: 0.0457 \n",
      "Epoch: [2][1100/1357] Elapsed 1m 53s (remain 0m 26s) Loss: 0.0467 \n",
      "Epoch: [2][1200/1357] Elapsed 2m 3s (remain 0m 16s) Loss: 0.0460 \n",
      "Epoch: [2][1300/1357] Elapsed 2m 13s (remain 0m 5s) Loss: 0.0453 \n"
     ]
    },
    {
     "name": "stderr",
     "output_type": "stream",
     "text": [
      "[W pthreadpool-cpp.cc:90] Warning: Leaking Caffe2 thread-pool after fork. (function pthreadpool)\n",
      "[W pthreadpool-cpp.cc:90] Warning: Leaking Caffe2 thread-pool after fork. (function pthreadpool)\n"
     ]
    },
    {
     "name": "stdout",
     "output_type": "stream",
     "text": [
      "Epoch: [2][1356/1357] Elapsed 2m 19s (remain 0m 0s) Loss: 0.0447 \n"
     ]
    },
    {
     "name": "stderr",
     "output_type": "stream",
     "text": [
      "[W pthreadpool-cpp.cc:90] Warning: Leaking Caffe2 thread-pool after fork. (function pthreadpool)\n",
      "[W pthreadpool-cpp.cc:90] Warning: Leaking Caffe2 thread-pool after fork. (function pthreadpool)\n"
     ]
    },
    {
     "name": "stdout",
     "output_type": "stream",
     "text": [
      "EVAL: [0/340] Elapsed 0m 0s (remain 0m 48s) Loss: 0.0010 \n"
     ]
    },
    {
     "name": "stderr",
     "output_type": "stream",
     "text": [
      "[W pthreadpool-cpp.cc:90] Warning: Leaking Caffe2 thread-pool after fork. (function pthreadpool)\n",
      "[W pthreadpool-cpp.cc:90] Warning: Leaking Caffe2 thread-pool after fork. (function pthreadpool)\n"
     ]
    },
    {
     "name": "stdout",
     "output_type": "stream",
     "text": [
      "EVAL: [100/340] Elapsed 0m 3s (remain 0m 7s) Loss: 0.0542 \n",
      "EVAL: [200/340] Elapsed 0m 6s (remain 0m 4s) Loss: 0.0514 \n",
      "EVAL: [300/340] Elapsed 0m 9s (remain 0m 1s) Loss: 0.0523 \n"
     ]
    },
    {
     "name": "stderr",
     "output_type": "stream",
     "text": [
      "[W pthreadpool-cpp.cc:90] Warning: Leaking Caffe2 thread-pool after fork. (function pthreadpool)\n",
      "Epoch 2 - avg_train_loss: 0.0447  avg_val_loss: 0.0532  time: 150s\n",
      "Epoch 2 - Score: 0.8319340558693329\n"
     ]
    },
    {
     "name": "stdout",
     "output_type": "stream",
     "text": [
      "EVAL: [339/340] Elapsed 0m 10s (remain 0m 0s) Loss: 0.0532 \n"
     ]
    },
    {
     "name": "stderr",
     "output_type": "stream",
     "text": [
      "[W pthreadpool-cpp.cc:90] Warning: Leaking Caffe2 thread-pool after fork. (function pthreadpool)\n",
      "[W pthreadpool-cpp.cc:90] Warning: Leaking Caffe2 thread-pool after fork. (function pthreadpool)\n",
      "[W pthreadpool-cpp.cc:90] Warning: Leaking Caffe2 thread-pool after fork. (function pthreadpool)\n",
      "[W pthreadpool-cpp.cc:90] Warning: Leaking Caffe2 thread-pool after fork. (function pthreadpool)\n"
     ]
    },
    {
     "name": "stdout",
     "output_type": "stream",
     "text": [
      "Epoch: [3][0/1357] Elapsed 0m 0s (remain 4m 32s) Loss: 0.0010 \n",
      "Epoch: [3][100/1357] Elapsed 0m 10s (remain 2m 6s) Loss: 0.0236 \n",
      "Epoch: [3][200/1357] Elapsed 0m 20s (remain 1m 56s) Loss: 0.0296 \n",
      "Epoch: [3][300/1357] Elapsed 0m 30s (remain 1m 46s) Loss: 0.0280 \n",
      "Epoch: [3][400/1357] Elapsed 0m 40s (remain 1m 36s) Loss: 0.0270 \n",
      "Epoch: [3][500/1357] Elapsed 0m 50s (remain 1m 26s) Loss: 0.0278 \n",
      "Epoch: [3][600/1357] Elapsed 1m 0s (remain 1m 16s) Loss: 0.0286 \n",
      "Epoch: [3][700/1357] Elapsed 1m 10s (remain 1m 5s) Loss: 0.0269 \n",
      "Epoch: [3][800/1357] Elapsed 1m 20s (remain 0m 55s) Loss: 0.0272 \n",
      "Epoch: [3][900/1357] Elapsed 1m 30s (remain 0m 45s) Loss: 0.0278 \n",
      "Epoch: [3][1000/1357] Elapsed 1m 40s (remain 0m 35s) Loss: 0.0276 \n",
      "Epoch: [3][1100/1357] Elapsed 1m 50s (remain 0m 25s) Loss: 0.0264 \n",
      "Epoch: [3][1200/1357] Elapsed 2m 0s (remain 0m 15s) Loss: 0.0273 \n",
      "Epoch: [3][1300/1357] Elapsed 2m 10s (remain 0m 5s) Loss: 0.0274 \n"
     ]
    },
    {
     "name": "stderr",
     "output_type": "stream",
     "text": [
      "[W pthreadpool-cpp.cc:90] Warning: Leaking Caffe2 thread-pool after fork. (function pthreadpool)\n"
     ]
    },
    {
     "name": "stdout",
     "output_type": "stream",
     "text": [
      "Epoch: [3][1356/1357] Elapsed 2m 16s (remain 0m 0s) Loss: 0.0284 \n"
     ]
    },
    {
     "name": "stderr",
     "output_type": "stream",
     "text": [
      "[W pthreadpool-cpp.cc:90] Warning: Leaking Caffe2 thread-pool after fork. (function pthreadpool)\n",
      "[W pthreadpool-cpp.cc:90] Warning: Leaking Caffe2 thread-pool after fork. (function pthreadpool)\n"
     ]
    },
    {
     "name": "stdout",
     "output_type": "stream",
     "text": [
      "EVAL: [0/340] Elapsed 0m 0s (remain 0m 48s) Loss: 0.0300 \n"
     ]
    },
    {
     "name": "stderr",
     "output_type": "stream",
     "text": [
      "[W pthreadpool-cpp.cc:90] Warning: Leaking Caffe2 thread-pool after fork. (function pthreadpool)\n",
      "[W pthreadpool-cpp.cc:90] Warning: Leaking Caffe2 thread-pool after fork. (function pthreadpool)\n"
     ]
    },
    {
     "name": "stdout",
     "output_type": "stream",
     "text": [
      "EVAL: [100/340] Elapsed 0m 3s (remain 0m 7s) Loss: 0.0692 \n",
      "EVAL: [200/340] Elapsed 0m 6s (remain 0m 4s) Loss: 0.0692 \n",
      "EVAL: [300/340] Elapsed 0m 9s (remain 0m 1s) Loss: 0.0658 \n"
     ]
    },
    {
     "name": "stderr",
     "output_type": "stream",
     "text": [
      "Epoch 3 - avg_train_loss: 0.0284  avg_val_loss: 0.0665  time: 147s\n",
      "Epoch 3 - Score: 0.7801108194808982\n"
     ]
    },
    {
     "name": "stdout",
     "output_type": "stream",
     "text": [
      "EVAL: [339/340] Elapsed 0m 10s (remain 0m 0s) Loss: 0.0665 \n"
     ]
    },
    {
     "name": "stderr",
     "output_type": "stream",
     "text": [
      "========== fold: 0 result ==========\n",
      "Score: 0.83823\n",
      "========== fold: 1 training ==========\n",
      "Some weights of the model checkpoint at bert-base-uncased were not used when initializing BertForSequenceClassification: ['cls.predictions.transform.dense.weight', 'cls.seq_relationship.bias', 'cls.predictions.bias', 'cls.predictions.decoder.weight', 'cls.predictions.transform.LayerNorm.weight', 'cls.seq_relationship.weight', 'cls.predictions.transform.dense.bias', 'cls.predictions.transform.LayerNorm.bias']\n",
      "- This IS expected if you are initializing BertForSequenceClassification from the checkpoint of a model trained on another task or with another architecture (e.g. initializing a BertForSequenceClassification model from a BertForPreTraining model).\n",
      "- This IS NOT expected if you are initializing BertForSequenceClassification from the checkpoint of a model that you expect to be exactly identical (initializing a BertForSequenceClassification model from a BertForSequenceClassification model).\n",
      "Some weights of BertForSequenceClassification were not initialized from the model checkpoint at bert-base-uncased and are newly initialized: ['classifier.weight', 'classifier.bias']\n",
      "You should probably TRAIN this model on a down-stream task to be able to use it for predictions and inference.\n",
      "[W pthreadpool-cpp.cc:90] Warning: Leaking Caffe2 thread-pool after fork. (function pthreadpool)\n",
      "[W pthreadpool-cpp.cc:90] Warning: Leaking Caffe2 thread-pool after fork. (function pthreadpool)\n",
      "[W pthreadpool-cpp.cc:90] Warning: Leaking Caffe2 thread-pool after fork. (function pthreadpool)\n",
      "[W pthreadpool-cpp.cc:90] Warning: Leaking Caffe2 thread-pool after fork. (function pthreadpool)\n"
     ]
    },
    {
     "name": "stdout",
     "output_type": "stream",
     "text": [
      "Epoch: [1][0/1357] Elapsed 0m 0s (remain 4m 48s) Loss: 0.9683 \n",
      "Epoch: [1][100/1357] Elapsed 0m 9s (remain 2m 1s) Loss: 0.1642 \n",
      "Epoch: [1][200/1357] Elapsed 0m 19s (remain 1m 51s) Loss: 0.1364 \n",
      "Epoch: [1][300/1357] Elapsed 0m 29s (remain 1m 42s) Loss: 0.1275 \n",
      "Epoch: [1][400/1357] Elapsed 0m 39s (remain 1m 33s) Loss: 0.1179 \n",
      "Epoch: [1][500/1357] Elapsed 0m 49s (remain 1m 23s) Loss: 0.1113 \n",
      "Epoch: [1][600/1357] Elapsed 0m 59s (remain 1m 14s) Loss: 0.1066 \n",
      "Epoch: [1][700/1357] Elapsed 1m 9s (remain 1m 4s) Loss: 0.1032 \n",
      "Epoch: [1][800/1357] Elapsed 1m 19s (remain 0m 54s) Loss: 0.1007 \n",
      "Epoch: [1][900/1357] Elapsed 1m 29s (remain 0m 45s) Loss: 0.0966 \n",
      "Epoch: [1][1000/1357] Elapsed 1m 39s (remain 0m 35s) Loss: 0.0947 \n",
      "Epoch: [1][1100/1357] Elapsed 1m 49s (remain 0m 25s) Loss: 0.0931 \n",
      "Epoch: [1][1200/1357] Elapsed 1m 59s (remain 0m 15s) Loss: 0.0908 \n",
      "Epoch: [1][1300/1357] Elapsed 2m 9s (remain 0m 5s) Loss: 0.0882 \n"
     ]
    },
    {
     "name": "stderr",
     "output_type": "stream",
     "text": [
      "[W pthreadpool-cpp.cc:90] Warning: Leaking Caffe2 thread-pool after fork. (function pthreadpool)\n"
     ]
    },
    {
     "name": "stdout",
     "output_type": "stream",
     "text": [
      "Epoch: [1][1356/1357] Elapsed 2m 14s (remain 0m 0s) Loss: 0.0870 \n"
     ]
    },
    {
     "name": "stderr",
     "output_type": "stream",
     "text": [
      "[W pthreadpool-cpp.cc:90] Warning: Leaking Caffe2 thread-pool after fork. (function pthreadpool)\n",
      "[W pthreadpool-cpp.cc:90] Warning: Leaking Caffe2 thread-pool after fork. (function pthreadpool)\n"
     ]
    },
    {
     "name": "stdout",
     "output_type": "stream",
     "text": [
      "EVAL: [0/340] Elapsed 0m 0s (remain 0m 48s) Loss: 0.2051 \n"
     ]
    },
    {
     "name": "stderr",
     "output_type": "stream",
     "text": [
      "[W pthreadpool-cpp.cc:90] Warning: Leaking Caffe2 thread-pool after fork. (function pthreadpool)\n",
      "[W pthreadpool-cpp.cc:90] Warning: Leaking Caffe2 thread-pool after fork. (function pthreadpool)\n"
     ]
    },
    {
     "name": "stdout",
     "output_type": "stream",
     "text": [
      "EVAL: [100/340] Elapsed 0m 3s (remain 0m 7s) Loss: 0.0722 \n",
      "EVAL: [200/340] Elapsed 0m 6s (remain 0m 4s) Loss: 0.0625 \n",
      "EVAL: [300/340] Elapsed 0m 9s (remain 0m 1s) Loss: 0.0606 \n"
     ]
    },
    {
     "name": "stderr",
     "output_type": "stream",
     "text": [
      "[W pthreadpool-cpp.cc:90] Warning: Leaking Caffe2 thread-pool after fork. (function pthreadpool)\n",
      "Epoch 1 - avg_train_loss: 0.0870  avg_val_loss: 0.0610  time: 145s\n",
      "Epoch 1 - Score: 0.7609668755595345\n",
      "Epoch 1 - Save Best Score: 0.7610 Model\n"
     ]
    },
    {
     "name": "stdout",
     "output_type": "stream",
     "text": [
      "EVAL: [339/340] Elapsed 0m 10s (remain 0m 0s) Loss: 0.0610 \n"
     ]
    },
    {
     "name": "stderr",
     "output_type": "stream",
     "text": [
      "[W pthreadpool-cpp.cc:90] Warning: Leaking Caffe2 thread-pool after fork. (function pthreadpool)\n",
      "[W pthreadpool-cpp.cc:90] Warning: Leaking Caffe2 thread-pool after fork. (function pthreadpool)\n",
      "[W pthreadpool-cpp.cc:90] Warning: Leaking Caffe2 thread-pool after fork. (function pthreadpool)\n",
      "[W pthreadpool-cpp.cc:90] Warning: Leaking Caffe2 thread-pool after fork. (function pthreadpool)\n"
     ]
    },
    {
     "name": "stdout",
     "output_type": "stream",
     "text": [
      "Epoch: [2][0/1357] Elapsed 0m 0s (remain 4m 36s) Loss: 0.0051 \n",
      "Epoch: [2][100/1357] Elapsed 0m 10s (remain 2m 7s) Loss: 0.0612 \n",
      "Epoch: [2][200/1357] Elapsed 0m 20s (remain 1m 56s) Loss: 0.0603 \n",
      "Epoch: [2][300/1357] Elapsed 0m 30s (remain 1m 46s) Loss: 0.0583 \n",
      "Epoch: [2][400/1357] Elapsed 0m 40s (remain 1m 36s) Loss: 0.0548 \n",
      "Epoch: [2][500/1357] Elapsed 0m 50s (remain 1m 26s) Loss: 0.0520 \n",
      "Epoch: [2][600/1357] Elapsed 1m 0s (remain 1m 16s) Loss: 0.0536 \n",
      "Epoch: [2][700/1357] Elapsed 1m 10s (remain 1m 6s) Loss: 0.0521 \n",
      "Epoch: [2][800/1357] Elapsed 1m 20s (remain 0m 55s) Loss: 0.0486 \n",
      "Epoch: [2][900/1357] Elapsed 1m 30s (remain 0m 45s) Loss: 0.0479 \n",
      "Epoch: [2][1000/1357] Elapsed 1m 40s (remain 0m 35s) Loss: 0.0490 \n",
      "Epoch: [2][1100/1357] Elapsed 1m 50s (remain 0m 25s) Loss: 0.0489 \n",
      "Epoch: [2][1200/1357] Elapsed 2m 0s (remain 0m 15s) Loss: 0.0500 \n",
      "Epoch: [2][1300/1357] Elapsed 2m 10s (remain 0m 5s) Loss: 0.0500 \n",
      "Epoch: [2][1356/1357] Elapsed 2m 16s (remain 0m 0s) Loss: 0.0495 \n"
     ]
    },
    {
     "name": "stderr",
     "output_type": "stream",
     "text": [
      "[W pthreadpool-cpp.cc:90] Warning: Leaking Caffe2 thread-pool after fork. (function pthreadpool)\n",
      "[W pthreadpool-cpp.cc:90] Warning: Leaking Caffe2 thread-pool after fork. (function pthreadpool)\n"
     ]
    },
    {
     "name": "stdout",
     "output_type": "stream",
     "text": [
      "EVAL: [0/340] Elapsed 0m 0s (remain 0m 47s) Loss: 0.3274 \n"
     ]
    },
    {
     "name": "stderr",
     "output_type": "stream",
     "text": [
      "[W pthreadpool-cpp.cc:90] Warning: Leaking Caffe2 thread-pool after fork. (function pthreadpool)\n",
      "[W pthreadpool-cpp.cc:90] Warning: Leaking Caffe2 thread-pool after fork. (function pthreadpool)\n"
     ]
    },
    {
     "name": "stdout",
     "output_type": "stream",
     "text": [
      "EVAL: [100/340] Elapsed 0m 3s (remain 0m 7s) Loss: 0.0738 \n",
      "EVAL: [200/340] Elapsed 0m 6s (remain 0m 4s) Loss: 0.0666 \n",
      "EVAL: [300/340] Elapsed 0m 9s (remain 0m 1s) Loss: 0.0614 \n"
     ]
    },
    {
     "name": "stderr",
     "output_type": "stream",
     "text": [
      "Epoch 2 - avg_train_loss: 0.0495  avg_val_loss: 0.0636  time: 147s\n",
      "Epoch 2 - Score: 0.7576941102952663\n"
     ]
    },
    {
     "name": "stdout",
     "output_type": "stream",
     "text": [
      "EVAL: [339/340] Elapsed 0m 10s (remain 0m 0s) Loss: 0.0636 \n"
     ]
    },
    {
     "name": "stderr",
     "output_type": "stream",
     "text": [
      "[W pthreadpool-cpp.cc:90] Warning: Leaking Caffe2 thread-pool after fork. (function pthreadpool)\n",
      "[W pthreadpool-cpp.cc:90] Warning: Leaking Caffe2 thread-pool after fork. (function pthreadpool)\n",
      "[W pthreadpool-cpp.cc:90] Warning: Leaking Caffe2 thread-pool after fork. (function pthreadpool)\n",
      "[W pthreadpool-cpp.cc:90] Warning: Leaking Caffe2 thread-pool after fork. (function pthreadpool)\n"
     ]
    },
    {
     "name": "stdout",
     "output_type": "stream",
     "text": [
      "Epoch: [3][0/1357] Elapsed 0m 0s (remain 4m 36s) Loss: 0.0021 \n",
      "Epoch: [3][100/1357] Elapsed 0m 10s (remain 2m 7s) Loss: 0.0355 \n",
      "Epoch: [3][200/1357] Elapsed 0m 20s (remain 1m 56s) Loss: 0.0349 \n",
      "Epoch: [3][300/1357] Elapsed 0m 30s (remain 1m 46s) Loss: 0.0328 \n",
      "Epoch: [3][400/1357] Elapsed 0m 40s (remain 1m 36s) Loss: 0.0320 \n",
      "Epoch: [3][500/1357] Elapsed 0m 50s (remain 1m 26s) Loss: 0.0310 \n",
      "Epoch: [3][600/1357] Elapsed 1m 0s (remain 1m 16s) Loss: 0.0335 \n",
      "Epoch: [3][700/1357] Elapsed 1m 10s (remain 1m 5s) Loss: 0.0332 \n",
      "Epoch: [3][800/1357] Elapsed 1m 20s (remain 0m 55s) Loss: 0.0325 \n",
      "Epoch: [3][900/1357] Elapsed 1m 30s (remain 0m 45s) Loss: 0.0323 \n",
      "Epoch: [3][1000/1357] Elapsed 1m 40s (remain 0m 35s) Loss: 0.0304 \n",
      "Epoch: [3][1100/1357] Elapsed 1m 50s (remain 0m 25s) Loss: 0.0318 \n",
      "Epoch: [3][1200/1357] Elapsed 2m 0s (remain 0m 15s) Loss: 0.0322 \n",
      "Epoch: [3][1300/1357] Elapsed 2m 11s (remain 0m 5s) Loss: 0.0322 \n",
      "Epoch: [3][1356/1357] Elapsed 2m 17s (remain 0m 0s) Loss: 0.0314 \n"
     ]
    },
    {
     "name": "stderr",
     "output_type": "stream",
     "text": [
      "[W pthreadpool-cpp.cc:90] Warning: Leaking Caffe2 thread-pool after fork. (function pthreadpool)\n"
     ]
    },
    {
     "name": "stdout",
     "output_type": "stream",
     "text": [
      "EVAL: [0/340] Elapsed 0m 0s (remain 0m 48s) Loss: 0.4502 \n"
     ]
    },
    {
     "name": "stderr",
     "output_type": "stream",
     "text": [
      "[W pthreadpool-cpp.cc:90] Warning: Leaking Caffe2 thread-pool after fork. (function pthreadpool)\n",
      "[W pthreadpool-cpp.cc:90] Warning: Leaking Caffe2 thread-pool after fork. (function pthreadpool)\n",
      "[W pthreadpool-cpp.cc:90] Warning: Leaking Caffe2 thread-pool after fork. (function pthreadpool)\n"
     ]
    },
    {
     "name": "stdout",
     "output_type": "stream",
     "text": [
      "EVAL: [100/340] Elapsed 0m 3s (remain 0m 7s) Loss: 0.0949 \n",
      "EVAL: [200/340] Elapsed 0m 6s (remain 0m 4s) Loss: 0.0804 \n",
      "EVAL: [300/340] Elapsed 0m 9s (remain 0m 1s) Loss: 0.0722 \n"
     ]
    },
    {
     "name": "stderr",
     "output_type": "stream",
     "text": [
      "[W pthreadpool-cpp.cc:90] Warning: Leaking Caffe2 thread-pool after fork. (function pthreadpool)\n",
      "Epoch 3 - avg_train_loss: 0.0314  avg_val_loss: 0.0719  time: 149s\n",
      "Epoch 3 - Score: 0.7141735991210171\n"
     ]
    },
    {
     "name": "stdout",
     "output_type": "stream",
     "text": [
      "EVAL: [339/340] Elapsed 0m 11s (remain 0m 0s) Loss: 0.0719 \n"
     ]
    },
    {
     "name": "stderr",
     "output_type": "stream",
     "text": [
      "========== fold: 1 result ==========\n",
      "Score: 0.76097\n",
      "========== fold: 2 training ==========\n",
      "Some weights of the model checkpoint at bert-base-uncased were not used when initializing BertForSequenceClassification: ['cls.predictions.transform.dense.weight', 'cls.seq_relationship.bias', 'cls.predictions.bias', 'cls.predictions.decoder.weight', 'cls.predictions.transform.LayerNorm.weight', 'cls.seq_relationship.weight', 'cls.predictions.transform.dense.bias', 'cls.predictions.transform.LayerNorm.bias']\n",
      "- This IS expected if you are initializing BertForSequenceClassification from the checkpoint of a model trained on another task or with another architecture (e.g. initializing a BertForSequenceClassification model from a BertForPreTraining model).\n",
      "- This IS NOT expected if you are initializing BertForSequenceClassification from the checkpoint of a model that you expect to be exactly identical (initializing a BertForSequenceClassification model from a BertForSequenceClassification model).\n",
      "Some weights of BertForSequenceClassification were not initialized from the model checkpoint at bert-base-uncased and are newly initialized: ['classifier.weight', 'classifier.bias']\n",
      "You should probably TRAIN this model on a down-stream task to be able to use it for predictions and inference.\n",
      "[W pthreadpool-cpp.cc:90] Warning: Leaking Caffe2 thread-pool after fork. (function pthreadpool)\n",
      "[W pthreadpool-cpp.cc:90] Warning: Leaking Caffe2 thread-pool after fork. (function pthreadpool)\n",
      "[W pthreadpool-cpp.cc:90] Warning: Leaking Caffe2 thread-pool after fork. (function pthreadpool)\n",
      "[W pthreadpool-cpp.cc:90] Warning: Leaking Caffe2 thread-pool after fork. (function pthreadpool)\n"
     ]
    },
    {
     "name": "stdout",
     "output_type": "stream",
     "text": [
      "Epoch: [1][0/1357] Elapsed 0m 0s (remain 4m 54s) Loss: 0.7337 \n",
      "Epoch: [1][100/1357] Elapsed 0m 10s (remain 2m 11s) Loss: 0.1408 \n",
      "Epoch: [1][200/1357] Elapsed 0m 21s (remain 2m 1s) Loss: 0.1305 \n",
      "Epoch: [1][300/1357] Elapsed 0m 31s (remain 1m 51s) Loss: 0.1251 \n",
      "Epoch: [1][400/1357] Elapsed 0m 42s (remain 1m 41s) Loss: 0.1096 \n",
      "Epoch: [1][500/1357] Elapsed 0m 53s (remain 1m 31s) Loss: 0.1028 \n",
      "Epoch: [1][600/1357] Elapsed 1m 4s (remain 1m 20s) Loss: 0.0998 \n",
      "Epoch: [1][700/1357] Elapsed 1m 14s (remain 1m 10s) Loss: 0.0980 \n",
      "Epoch: [1][800/1357] Elapsed 1m 25s (remain 0m 59s) Loss: 0.0940 \n",
      "Epoch: [1][900/1357] Elapsed 1m 36s (remain 0m 48s) Loss: 0.0915 \n",
      "Epoch: [1][1000/1357] Elapsed 1m 47s (remain 0m 38s) Loss: 0.0876 \n",
      "Epoch: [1][1100/1357] Elapsed 1m 58s (remain 0m 27s) Loss: 0.0843 \n",
      "Epoch: [1][1200/1357] Elapsed 2m 9s (remain 0m 16s) Loss: 0.0824 \n",
      "Epoch: [1][1300/1357] Elapsed 2m 20s (remain 0m 6s) Loss: 0.0799 \n"
     ]
    },
    {
     "name": "stderr",
     "output_type": "stream",
     "text": [
      "[W pthreadpool-cpp.cc:90] Warning: Leaking Caffe2 thread-pool after fork. (function pthreadpool)\n"
     ]
    },
    {
     "name": "stdout",
     "output_type": "stream",
     "text": [
      "Epoch: [1][1356/1357] Elapsed 2m 26s (remain 0m 0s) Loss: 0.0800 \n"
     ]
    },
    {
     "name": "stderr",
     "output_type": "stream",
     "text": [
      "[W pthreadpool-cpp.cc:90] Warning: Leaking Caffe2 thread-pool after fork. (function pthreadpool)\n",
      "[W pthreadpool-cpp.cc:90] Warning: Leaking Caffe2 thread-pool after fork. (function pthreadpool)\n"
     ]
    },
    {
     "name": "stdout",
     "output_type": "stream",
     "text": [
      "EVAL: [0/340] Elapsed 0m 0s (remain 0m 49s) Loss: 0.0138 \n"
     ]
    },
    {
     "name": "stderr",
     "output_type": "stream",
     "text": [
      "[W pthreadpool-cpp.cc:90] Warning: Leaking Caffe2 thread-pool after fork. (function pthreadpool)\n",
      "[W pthreadpool-cpp.cc:90] Warning: Leaking Caffe2 thread-pool after fork. (function pthreadpool)\n"
     ]
    },
    {
     "name": "stdout",
     "output_type": "stream",
     "text": [
      "EVAL: [100/340] Elapsed 0m 3s (remain 0m 7s) Loss: 0.0419 \n",
      "EVAL: [200/340] Elapsed 0m 6s (remain 0m 4s) Loss: 0.0478 \n",
      "EVAL: [300/340] Elapsed 0m 9s (remain 0m 1s) Loss: 0.0490 \n"
     ]
    },
    {
     "name": "stderr",
     "output_type": "stream",
     "text": [
      "Epoch 1 - avg_train_loss: 0.0800  avg_val_loss: 0.0496  time: 158s\n",
      "Epoch 1 - Score: 0.8279391841035677\n",
      "Epoch 1 - Save Best Score: 0.8279 Model\n"
     ]
    },
    {
     "name": "stdout",
     "output_type": "stream",
     "text": [
      "EVAL: [339/340] Elapsed 0m 11s (remain 0m 0s) Loss: 0.0496 \n"
     ]
    },
    {
     "name": "stderr",
     "output_type": "stream",
     "text": [
      "[W pthreadpool-cpp.cc:90] Warning: Leaking Caffe2 thread-pool after fork. (function pthreadpool)\n",
      "[W pthreadpool-cpp.cc:90] Warning: Leaking Caffe2 thread-pool after fork. (function pthreadpool)\n",
      "[W pthreadpool-cpp.cc:90] Warning: Leaking Caffe2 thread-pool after fork. (function pthreadpool)\n",
      "[W pthreadpool-cpp.cc:90] Warning: Leaking Caffe2 thread-pool after fork. (function pthreadpool)\n"
     ]
    },
    {
     "name": "stdout",
     "output_type": "stream",
     "text": [
      "Epoch: [2][0/1357] Elapsed 0m 0s (remain 4m 54s) Loss: 0.2086 \n",
      "Epoch: [2][100/1357] Elapsed 0m 11s (remain 2m 21s) Loss: 0.0392 \n",
      "Epoch: [2][200/1357] Elapsed 0m 22s (remain 2m 11s) Loss: 0.0428 \n",
      "Epoch: [2][300/1357] Elapsed 0m 34s (remain 1m 59s) Loss: 0.0407 \n",
      "Epoch: [2][400/1357] Elapsed 0m 45s (remain 1m 49s) Loss: 0.0389 \n",
      "Epoch: [2][500/1357] Elapsed 0m 57s (remain 1m 37s) Loss: 0.0405 \n",
      "Epoch: [2][600/1357] Elapsed 1m 8s (remain 1m 26s) Loss: 0.0412 \n",
      "Epoch: [2][700/1357] Elapsed 1m 19s (remain 1m 14s) Loss: 0.0406 \n",
      "Epoch: [2][800/1357] Elapsed 1m 31s (remain 1m 3s) Loss: 0.0417 \n",
      "Epoch: [2][900/1357] Elapsed 1m 42s (remain 0m 52s) Loss: 0.0413 \n",
      "Epoch: [2][1000/1357] Elapsed 1m 53s (remain 0m 40s) Loss: 0.0409 \n",
      "Epoch: [2][1100/1357] Elapsed 2m 4s (remain 0m 29s) Loss: 0.0421 \n",
      "Epoch: [2][1200/1357] Elapsed 2m 16s (remain 0m 17s) Loss: 0.0423 \n",
      "Epoch: [2][1300/1357] Elapsed 2m 27s (remain 0m 6s) Loss: 0.0422 \n"
     ]
    },
    {
     "name": "stderr",
     "output_type": "stream",
     "text": [
      "[W pthreadpool-cpp.cc:90] Warning: Leaking Caffe2 thread-pool after fork. (function pthreadpool)\n"
     ]
    },
    {
     "name": "stdout",
     "output_type": "stream",
     "text": [
      "Epoch: [2][1356/1357] Elapsed 2m 33s (remain 0m 0s) Loss: 0.0418 \n"
     ]
    },
    {
     "name": "stderr",
     "output_type": "stream",
     "text": [
      "[W pthreadpool-cpp.cc:90] Warning: Leaking Caffe2 thread-pool after fork. (function pthreadpool)\n",
      "[W pthreadpool-cpp.cc:90] Warning: Leaking Caffe2 thread-pool after fork. (function pthreadpool)\n",
      "[W pthreadpool-cpp.cc:90] Warning: Leaking Caffe2 thread-pool after fork. (function pthreadpool)\n",
      "[W pthreadpool-cpp.cc:90] Warning: Leaking Caffe2 thread-pool after fork. (function pthreadpool)\n"
     ]
    },
    {
     "name": "stdout",
     "output_type": "stream",
     "text": [
      "EVAL: [0/340] Elapsed 0m 0s (remain 0m 52s) Loss: 0.0031 \n",
      "EVAL: [100/340] Elapsed 0m 3s (remain 0m 8s) Loss: 0.0500 \n",
      "EVAL: [200/340] Elapsed 0m 6s (remain 0m 4s) Loss: 0.0573 \n",
      "EVAL: [300/340] Elapsed 0m 10s (remain 0m 1s) Loss: 0.0590 \n"
     ]
    },
    {
     "name": "stderr",
     "output_type": "stream",
     "text": [
      "Epoch 2 - avg_train_loss: 0.0418  avg_val_loss: 0.0590  time: 165s\n",
      "Epoch 2 - Score: 0.7644305772230888\n"
     ]
    },
    {
     "name": "stdout",
     "output_type": "stream",
     "text": [
      "EVAL: [339/340] Elapsed 0m 11s (remain 0m 0s) Loss: 0.0590 \n"
     ]
    },
    {
     "name": "stderr",
     "output_type": "stream",
     "text": [
      "[W pthreadpool-cpp.cc:90] Warning: Leaking Caffe2 thread-pool after fork. (function pthreadpool)\n",
      "[W pthreadpool-cpp.cc:90] Warning: Leaking Caffe2 thread-pool after fork. (function pthreadpool)\n",
      "[W pthreadpool-cpp.cc:90] Warning: Leaking Caffe2 thread-pool after fork. (function pthreadpool)\n",
      "[W pthreadpool-cpp.cc:90] Warning: Leaking Caffe2 thread-pool after fork. (function pthreadpool)\n"
     ]
    },
    {
     "name": "stdout",
     "output_type": "stream",
     "text": [
      "Epoch: [3][0/1357] Elapsed 0m 0s (remain 5m 11s) Loss: 0.0016 \n",
      "Epoch: [3][100/1357] Elapsed 0m 11s (remain 2m 26s) Loss: 0.0255 \n",
      "Epoch: [3][200/1357] Elapsed 0m 23s (remain 2m 12s) Loss: 0.0216 \n",
      "Epoch: [3][300/1357] Elapsed 0m 34s (remain 2m 0s) Loss: 0.0221 \n",
      "Epoch: [3][400/1357] Elapsed 0m 45s (remain 1m 48s) Loss: 0.0207 \n",
      "Epoch: [3][500/1357] Elapsed 0m 56s (remain 1m 36s) Loss: 0.0206 \n",
      "Epoch: [3][600/1357] Elapsed 1m 7s (remain 1m 25s) Loss: 0.0208 \n",
      "Epoch: [3][700/1357] Elapsed 1m 19s (remain 1m 13s) Loss: 0.0201 \n",
      "Epoch: [3][800/1357] Elapsed 1m 30s (remain 1m 2s) Loss: 0.0205 \n",
      "Epoch: [3][900/1357] Elapsed 1m 41s (remain 0m 51s) Loss: 0.0215 \n",
      "Epoch: [3][1000/1357] Elapsed 1m 52s (remain 0m 39s) Loss: 0.0219 \n",
      "Epoch: [3][1100/1357] Elapsed 2m 3s (remain 0m 28s) Loss: 0.0229 \n",
      "Epoch: [3][1200/1357] Elapsed 2m 13s (remain 0m 17s) Loss: 0.0234 \n",
      "Epoch: [3][1300/1357] Elapsed 2m 24s (remain 0m 6s) Loss: 0.0245 \n"
     ]
    },
    {
     "name": "stderr",
     "output_type": "stream",
     "text": [
      "[W pthreadpool-cpp.cc:90] Warning: Leaking Caffe2 thread-pool after fork. (function pthreadpool)\n"
     ]
    },
    {
     "name": "stdout",
     "output_type": "stream",
     "text": [
      "Epoch: [3][1356/1357] Elapsed 2m 30s (remain 0m 0s) Loss: 0.0250 \n"
     ]
    },
    {
     "name": "stderr",
     "output_type": "stream",
     "text": [
      "[W pthreadpool-cpp.cc:90] Warning: Leaking Caffe2 thread-pool after fork. (function pthreadpool)\n",
      "[W pthreadpool-cpp.cc:90] Warning: Leaking Caffe2 thread-pool after fork. (function pthreadpool)\n"
     ]
    },
    {
     "name": "stdout",
     "output_type": "stream",
     "text": [
      "EVAL: [0/340] Elapsed 0m 0s (remain 0m 49s) Loss: 0.0187 \n"
     ]
    },
    {
     "name": "stderr",
     "output_type": "stream",
     "text": [
      "[W pthreadpool-cpp.cc:90] Warning: Leaking Caffe2 thread-pool after fork. (function pthreadpool)\n",
      "[W pthreadpool-cpp.cc:90] Warning: Leaking Caffe2 thread-pool after fork. (function pthreadpool)\n"
     ]
    },
    {
     "name": "stdout",
     "output_type": "stream",
     "text": [
      "EVAL: [100/340] Elapsed 0m 3s (remain 0m 7s) Loss: 0.0451 \n",
      "EVAL: [200/340] Elapsed 0m 6s (remain 0m 4s) Loss: 0.0556 \n",
      "EVAL: [300/340] Elapsed 0m 9s (remain 0m 1s) Loss: 0.0579 \n"
     ]
    },
    {
     "name": "stderr",
     "output_type": "stream",
     "text": [
      "Epoch 3 - avg_train_loss: 0.0250  avg_val_loss: 0.0578  time: 162s\n",
      "Epoch 3 - Score: 0.809186189889026\n"
     ]
    },
    {
     "name": "stdout",
     "output_type": "stream",
     "text": [
      "EVAL: [339/340] Elapsed 0m 10s (remain 0m 0s) Loss: 0.0578 \n"
     ]
    },
    {
     "name": "stderr",
     "output_type": "stream",
     "text": [
      "========== fold: 2 result ==========\n",
      "Score: 0.82794\n",
      "========== fold: 3 training ==========\n",
      "Some weights of the model checkpoint at bert-base-uncased were not used when initializing BertForSequenceClassification: ['cls.predictions.transform.dense.weight', 'cls.seq_relationship.bias', 'cls.predictions.bias', 'cls.predictions.decoder.weight', 'cls.predictions.transform.LayerNorm.weight', 'cls.seq_relationship.weight', 'cls.predictions.transform.dense.bias', 'cls.predictions.transform.LayerNorm.bias']\n",
      "- This IS expected if you are initializing BertForSequenceClassification from the checkpoint of a model trained on another task or with another architecture (e.g. initializing a BertForSequenceClassification model from a BertForPreTraining model).\n",
      "- This IS NOT expected if you are initializing BertForSequenceClassification from the checkpoint of a model that you expect to be exactly identical (initializing a BertForSequenceClassification model from a BertForSequenceClassification model).\n",
      "Some weights of BertForSequenceClassification were not initialized from the model checkpoint at bert-base-uncased and are newly initialized: ['classifier.weight', 'classifier.bias']\n",
      "You should probably TRAIN this model on a down-stream task to be able to use it for predictions and inference.\n",
      "[W pthreadpool-cpp.cc:90] Warning: Leaking Caffe2 thread-pool after fork. (function pthreadpool)\n",
      "[W pthreadpool-cpp.cc:90] Warning: Leaking Caffe2 thread-pool after fork. (function pthreadpool)\n",
      "[W pthreadpool-cpp.cc:90] Warning: Leaking Caffe2 thread-pool after fork. (function pthreadpool)\n",
      "[W pthreadpool-cpp.cc:90] Warning: Leaking Caffe2 thread-pool after fork. (function pthreadpool)\n"
     ]
    },
    {
     "name": "stdout",
     "output_type": "stream",
     "text": [
      "Epoch: [1][0/1357] Elapsed 0m 0s (remain 4m 51s) Loss: 0.9132 \n",
      "Epoch: [1][100/1357] Elapsed 0m 10s (remain 2m 5s) Loss: 0.1793 \n",
      "Epoch: [1][200/1357] Elapsed 0m 20s (remain 1m 55s) Loss: 0.1413 \n",
      "Epoch: [1][300/1357] Elapsed 0m 30s (remain 1m 46s) Loss: 0.1291 \n",
      "Epoch: [1][400/1357] Elapsed 0m 40s (remain 1m 36s) Loss: 0.1147 \n",
      "Epoch: [1][500/1357] Elapsed 0m 50s (remain 1m 26s) Loss: 0.1121 \n",
      "Epoch: [1][600/1357] Elapsed 1m 0s (remain 1m 16s) Loss: 0.1101 \n",
      "Epoch: [1][700/1357] Elapsed 1m 11s (remain 1m 6s) Loss: 0.1031 \n",
      "Epoch: [1][800/1357] Elapsed 1m 21s (remain 0m 56s) Loss: 0.0971 \n",
      "Epoch: [1][900/1357] Elapsed 1m 31s (remain 0m 46s) Loss: 0.0943 \n",
      "Epoch: [1][1000/1357] Elapsed 1m 41s (remain 0m 36s) Loss: 0.0929 \n",
      "Epoch: [1][1100/1357] Elapsed 1m 51s (remain 0m 26s) Loss: 0.0910 \n",
      "Epoch: [1][1200/1357] Elapsed 2m 2s (remain 0m 15s) Loss: 0.0896 \n",
      "Epoch: [1][1300/1357] Elapsed 2m 12s (remain 0m 5s) Loss: 0.0880 \n"
     ]
    },
    {
     "name": "stderr",
     "output_type": "stream",
     "text": [
      "[W pthreadpool-cpp.cc:90] Warning: Leaking Caffe2 thread-pool after fork. (function pthreadpool)\n"
     ]
    },
    {
     "name": "stdout",
     "output_type": "stream",
     "text": [
      "Epoch: [1][1356/1357] Elapsed 2m 17s (remain 0m 0s) Loss: 0.0874 \n"
     ]
    },
    {
     "name": "stderr",
     "output_type": "stream",
     "text": [
      "[W pthreadpool-cpp.cc:90] Warning: Leaking Caffe2 thread-pool after fork. (function pthreadpool)\n",
      "[W pthreadpool-cpp.cc:90] Warning: Leaking Caffe2 thread-pool after fork. (function pthreadpool)\n"
     ]
    },
    {
     "name": "stdout",
     "output_type": "stream",
     "text": [
      "EVAL: [0/340] Elapsed 0m 0s (remain 0m 49s) Loss: 0.0085 \n"
     ]
    },
    {
     "name": "stderr",
     "output_type": "stream",
     "text": [
      "[W pthreadpool-cpp.cc:90] Warning: Leaking Caffe2 thread-pool after fork. (function pthreadpool)\n",
      "[W pthreadpool-cpp.cc:90] Warning: Leaking Caffe2 thread-pool after fork. (function pthreadpool)\n"
     ]
    },
    {
     "name": "stdout",
     "output_type": "stream",
     "text": [
      "EVAL: [100/340] Elapsed 0m 3s (remain 0m 7s) Loss: 0.0768 \n",
      "EVAL: [200/340] Elapsed 0m 6s (remain 0m 4s) Loss: 0.0676 \n",
      "EVAL: [300/340] Elapsed 0m 9s (remain 0m 1s) Loss: 0.0660 \n"
     ]
    },
    {
     "name": "stderr",
     "output_type": "stream",
     "text": [
      "[W pthreadpool-cpp.cc:90] Warning: Leaking Caffe2 thread-pool after fork. (function pthreadpool)\n",
      "Epoch 1 - avg_train_loss: 0.0874  avg_val_loss: 0.0656  time: 148s\n",
      "Epoch 1 - Score: 0.7175226586102719\n",
      "Epoch 1 - Save Best Score: 0.7175 Model\n"
     ]
    },
    {
     "name": "stdout",
     "output_type": "stream",
     "text": [
      "EVAL: [339/340] Elapsed 0m 10s (remain 0m 0s) Loss: 0.0656 \n"
     ]
    },
    {
     "name": "stderr",
     "output_type": "stream",
     "text": [
      "[W pthreadpool-cpp.cc:90] Warning: Leaking Caffe2 thread-pool after fork. (function pthreadpool)\n",
      "[W pthreadpool-cpp.cc:90] Warning: Leaking Caffe2 thread-pool after fork. (function pthreadpool)\n",
      "[W pthreadpool-cpp.cc:90] Warning: Leaking Caffe2 thread-pool after fork. (function pthreadpool)\n",
      "[W pthreadpool-cpp.cc:90] Warning: Leaking Caffe2 thread-pool after fork. (function pthreadpool)\n"
     ]
    },
    {
     "name": "stdout",
     "output_type": "stream",
     "text": [
      "Epoch: [2][0/1357] Elapsed 0m 0s (remain 4m 42s) Loss: 0.0732 \n",
      "Epoch: [2][100/1357] Elapsed 0m 10s (remain 2m 12s) Loss: 0.0555 \n",
      "Epoch: [2][200/1357] Elapsed 0m 21s (remain 2m 1s) Loss: 0.0508 \n",
      "Epoch: [2][300/1357] Elapsed 0m 31s (remain 1m 50s) Loss: 0.0519 \n",
      "Epoch: [2][400/1357] Elapsed 0m 42s (remain 1m 40s) Loss: 0.0484 \n",
      "Epoch: [2][500/1357] Elapsed 0m 52s (remain 1m 29s) Loss: 0.0500 \n",
      "Epoch: [2][600/1357] Elapsed 1m 2s (remain 1m 18s) Loss: 0.0506 \n",
      "Epoch: [2][700/1357] Elapsed 1m 12s (remain 1m 7s) Loss: 0.0497 \n",
      "Epoch: [2][800/1357] Elapsed 1m 22s (remain 0m 57s) Loss: 0.0508 \n",
      "Epoch: [2][900/1357] Elapsed 1m 32s (remain 0m 46s) Loss: 0.0514 \n",
      "Epoch: [2][1000/1357] Elapsed 1m 42s (remain 0m 36s) Loss: 0.0506 \n",
      "Epoch: [2][1100/1357] Elapsed 1m 52s (remain 0m 26s) Loss: 0.0505 \n",
      "Epoch: [2][1200/1357] Elapsed 2m 2s (remain 0m 15s) Loss: 0.0489 \n",
      "Epoch: [2][1300/1357] Elapsed 2m 12s (remain 0m 5s) Loss: 0.0489 \n",
      "Epoch: [2][1356/1357] Elapsed 2m 18s (remain 0m 0s) Loss: 0.0490 \n"
     ]
    },
    {
     "name": "stderr",
     "output_type": "stream",
     "text": [
      "[W pthreadpool-cpp.cc:90] Warning: Leaking Caffe2 thread-pool after fork. (function pthreadpool)\n",
      "[W pthreadpool-cpp.cc:90] Warning: Leaking Caffe2 thread-pool after fork. (function pthreadpool)\n"
     ]
    },
    {
     "name": "stdout",
     "output_type": "stream",
     "text": [
      "EVAL: [0/340] Elapsed 0m 0s (remain 0m 48s) Loss: 0.0169 \n"
     ]
    },
    {
     "name": "stderr",
     "output_type": "stream",
     "text": [
      "[W pthreadpool-cpp.cc:90] Warning: Leaking Caffe2 thread-pool after fork. (function pthreadpool)\n",
      "[W pthreadpool-cpp.cc:90] Warning: Leaking Caffe2 thread-pool after fork. (function pthreadpool)\n"
     ]
    },
    {
     "name": "stdout",
     "output_type": "stream",
     "text": [
      "EVAL: [100/340] Elapsed 0m 3s (remain 0m 7s) Loss: 0.0610 \n",
      "EVAL: [200/340] Elapsed 0m 6s (remain 0m 4s) Loss: 0.0548 \n",
      "EVAL: [300/340] Elapsed 0m 9s (remain 0m 1s) Loss: 0.0549 \n"
     ]
    },
    {
     "name": "stderr",
     "output_type": "stream",
     "text": [
      "Epoch 2 - avg_train_loss: 0.0490  avg_val_loss: 0.0540  time: 149s\n",
      "Epoch 2 - Score: 0.831724342789247\n",
      "Epoch 2 - Save Best Score: 0.8317 Model\n"
     ]
    },
    {
     "name": "stdout",
     "output_type": "stream",
     "text": [
      "EVAL: [339/340] Elapsed 0m 10s (remain 0m 0s) Loss: 0.0540 \n"
     ]
    },
    {
     "name": "stderr",
     "output_type": "stream",
     "text": [
      "[W pthreadpool-cpp.cc:90] Warning: Leaking Caffe2 thread-pool after fork. (function pthreadpool)\n",
      "[W pthreadpool-cpp.cc:90] Warning: Leaking Caffe2 thread-pool after fork. (function pthreadpool)\n",
      "[W pthreadpool-cpp.cc:90] Warning: Leaking Caffe2 thread-pool after fork. (function pthreadpool)\n",
      "[W pthreadpool-cpp.cc:90] Warning: Leaking Caffe2 thread-pool after fork. (function pthreadpool)\n"
     ]
    },
    {
     "name": "stdout",
     "output_type": "stream",
     "text": [
      "Epoch: [3][0/1357] Elapsed 0m 0s (remain 4m 49s) Loss: 0.0018 \n",
      "Epoch: [3][100/1357] Elapsed 0m 10s (remain 2m 9s) Loss: 0.0365 \n",
      "Epoch: [3][200/1357] Elapsed 0m 20s (remain 1m 58s) Loss: 0.0301 \n",
      "Epoch: [3][300/1357] Elapsed 0m 30s (remain 1m 47s) Loss: 0.0298 \n",
      "Epoch: [3][400/1357] Elapsed 0m 41s (remain 1m 37s) Loss: 0.0296 \n",
      "Epoch: [3][500/1357] Elapsed 0m 51s (remain 1m 27s) Loss: 0.0282 \n",
      "Epoch: [3][600/1357] Elapsed 1m 1s (remain 1m 17s) Loss: 0.0274 \n",
      "Epoch: [3][700/1357] Elapsed 1m 11s (remain 1m 7s) Loss: 0.0275 \n",
      "Epoch: [3][800/1357] Elapsed 1m 22s (remain 0m 57s) Loss: 0.0291 \n",
      "Epoch: [3][900/1357] Elapsed 1m 32s (remain 0m 46s) Loss: 0.0287 \n",
      "Epoch: [3][1000/1357] Elapsed 1m 43s (remain 0m 36s) Loss: 0.0291 \n",
      "Epoch: [3][1100/1357] Elapsed 1m 53s (remain 0m 26s) Loss: 0.0295 \n",
      "Epoch: [3][1200/1357] Elapsed 2m 3s (remain 0m 16s) Loss: 0.0289 \n",
      "Epoch: [3][1300/1357] Elapsed 2m 14s (remain 0m 5s) Loss: 0.0290 \n"
     ]
    },
    {
     "name": "stderr",
     "output_type": "stream",
     "text": [
      "[W pthreadpool-cpp.cc:90] Warning: Leaking Caffe2 thread-pool after fork. (function pthreadpool)\n"
     ]
    },
    {
     "name": "stdout",
     "output_type": "stream",
     "text": [
      "Epoch: [3][1356/1357] Elapsed 2m 19s (remain 0m 0s) Loss: 0.0290 \n"
     ]
    },
    {
     "name": "stderr",
     "output_type": "stream",
     "text": [
      "[W pthreadpool-cpp.cc:90] Warning: Leaking Caffe2 thread-pool after fork. (function pthreadpool)\n",
      "[W pthreadpool-cpp.cc:90] Warning: Leaking Caffe2 thread-pool after fork. (function pthreadpool)\n"
     ]
    },
    {
     "name": "stdout",
     "output_type": "stream",
     "text": [
      "EVAL: [0/340] Elapsed 0m 0s (remain 0m 48s) Loss: 0.0058 \n"
     ]
    },
    {
     "name": "stderr",
     "output_type": "stream",
     "text": [
      "[W pthreadpool-cpp.cc:90] Warning: Leaking Caffe2 thread-pool after fork. (function pthreadpool)\n",
      "[W pthreadpool-cpp.cc:90] Warning: Leaking Caffe2 thread-pool after fork. (function pthreadpool)\n"
     ]
    },
    {
     "name": "stdout",
     "output_type": "stream",
     "text": [
      "EVAL: [100/340] Elapsed 0m 3s (remain 0m 7s) Loss: 0.0599 \n",
      "EVAL: [200/340] Elapsed 0m 6s (remain 0m 4s) Loss: 0.0576 \n",
      "EVAL: [300/340] Elapsed 0m 9s (remain 0m 1s) Loss: 0.0591 \n"
     ]
    },
    {
     "name": "stderr",
     "output_type": "stream",
     "text": [
      "[W pthreadpool-cpp.cc:90] Warning: Leaking Caffe2 thread-pool after fork. (function pthreadpool)\n",
      "Epoch 3 - avg_train_loss: 0.0290  avg_val_loss: 0.0587  time: 150s\n",
      "Epoch 3 - Score: 0.8352144469525961\n",
      "Epoch 3 - Save Best Score: 0.8352 Model\n"
     ]
    },
    {
     "name": "stdout",
     "output_type": "stream",
     "text": [
      "EVAL: [339/340] Elapsed 0m 10s (remain 0m 0s) Loss: 0.0587 \n"
     ]
    },
    {
     "name": "stderr",
     "output_type": "stream",
     "text": [
      "========== fold: 3 result ==========\n",
      "Score: 0.83521\n",
      "========== fold: 4 training ==========\n",
      "Some weights of the model checkpoint at bert-base-uncased were not used when initializing BertForSequenceClassification: ['cls.predictions.transform.dense.weight', 'cls.seq_relationship.bias', 'cls.predictions.bias', 'cls.predictions.decoder.weight', 'cls.predictions.transform.LayerNorm.weight', 'cls.seq_relationship.weight', 'cls.predictions.transform.dense.bias', 'cls.predictions.transform.LayerNorm.bias']\n",
      "- This IS expected if you are initializing BertForSequenceClassification from the checkpoint of a model trained on another task or with another architecture (e.g. initializing a BertForSequenceClassification model from a BertForPreTraining model).\n",
      "- This IS NOT expected if you are initializing BertForSequenceClassification from the checkpoint of a model that you expect to be exactly identical (initializing a BertForSequenceClassification model from a BertForSequenceClassification model).\n",
      "Some weights of BertForSequenceClassification were not initialized from the model checkpoint at bert-base-uncased and are newly initialized: ['classifier.weight', 'classifier.bias']\n",
      "You should probably TRAIN this model on a down-stream task to be able to use it for predictions and inference.\n",
      "[W pthreadpool-cpp.cc:90] Warning: Leaking Caffe2 thread-pool after fork. (function pthreadpool)\n",
      "[W pthreadpool-cpp.cc:90] Warning: Leaking Caffe2 thread-pool after fork. (function pthreadpool)\n",
      "[W pthreadpool-cpp.cc:90] Warning: Leaking Caffe2 thread-pool after fork. (function pthreadpool)\n",
      "[W pthreadpool-cpp.cc:90] Warning: Leaking Caffe2 thread-pool after fork. (function pthreadpool)\n"
     ]
    },
    {
     "name": "stdout",
     "output_type": "stream",
     "text": [
      "Epoch: [1][0/1357] Elapsed 0m 0s (remain 4m 43s) Loss: 0.6657 \n",
      "Epoch: [1][100/1357] Elapsed 0m 10s (remain 2m 7s) Loss: 0.1505 \n",
      "Epoch: [1][200/1357] Elapsed 0m 20s (remain 1m 57s) Loss: 0.1301 \n",
      "Epoch: [1][300/1357] Elapsed 0m 30s (remain 1m 48s) Loss: 0.1194 \n",
      "Epoch: [1][400/1357] Elapsed 0m 41s (remain 1m 37s) Loss: 0.1119 \n",
      "Epoch: [1][500/1357] Elapsed 0m 51s (remain 1m 27s) Loss: 0.1027 \n",
      "Epoch: [1][600/1357] Elapsed 1m 1s (remain 1m 17s) Loss: 0.0976 \n",
      "Epoch: [1][700/1357] Elapsed 1m 11s (remain 1m 7s) Loss: 0.0967 \n",
      "Epoch: [1][800/1357] Elapsed 1m 22s (remain 0m 57s) Loss: 0.0933 \n",
      "Epoch: [1][900/1357] Elapsed 1m 32s (remain 0m 46s) Loss: 0.0905 \n",
      "Epoch: [1][1000/1357] Elapsed 1m 42s (remain 0m 36s) Loss: 0.0882 \n",
      "Epoch: [1][1100/1357] Elapsed 1m 52s (remain 0m 26s) Loss: 0.0856 \n",
      "Epoch: [1][1200/1357] Elapsed 2m 3s (remain 0m 15s) Loss: 0.0841 \n",
      "Epoch: [1][1300/1357] Elapsed 2m 13s (remain 0m 5s) Loss: 0.0816 \n",
      "Epoch: [1][1356/1357] Elapsed 2m 19s (remain 0m 0s) Loss: 0.0814 \n"
     ]
    },
    {
     "name": "stderr",
     "output_type": "stream",
     "text": [
      "[W pthreadpool-cpp.cc:90] Warning: Leaking Caffe2 thread-pool after fork. (function pthreadpool)\n",
      "[W pthreadpool-cpp.cc:90] Warning: Leaking Caffe2 thread-pool after fork. (function pthreadpool)\n"
     ]
    },
    {
     "name": "stdout",
     "output_type": "stream",
     "text": [
      "EVAL: [0/340] Elapsed 0m 0s (remain 0m 48s) Loss: 0.0050 \n"
     ]
    },
    {
     "name": "stderr",
     "output_type": "stream",
     "text": [
      "[W pthreadpool-cpp.cc:90] Warning: Leaking Caffe2 thread-pool after fork. (function pthreadpool)\n",
      "[W pthreadpool-cpp.cc:90] Warning: Leaking Caffe2 thread-pool after fork. (function pthreadpool)\n"
     ]
    },
    {
     "name": "stdout",
     "output_type": "stream",
     "text": [
      "EVAL: [100/340] Elapsed 0m 3s (remain 0m 8s) Loss: 0.0446 \n",
      "EVAL: [200/340] Elapsed 0m 6s (remain 0m 4s) Loss: 0.0469 \n",
      "EVAL: [300/340] Elapsed 0m 9s (remain 0m 1s) Loss: 0.0483 \n"
     ]
    },
    {
     "name": "stderr",
     "output_type": "stream",
     "text": [
      "Epoch 1 - avg_train_loss: 0.0814  avg_val_loss: 0.0502  time: 150s\n",
      "Epoch 1 - Score: 0.8670520231213874\n",
      "Epoch 1 - Save Best Score: 0.8671 Model\n"
     ]
    },
    {
     "name": "stdout",
     "output_type": "stream",
     "text": [
      "EVAL: [339/340] Elapsed 0m 11s (remain 0m 0s) Loss: 0.0502 \n"
     ]
    },
    {
     "name": "stderr",
     "output_type": "stream",
     "text": [
      "[W pthreadpool-cpp.cc:90] Warning: Leaking Caffe2 thread-pool after fork. (function pthreadpool)\n",
      "[W pthreadpool-cpp.cc:90] Warning: Leaking Caffe2 thread-pool after fork. (function pthreadpool)\n",
      "[W pthreadpool-cpp.cc:90] Warning: Leaking Caffe2 thread-pool after fork. (function pthreadpool)\n",
      "[W pthreadpool-cpp.cc:90] Warning: Leaking Caffe2 thread-pool after fork. (function pthreadpool)\n"
     ]
    },
    {
     "name": "stdout",
     "output_type": "stream",
     "text": [
      "Epoch: [2][0/1357] Elapsed 0m 0s (remain 4m 47s) Loss: 0.0289 \n",
      "Epoch: [2][100/1357] Elapsed 0m 11s (remain 2m 20s) Loss: 0.0410 \n",
      "Epoch: [2][200/1357] Elapsed 0m 22s (remain 2m 8s) Loss: 0.0435 \n",
      "Epoch: [2][300/1357] Elapsed 0m 33s (remain 1m 56s) Loss: 0.0420 \n",
      "Epoch: [2][400/1357] Elapsed 0m 43s (remain 1m 44s) Loss: 0.0425 \n",
      "Epoch: [2][500/1357] Elapsed 0m 54s (remain 1m 32s) Loss: 0.0416 \n",
      "Epoch: [2][600/1357] Elapsed 1m 5s (remain 1m 21s) Loss: 0.0425 \n",
      "Epoch: [2][700/1357] Elapsed 1m 15s (remain 1m 10s) Loss: 0.0438 \n",
      "Epoch: [2][800/1357] Elapsed 1m 25s (remain 0m 59s) Loss: 0.0439 \n",
      "Epoch: [2][900/1357] Elapsed 1m 35s (remain 0m 48s) Loss: 0.0440 \n",
      "Epoch: [2][1000/1357] Elapsed 1m 46s (remain 0m 37s) Loss: 0.0446 \n",
      "Epoch: [2][1100/1357] Elapsed 1m 57s (remain 0m 27s) Loss: 0.0437 \n",
      "Epoch: [2][1200/1357] Elapsed 2m 7s (remain 0m 16s) Loss: 0.0430 \n",
      "Epoch: [2][1300/1357] Elapsed 2m 18s (remain 0m 5s) Loss: 0.0437 \n"
     ]
    },
    {
     "name": "stderr",
     "output_type": "stream",
     "text": [
      "[W pthreadpool-cpp.cc:90] Warning: Leaking Caffe2 thread-pool after fork. (function pthreadpool)\n"
     ]
    },
    {
     "name": "stdout",
     "output_type": "stream",
     "text": [
      "Epoch: [2][1356/1357] Elapsed 2m 24s (remain 0m 0s) Loss: 0.0429 \n"
     ]
    },
    {
     "name": "stderr",
     "output_type": "stream",
     "text": [
      "[W pthreadpool-cpp.cc:90] Warning: Leaking Caffe2 thread-pool after fork. (function pthreadpool)\n",
      "[W pthreadpool-cpp.cc:90] Warning: Leaking Caffe2 thread-pool after fork. (function pthreadpool)\n",
      "[W pthreadpool-cpp.cc:90] Warning: Leaking Caffe2 thread-pool after fork. (function pthreadpool)\n",
      "[W pthreadpool-cpp.cc:90] Warning: Leaking Caffe2 thread-pool after fork. (function pthreadpool)\n"
     ]
    },
    {
     "name": "stdout",
     "output_type": "stream",
     "text": [
      "EVAL: [0/340] Elapsed 0m 0s (remain 0m 51s) Loss: 0.0006 \n",
      "EVAL: [100/340] Elapsed 0m 3s (remain 0m 7s) Loss: 0.0426 \n",
      "EVAL: [200/340] Elapsed 0m 6s (remain 0m 4s) Loss: 0.0505 \n",
      "EVAL: [300/340] Elapsed 0m 9s (remain 0m 1s) Loss: 0.0510 \n"
     ]
    },
    {
     "name": "stderr",
     "output_type": "stream",
     "text": [
      "Epoch 2 - avg_train_loss: 0.0429  avg_val_loss: 0.0527  time: 155s\n",
      "Epoch 2 - Score: 0.8032435740514076\n"
     ]
    },
    {
     "name": "stdout",
     "output_type": "stream",
     "text": [
      "EVAL: [339/340] Elapsed 0m 10s (remain 0m 0s) Loss: 0.0527 \n"
     ]
    },
    {
     "name": "stderr",
     "output_type": "stream",
     "text": [
      "[W pthreadpool-cpp.cc:90] Warning: Leaking Caffe2 thread-pool after fork. (function pthreadpool)\n",
      "[W pthreadpool-cpp.cc:90] Warning: Leaking Caffe2 thread-pool after fork. (function pthreadpool)\n",
      "[W pthreadpool-cpp.cc:90] Warning: Leaking Caffe2 thread-pool after fork. (function pthreadpool)\n",
      "[W pthreadpool-cpp.cc:90] Warning: Leaking Caffe2 thread-pool after fork. (function pthreadpool)\n"
     ]
    },
    {
     "name": "stdout",
     "output_type": "stream",
     "text": [
      "Epoch: [3][0/1357] Elapsed 0m 0s (remain 4m 48s) Loss: 0.0141 \n",
      "Epoch: [3][100/1357] Elapsed 0m 10s (remain 2m 12s) Loss: 0.0197 \n",
      "Epoch: [3][200/1357] Elapsed 0m 21s (remain 2m 4s) Loss: 0.0211 \n",
      "Epoch: [3][300/1357] Elapsed 0m 32s (remain 1m 55s) Loss: 0.0190 \n",
      "Epoch: [3][400/1357] Elapsed 0m 43s (remain 1m 44s) Loss: 0.0215 \n",
      "Epoch: [3][500/1357] Elapsed 0m 54s (remain 1m 33s) Loss: 0.0213 \n",
      "Epoch: [3][600/1357] Elapsed 1m 4s (remain 1m 21s) Loss: 0.0224 \n",
      "Epoch: [3][700/1357] Elapsed 1m 15s (remain 1m 11s) Loss: 0.0229 \n",
      "Epoch: [3][800/1357] Elapsed 1m 26s (remain 0m 59s) Loss: 0.0241 \n",
      "Epoch: [3][900/1357] Elapsed 1m 36s (remain 0m 49s) Loss: 0.0244 \n",
      "Epoch: [3][1000/1357] Elapsed 1m 47s (remain 0m 38s) Loss: 0.0254 \n",
      "Epoch: [3][1100/1357] Elapsed 1m 58s (remain 0m 27s) Loss: 0.0271 \n",
      "Epoch: [3][1200/1357] Elapsed 2m 8s (remain 0m 16s) Loss: 0.0272 \n",
      "Epoch: [3][1300/1357] Elapsed 2m 18s (remain 0m 5s) Loss: 0.0273 \n"
     ]
    },
    {
     "name": "stderr",
     "output_type": "stream",
     "text": [
      "[W pthreadpool-cpp.cc:90] Warning: Leaking Caffe2 thread-pool after fork. (function pthreadpool)\n"
     ]
    },
    {
     "name": "stdout",
     "output_type": "stream",
     "text": [
      "Epoch: [3][1356/1357] Elapsed 2m 24s (remain 0m 0s) Loss: 0.0276 \n"
     ]
    },
    {
     "name": "stderr",
     "output_type": "stream",
     "text": [
      "[W pthreadpool-cpp.cc:90] Warning: Leaking Caffe2 thread-pool after fork. (function pthreadpool)\n"
     ]
    },
    {
     "name": "stdout",
     "output_type": "stream",
     "text": [
      "EVAL: [0/340] Elapsed 0m 0s (remain 0m 49s) Loss: 0.0008 \n"
     ]
    },
    {
     "name": "stderr",
     "output_type": "stream",
     "text": [
      "[W pthreadpool-cpp.cc:90] Warning: Leaking Caffe2 thread-pool after fork. (function pthreadpool)\n",
      "[W pthreadpool-cpp.cc:90] Warning: Leaking Caffe2 thread-pool after fork. (function pthreadpool)\n",
      "[W pthreadpool-cpp.cc:90] Warning: Leaking Caffe2 thread-pool after fork. (function pthreadpool)\n"
     ]
    },
    {
     "name": "stdout",
     "output_type": "stream",
     "text": [
      "EVAL: [100/340] Elapsed 0m 3s (remain 0m 7s) Loss: 0.0422 \n",
      "EVAL: [200/340] Elapsed 0m 6s (remain 0m 4s) Loss: 0.0467 \n",
      "EVAL: [300/340] Elapsed 0m 9s (remain 0m 1s) Loss: 0.0486 \n"
     ]
    },
    {
     "name": "stderr",
     "output_type": "stream",
     "text": [
      "Epoch 3 - avg_train_loss: 0.0276  avg_val_loss: 0.0508  time: 154s\n",
      "Epoch 3 - Score: 0.8334607738186267\n"
     ]
    },
    {
     "name": "stdout",
     "output_type": "stream",
     "text": [
      "EVAL: [339/340] Elapsed 0m 10s (remain 0m 0s) Loss: 0.0508 \n"
     ]
    },
    {
     "name": "stderr",
     "output_type": "stream",
     "text": [
      "========== fold: 4 result ==========\n",
      "Score: 0.86705\n",
      "========== CV ==========\n",
      "Score: 0.82602\n"
     ]
    },
    {
     "ename": "NameError",
     "evalue": "name 'inference' is not defined",
     "output_type": "error",
     "traceback": [
      "\u001b[0;31m---------------------------------------------------------------------------\u001b[0m",
      "\u001b[0;31mNameError\u001b[0m                                 Traceback (most recent call last)",
      "\u001b[0;32m/tmp/ipykernel_4101/3832242952.py\u001b[0m in \u001b[0;36m<module>\u001b[0;34m\u001b[0m\n\u001b[1;32m      1\u001b[0m \u001b[0;32mif\u001b[0m \u001b[0m__name__\u001b[0m \u001b[0;34m==\u001b[0m \u001b[0;34m\"__main__\"\u001b[0m\u001b[0;34m:\u001b[0m\u001b[0;34m\u001b[0m\u001b[0;34m\u001b[0m\u001b[0m\n\u001b[0;32m----> 2\u001b[0;31m     \u001b[0mmain\u001b[0m\u001b[0;34m(\u001b[0m\u001b[0;34m)\u001b[0m\u001b[0;34m\u001b[0m\u001b[0;34m\u001b[0m\u001b[0m\n\u001b[0m",
      "\u001b[0;32m/tmp/ipykernel_4101/2511506762.py\u001b[0m in \u001b[0;36mmain\u001b[0;34m()\u001b[0m\n\u001b[1;32m     16\u001b[0m \u001b[0;34m\u001b[0m\u001b[0m\n\u001b[1;32m     17\u001b[0m     \u001b[0;31m# Inference\u001b[0m\u001b[0;34m\u001b[0m\u001b[0;34m\u001b[0m\u001b[0;34m\u001b[0m\u001b[0m\n\u001b[0;32m---> 18\u001b[0;31m     \u001b[0mpredictions\u001b[0m \u001b[0;34m=\u001b[0m \u001b[0minference\u001b[0m\u001b[0;34m(\u001b[0m\u001b[0;34m)\u001b[0m\u001b[0;34m\u001b[0m\u001b[0;34m\u001b[0m\u001b[0m\n\u001b[0m\u001b[1;32m     19\u001b[0m     \u001b[0mpredictions\u001b[0m \u001b[0;34m=\u001b[0m \u001b[0mnp\u001b[0m\u001b[0;34m.\u001b[0m\u001b[0mwhere\u001b[0m\u001b[0;34m(\u001b[0m\u001b[0mpredictions\u001b[0m \u001b[0;34m<\u001b[0m \u001b[0mborder\u001b[0m\u001b[0;34m,\u001b[0m \u001b[0;36m0\u001b[0m\u001b[0;34m,\u001b[0m \u001b[0;36m1\u001b[0m\u001b[0;34m)\u001b[0m\u001b[0;34m\u001b[0m\u001b[0;34m\u001b[0m\u001b[0m\n\u001b[1;32m     20\u001b[0m \u001b[0;34m\u001b[0m\u001b[0m\n",
      "\u001b[0;31mNameError\u001b[0m: name 'inference' is not defined"
     ]
    }
   ],
   "source": [
    "if __name__ == \"__main__\":\n",
    "    main()"
   ]
  },
  {
   "cell_type": "code",
   "execution_count": null,
   "id": "2183653f-21ea-499f-846b-fa124ab4e83a",
   "metadata": {},
   "outputs": [],
   "source": []
  },
  {
   "cell_type": "code",
   "execution_count": null,
   "id": "a097c0a6-783c-4f2f-8013-867f23f73ca9",
   "metadata": {},
   "outputs": [],
   "source": []
  }
 ],
 "metadata": {
  "kernelspec": {
   "display_name": "signate_env",
   "language": "python",
   "name": "signate_env"
  },
  "language_info": {
   "codemirror_mode": {
    "name": "ipython",
    "version": 3
   },
   "file_extension": ".py",
   "mimetype": "text/x-python",
   "name": "python",
   "nbconvert_exporter": "python",
   "pygments_lexer": "ipython3",
   "version": "3.9.6"
  }
 },
 "nbformat": 4,
 "nbformat_minor": 5
}
