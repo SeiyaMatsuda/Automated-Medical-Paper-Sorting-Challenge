{
 "cells": [
  {
   "cell_type": "markdown",
   "id": "b24625a1-7ba1-47b4-b1ab-211d6459c363",
   "metadata": {
    "jp-MarkdownHeadingCollapsed": true,
    "tags": []
   },
   "source": [
    "1. データの読み込み"
   ]
  },
  {
   "cell_type": "code",
   "execution_count": 1,
   "id": "ed6cdea4",
   "metadata": {},
   "outputs": [],
   "source": [
    "import math\n",
    "import random\n",
    "import time\n",
    "import warnings\n",
    "import numpy as np\n",
    "import pandas as pd\n",
    "import torch\n",
    "import torch.nn as nn\n",
    "import os\n",
    "import transformers as T\n",
    "from pathlib import Path\n",
    "from sklearn.metrics import fbeta_score\n",
    "from sklearn.model_selection import StratifiedKFold\n",
    "from torch.utils.data import DataLoader, Dataset\n",
    "from tqdm.notebook import tqdm\n",
    "import matplotlib.pyplot as plt"
   ]
  },
  {
   "cell_type": "code",
   "execution_count": 2,
   "id": "23e20c63",
   "metadata": {},
   "outputs": [],
   "source": [
    "warnings.filterwarnings(\"ignore\")"
   ]
  },
  {
   "cell_type": "code",
   "execution_count": 3,
   "id": "74829744-95a2-4e2a-b2ec-5401640d6b99",
   "metadata": {},
   "outputs": [
    {
     "name": "stdout",
     "output_type": "stream",
     "text": [
      "cuda\n"
     ]
    }
   ],
   "source": [
    "device = torch.device(\"cuda\" if torch.cuda.is_available() else \"cpu\")\n",
    "print(device)"
   ]
  },
  {
   "cell_type": "code",
   "execution_count": 4,
   "id": "42ab13eb-6570-472c-97ee-eab8f5821e79",
   "metadata": {},
   "outputs": [],
   "source": [
    "def seed_torch(seed=42):\n",
    "    random.seed(seed)\n",
    "    os.environ[\"PYTHONHASHSEED\"] = str(seed)\n",
    "    np.random.seed(seed)\n",
    "    torch.manual_seed(seed)\n",
    "    torch.cuda.manual_seed(seed)\n",
    "    torch.cuda.manual_seed_all(seed)\n",
    "    torch.backends.cudnn.deterministic = True\n",
    "\n",
    "seed = 471\n",
    "seed_torch(seed)"
   ]
  },
  {
   "cell_type": "code",
   "execution_count": 5,
   "id": "8519c10e-d167-4886-a9c8-8d089db471f8",
   "metadata": {},
   "outputs": [],
   "source": [
    "DATA_DIR = './dataset/data1'"
   ]
  },
  {
   "cell_type": "code",
   "execution_count": 6,
   "id": "db7afb3d-e9f1-4e87-a78d-488bfa71db82",
   "metadata": {},
   "outputs": [],
   "source": [
    "train = pd.read_csv(DATA_DIR  +\"/train.csv\", index_col=0).fillna(\" \")\n",
    "test = pd.read_csv(DATA_DIR + \"/test.csv\", index_col=0).fillna(\" \")\n"
   ]
  },
  {
   "cell_type": "code",
   "execution_count": 7,
   "id": "91c06698-01c8-4a16-a507-90a87231480a",
   "metadata": {},
   "outputs": [
    {
     "data": {
      "text/html": [
       "<div>\n",
       "<style scoped>\n",
       "    .dataframe tbody tr th:only-of-type {\n",
       "        vertical-align: middle;\n",
       "    }\n",
       "\n",
       "    .dataframe tbody tr th {\n",
       "        vertical-align: top;\n",
       "    }\n",
       "\n",
       "    .dataframe thead th {\n",
       "        text-align: right;\n",
       "    }\n",
       "</style>\n",
       "<table border=\"1\" class=\"dataframe\">\n",
       "  <thead>\n",
       "    <tr style=\"text-align: right;\">\n",
       "      <th></th>\n",
       "      <th>title</th>\n",
       "      <th>abstract</th>\n",
       "      <th>judgement</th>\n",
       "    </tr>\n",
       "    <tr>\n",
       "      <th>id</th>\n",
       "      <th></th>\n",
       "      <th></th>\n",
       "      <th></th>\n",
       "    </tr>\n",
       "  </thead>\n",
       "  <tbody>\n",
       "    <tr>\n",
       "      <th>0</th>\n",
       "      <td>One-year age changes in MRI brain volumes in o...</td>\n",
       "      <td>Longitudinal studies indicate that declines in...</td>\n",
       "      <td>0</td>\n",
       "    </tr>\n",
       "    <tr>\n",
       "      <th>1</th>\n",
       "      <td>Supportive CSF biomarker evidence to enhance t...</td>\n",
       "      <td>The present study was undertaken to validate t...</td>\n",
       "      <td>0</td>\n",
       "    </tr>\n",
       "    <tr>\n",
       "      <th>2</th>\n",
       "      <td>Occurrence of basal ganglia germ cell tumors w...</td>\n",
       "      <td>Objective: To report a case series in which ba...</td>\n",
       "      <td>0</td>\n",
       "    </tr>\n",
       "    <tr>\n",
       "      <th>3</th>\n",
       "      <td>New developments in diagnosis and therapy of C...</td>\n",
       "      <td>The etiology and pathogenesis of idiopathic ch...</td>\n",
       "      <td>0</td>\n",
       "    </tr>\n",
       "    <tr>\n",
       "      <th>4</th>\n",
       "      <td>Prolonged shedding of SARS-CoV-2 in an elderly...</td>\n",
       "      <td></td>\n",
       "      <td>0</td>\n",
       "    </tr>\n",
       "  </tbody>\n",
       "</table>\n",
       "</div>"
      ],
      "text/plain": [
       "                                                title  \\\n",
       "id                                                      \n",
       "0   One-year age changes in MRI brain volumes in o...   \n",
       "1   Supportive CSF biomarker evidence to enhance t...   \n",
       "2   Occurrence of basal ganglia germ cell tumors w...   \n",
       "3   New developments in diagnosis and therapy of C...   \n",
       "4   Prolonged shedding of SARS-CoV-2 in an elderly...   \n",
       "\n",
       "                                             abstract  judgement  \n",
       "id                                                                \n",
       "0   Longitudinal studies indicate that declines in...          0  \n",
       "1   The present study was undertaken to validate t...          0  \n",
       "2   Objective: To report a case series in which ba...          0  \n",
       "3   The etiology and pathogenesis of idiopathic ch...          0  \n",
       "4                                                              0  "
      ]
     },
     "execution_count": 7,
     "metadata": {},
     "output_type": "execute_result"
    }
   ],
   "source": [
    "train.head()"
   ]
  },
  {
   "cell_type": "code",
   "execution_count": 8,
   "id": "fedf8ad9-dfd8-45e5-908b-06c115093baf",
   "metadata": {},
   "outputs": [],
   "source": [
    "from sklearn.feature_extraction.text import CountVectorizer\n",
    "vect = CountVectorizer()"
   ]
  },
  {
   "cell_type": "code",
   "execution_count": 9,
   "id": "722db3a4-16b0-4a6c-a15f-720dfeb8834b",
   "metadata": {},
   "outputs": [],
   "source": [
    "title_list = train['title'].values.tolist()\n",
    "vect.fit(title_list)\n",
    "title_token_oh = vect.transform(title_list)\n",
    "title_token_oh = title_token_oh.toarray()"
   ]
  },
  {
   "cell_type": "code",
   "execution_count": 10,
   "id": "1bb384d5-78b2-4ab7-98b5-2820bfa2bf53",
   "metadata": {},
   "outputs": [],
   "source": [
    "abstract_list = train['abstract'].values.tolist()\n",
    "vect.fit(abstract_list)\n",
    "abstract_token_oh = vect.transform(abstract_list)\n",
    "abstract_token_oh = abstract_token_oh.toarray()"
   ]
  },
  {
   "cell_type": "code",
   "execution_count": 11,
   "id": "5b153f74-bb71-4f6e-89f0-59f9d88c69a2",
   "metadata": {},
   "outputs": [],
   "source": [
    "def append_len(df):\n",
    "    len_title = df.title.apply(len)\n",
    "    len_abstract = df.abstract.apply(len)\n",
    "    df[\"len_title\"] = len_title\n",
    "    df[\"len_abstract\"] = len_abstract\n",
    "    return df\n",
    "train = append_len(train)\n",
    "test = append_len(test)"
   ]
  },
  {
   "cell_type": "code",
   "execution_count": 12,
   "id": "de799d54-0eb2-4091-a3d5-26feab5e44d0",
   "metadata": {},
   "outputs": [
    {
     "data": {
      "text/plain": [
       "<AxesSubplot:xlabel='len_title', ylabel='Density'>"
      ]
     },
     "execution_count": 12,
     "metadata": {},
     "output_type": "execute_result"
    },
    {
     "data": {
      "image/png": "[encoded data removed]",
      "text/plain": [
       "<Figure size 432x288 with 1 Axes>"
      ]
     },
     "metadata": {
      "needs_background": "light"
     },
     "output_type": "display_data"
    }
   ],
   "source": [
    "import seaborn as sns\n",
    "sns.distplot(train['len_title'])"
   ]
  },
  {
   "cell_type": "code",
   "execution_count": 13,
   "id": "a40e68ff-c6f9-45bf-ad5c-2a4967d903a8",
   "metadata": {},
   "outputs": [
    {
     "data": {
      "text/plain": [
       "<AxesSubplot:xlabel='len_abstract', ylabel='Density'>"
      ]
     },
     "execution_count": 13,
     "metadata": {},
     "output_type": "execute_result"
    },
    {
     "data": {
      "image/png": "[encoded data removed]",
      "text/plain": [
       "<Figure size 432x288 with 1 Axes>"
      ]
     },
     "metadata": {
      "needs_background": "light"
     },
     "output_type": "display_data"
    }
   ],
   "source": [
    "import seaborn as sns\n",
    "sns.distplot(train['len_abstract'])"
   ]
  },
  {
   "cell_type": "code",
   "execution_count": 14,
   "id": "83874165-7fb6-40b6-b387-bab30293231c",
   "metadata": {},
   "outputs": [
    {
     "data": {
      "text/plain": [
       "<AxesSubplot:xlabel='judgement', ylabel='len_title'>"
      ]
     },
     "execution_count": 14,
     "metadata": {},
     "output_type": "execute_result"
    },
    {
     "data": {
      "image/png": "[encoded data removed]",
      "text/plain": [
       "<Figure size 432x288 with 1 Axes>"
      ]
     },
     "metadata": {
      "needs_background": "light"
     },
     "output_type": "display_data"
    }
   ],
   "source": [
    "sns.boxplot(x=train.judgement, y=train['len_title'])"
   ]
  },
  {
   "cell_type": "code",
   "execution_count": 15,
   "id": "d1d173e9-db60-4b20-a553-2b012adc8bcf",
   "metadata": {},
   "outputs": [
    {
     "data": {
      "text/plain": [
       "<AxesSubplot:xlabel='judgement', ylabel='len_title'>"
      ]
     },
     "execution_count": 15,
     "metadata": {},
     "output_type": "execute_result"
    },
    {
     "data": {
      "image/png": "[encoded data removed]",
      "text/plain": [
       "<Figure size 432x288 with 1 Axes>"
      ]
     },
     "metadata": {
      "needs_background": "light"
     },
     "output_type": "display_data"
    }
   ],
   "source": [
    "sns.boxplot(x=train.judgement, y=train['len_title'])"
   ]
  },
  {
   "cell_type": "code",
   "execution_count": 16,
   "id": "496d8e7d-04d9-4ec7-99b4-d9a0a8b18691",
   "metadata": {},
   "outputs": [
    {
     "data": {
      "text/plain": [
       "Text(0.5, 0, 'Message Length')"
      ]
     },
     "execution_count": 16,
     "metadata": {},
     "output_type": "execute_result"
    },
    {
     "data": {
      "image/png": "[encoded data removed]",
      "text/plain": [
       "<Figure size 864x576 with 1 Axes>"
      ]
     },
     "metadata": {
      "needs_background": "light"
     },
     "output_type": "display_data"
    }
   ],
   "source": [
    "plt.figure(figsize=(12, 8))\n",
    "\n",
    "train[train.judgement==0].len_title.plot(bins=35, kind='hist', color='blue', \n",
    "                                       label='Ham messages', alpha=0.6)\n",
    "train[train.judgement==1].len_title.plot(kind='hist', color='red', \n",
    "                                       label='Spam messages', alpha=0.6)\n",
    "plt.legend()\n",
    "plt.xlabel(\"Message Length\")"
   ]
  },
  {
   "cell_type": "code",
   "execution_count": 17,
   "id": "025400e4-c122-4cf5-8e5f-0fc6fd5a5681",
   "metadata": {},
   "outputs": [
    {
     "data": {
      "text/plain": [
       "Text(0.5, 0, 'Message Length')"
      ]
     },
     "execution_count": 17,
     "metadata": {},
     "output_type": "execute_result"
    },
    {
     "data": {
      "image/png": "[encoded data removed]",
      "text/plain": [
       "<Figure size 864x576 with 1 Axes>"
      ]
     },
     "metadata": {
      "needs_background": "light"
     },
     "output_type": "display_data"
    }
   ],
   "source": [
    "plt.figure(figsize=(12, 8))\n",
    "\n",
    "train[train.judgement==0].len_abstract.plot(bins=35, kind='hist', color='blue', \n",
    "                                       label='Ham messages', alpha=0.6)\n",
    "train[train.judgement==1].len_abstract.plot(kind='hist', color='red', \n",
    "                                       label='Spam messages', alpha=0.6)\n",
    "plt.legend()\n",
    "plt.xlabel(\"Message Length\")"
   ]
  },
  {
   "cell_type": "code",
   "execution_count": 18,
   "id": "cb56e9b5-2ea2-4aba-bd09-168d4db9ca39",
   "metadata": {},
   "outputs": [],
   "source": [
    "import string\n",
    "from nltk.corpus import stopwords\n",
    "from sklearn.feature_extraction.text import CountVectorizer"
   ]
  },
  {
   "cell_type": "code",
   "execution_count": 19,
   "id": "a55ba89e-bd6c-4ae4-bb77-43e1d67974cf",
   "metadata": {},
   "outputs": [],
   "source": [
    "def text_process(mess):\n",
    "    STOPWORDS = stopwords.words('english') + ['u', 'ü', 'ur', '4', '2', 'im', 'dont', 'doin', 'ure']\n",
    "    a = ''.join(map(str, list(range(10))))\n",
    "    nopunc = [char for char in mess if char not in string.punctuation +a]\n",
    "    nopunc = ''.join(nopunc)\n",
    "    return ' '.join([word.lower() for word in nopunc.split() if word.lower() not in STOPWORDS])"
   ]
  },
  {
   "cell_type": "code",
   "execution_count": 20,
   "id": "f4a4167f-1cac-4335-a40a-4b1b56b80173",
   "metadata": {},
   "outputs": [],
   "source": [
    "train['title_token'] = train.title.apply(text_process)\n",
    "train['abstract_token'] = train.abstract.apply(text_process)\n",
    "test['title_token'] = test.title.apply(text_process)\n",
    "test['abstract_token'] = test.abstract.apply(text_process)"
   ]
  },
  {
   "cell_type": "code",
   "execution_count": 31,
   "id": "7acf1fee-f7a7-4af2-bd72-0bec2ec01396",
   "metadata": {},
   "outputs": [],
   "source": [
    "vectorizer = CountVectorizer()\n",
    "vectorizer.fit(pd.concat([train['title_token'], test['title_token']], axis=0).tolist())\n",
    "title_list = vectorizer.get_feature_names()\n",
    "X_title_train = vectorizer.transform(train['title_token']).toarray()\n",
    "X_title_test = vectorizer.transform(test['title_token']).toarray()"
   ]
  },
  {
   "cell_type": "code",
   "execution_count": 32,
   "id": "30f84f12-0350-4c0c-8451-3a742c352bfc",
   "metadata": {},
   "outputs": [],
   "source": [
    "vectorizer = CountVectorizer()\n",
    "vectorizer.fit(pd.concat([train['abstract_token'], test['abstract_token']], axis=0).tolist())\n",
    "abstract_list = vectorizer.get_feature_names()\n",
    "X_abstract_train = vectorizer.transform(train['abstract_token']).toarray()\n",
    "X_abstract_test = vectorizer.transform(test['abstract_token']).toarray()"
   ]
  },
  {
   "cell_type": "code",
   "execution_count": 33,
   "id": "6147e2cd-6ece-402e-8b71-7e3020899c16",
   "metadata": {},
   "outputs": [
    {
     "data": {
      "text/plain": [
       "(27145, 141376)"
      ]
     },
     "execution_count": 33,
     "metadata": {},
     "output_type": "execute_result"
    }
   ],
   "source": [
    "X_abstract_train.shape"
   ]
  },
  {
   "cell_type": "code",
   "execution_count": 34,
   "id": "3f8089f7-c8a5-4241-97b0-56b5692b8f3d",
   "metadata": {
    "tags": []
   },
   "outputs": [],
   "source": [
    "# Santandarのデータには適用できないので、簡単な紹介のみ\n",
    "from operator import itemgetter\n",
    "from sklearn.feature_selection import chi2\n",
    "# fisher score\n",
    "fscore = chi2(X_title_train, train.judgement)[0]"
   ]
  },
  {
   "cell_type": "code",
   "execution_count": 35,
   "id": "05439e31-4532-4bc0-a9a2-39d6647fe047",
   "metadata": {
    "tags": []
   },
   "outputs": [],
   "source": [
    "#とりあえず次元が多すぎるので上位500のみ使用する\n",
    "fscore = chi2(X_title_train, train.judgement)[0]\n",
    "fscore = np.array(fscore)\n",
    "idx = np.argsort(-fscore)[:500]\n",
    "X_title_500_train = X_title_train[:, idx]\n",
    "X_title_500_test = X_title_test[:, idx]\n",
    "title_list_500 = np.array(title_list)[idx]"
   ]
  },
  {
   "cell_type": "code",
   "execution_count": 36,
   "id": "d475089f-e1fc-4315-b6b7-0b646fc45df0",
   "metadata": {},
   "outputs": [],
   "source": [
    "#とりあえず次元が多すぎるので上位500のみ使用する\n",
    "fscore = chi2(X_abstract_train, train.judgement)[0]\n",
    "fscore = np.array(fscore)\n",
    "idx = np.argsort(-fscore)[:500]\n",
    "X_abstract_500_train = X_abstract_train[:, idx]\n",
    "X_abstract_500_test = X_abstract_test[:, idx]\n",
    "abstract_list_500 = np.array(abstract_list)[idx]"
   ]
  },
  {
   "cell_type": "code",
   "execution_count": 37,
   "id": "deea0955-0376-486e-a961-b6fdc255c7f0",
   "metadata": {},
   "outputs": [],
   "source": [
    "X_chi2_train = np.concatenate([X_title_500_train, X_abstract_500_train], axis = 1)\n",
    "X_chi2_test = np.concatenate([X_title_500_test, X_abstract_500_test], axis = 1)"
   ]
  },
  {
   "cell_type": "code",
   "execution_count": 38,
   "id": "7fe0e5dd-49d9-4d79-910c-a5fe4aa595a3",
   "metadata": {},
   "outputs": [],
   "source": [
    "columns_title = list(map(lambda x:f\"title_count_{x}\", title_list_500))\n",
    "columns_abstract = list(map( lambda x:f\"abstract_count_{x}\", abstract_list_500))\n",
    "train.loc[:, columns_title + columns_abstract] = X_chi2_train\n",
    "test.loc[:, columns_title + columns_abstract] = X_chi2_test"
   ]
  },
  {
   "cell_type": "code",
   "execution_count": 50,
   "id": "5d2702c1-ade9-4f0f-b231-971e544ad89c",
   "metadata": {},
   "outputs": [],
   "source": [
    "#保存先のディレクトリ作成\n",
    "save_dir = \"./dataset/data3\"\n",
    "if not os.path.isdir(save_dir):\n",
    "    os.makedirs(save_dir)\n",
    "train.to_csv(os.path.join(save_dir, 'train.csv'))\n",
    "test.to_csv(os.path.join(save_dir, 'test.csv'))"
   ]
  },
  {
   "cell_type": "code",
   "execution_count": null,
   "id": "3eb085da-d4fc-47e6-ac30-1d5bee493a4b",
   "metadata": {},
   "outputs": [],
   "source": []
  }
 ],
 "metadata": {
  "kernelspec": {
   "display_name": "signate_env",
   "language": "python",
   "name": "signate_env"
  },
  "language_info": {
   "codemirror_mode": {
    "name": "ipython",
    "version": 3
   },
   "file_extension": ".py",
   "mimetype": "text/x-python",
   "name": "python",
   "nbconvert_exporter": "python",
   "pygments_lexer": "ipython3",
   "version": "3.9.6"
  }
 },
 "nbformat": 4,
 "nbformat_minor": 5
}
