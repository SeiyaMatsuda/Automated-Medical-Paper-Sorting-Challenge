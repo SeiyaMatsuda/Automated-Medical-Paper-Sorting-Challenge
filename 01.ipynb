{
 "cells": [
  {
   "cell_type": "markdown",
   "id": "b24625a1-7ba1-47b4-b1ab-211d6459c363",
   "metadata": {
    "jp-MarkdownHeadingCollapsed": true,
    "tags": []
   },
   "source": [
    "1. データの読み込み"
   ]
  },
  {
   "cell_type": "code",
   "execution_count": 2,
   "id": "ed6cdea4",
   "metadata": {},
   "outputs": [],
   "source": [
    "import math\n",
    "import random\n",
    "import time\n",
    "import warnings\n",
    "import numpy as np\n",
    "import pandas as pd\n",
    "import torch\n",
    "import torch.nn as nn\n",
    "import os\n",
    "import transformers as T\n",
    "from pathlib import Path\n",
    "from sklearn.metrics import fbeta_score\n",
    "from sklearn.model_selection import StratifiedKFold\n",
    "from torch.utils.data import DataLoader, Dataset\n",
    "from tqdm.notebook import tqdm"
   ]
  },
  {
   "cell_type": "code",
   "execution_count": 3,
   "id": "23e20c63",
   "metadata": {},
   "outputs": [],
   "source": [
    "warnings.filterwarnings(\"ignore\")"
   ]
  },
  {
   "cell_type": "code",
   "execution_count": 4,
   "id": "74829744-95a2-4e2a-b2ec-5401640d6b99",
   "metadata": {},
   "outputs": [
    {
     "name": "stdout",
     "output_type": "stream",
     "text": [
      "cuda\n"
     ]
    }
   ],
   "source": [
    "device = torch.device(\"cuda\" if torch.cuda.is_available() else \"cpu\")\n",
    "print(device)"
   ]
  },
  {
   "cell_type": "code",
   "execution_count": 5,
   "id": "42ab13eb-6570-472c-97ee-eab8f5821e79",
   "metadata": {},
   "outputs": [],
   "source": [
    "def seed_torch(seed=42):\n",
    "    random.seed(seed)\n",
    "    os.environ[\"PYTHONHASHSEED\"] = str(seed)\n",
    "    np.random.seed(seed)\n",
    "    torch.manual_seed(seed)\n",
    "    torch.cuda.manual_seed(seed)\n",
    "    torch.cuda.manual_seed_all(seed)\n",
    "    torch.backends.cudnn.deterministic = True\n",
    "\n",
    "seed = 471\n",
    "seed_torch(seed)"
   ]
  },
  {
   "cell_type": "code",
   "execution_count": 23,
   "id": "8519c10e-d167-4886-a9c8-8d089db471f8",
   "metadata": {},
   "outputs": [],
   "source": [
    "DATA_DIR = './dataset/data1'\n",
    "OUTPUT_DIR = './result/result3/'\n",
    "if not os.path.isdir(OUTPUT_DIR):\n",
    "    os.makedirs(OUTPUT_DIR)"
   ]
  },
  {
   "cell_type": "code",
   "execution_count": 7,
   "id": "13dd61c3-7492-47af-b121-084f344fcdc6",
   "metadata": {
    "tags": []
   },
   "outputs": [],
   "source": [
    "def init_logger(log_file=OUTPUT_DIR + \"/train.log\"):\n",
    "    from logging import INFO, FileHandler, Formatter, StreamHandler, getLogger\n",
    "\n",
    "    logger = getLogger(__name__)\n",
    "    logger.setLevel(INFO)\n",
    "    handler1 = StreamHandler()\n",
    "    handler1.setFormatter(Formatter(\"%(message)s\"))\n",
    "    handler2 = FileHandler(filename=log_file)\n",
    "    handler2.setFormatter(Formatter(\"%(message)s\"))\n",
    "    logger.addHandler(handler1)\n",
    "    logger.addHandler(handler2)\n",
    "    return logger\n",
    "\n",
    "LOGGER = init_logger()"
   ]
  },
  {
   "cell_type": "code",
   "execution_count": 8,
   "id": "db7afb3d-e9f1-4e87-a78d-488bfa71db82",
   "metadata": {},
   "outputs": [],
   "source": [
    "train = pd.read_csv(DATA_DIR  +\"/train.csv\", index_col=0)\n",
    "test = pd.read_csv(DATA_DIR + \"/test.csv\", index_col=0)\n",
    "sub = pd.read_csv(DATA_DIR + \"/sample_submit.csv\", header=None)\n",
    "sub.columns = [\"id\", \"judgement\"]"
   ]
  },
  {
   "cell_type": "code",
   "execution_count": 9,
   "id": "fedf8ad9-dfd8-45e5-908b-06c115093baf",
   "metadata": {},
   "outputs": [
    {
     "name": "stdout",
     "output_type": "stream",
     "text": [
      "0.023282372444280715\n"
     ]
    }
   ],
   "source": [
    "# この値を境に、モデルの出力を 0 と 1 にします。\n",
    "border = len(train[train[\"judgement\"] == 1]) / len(train[\"judgement\"])\n",
    "print(border)"
   ]
  },
  {
   "cell_type": "code",
   "execution_count": 10,
   "id": "71388fe1-6635-473a-bd81-01384a2f2aee",
   "metadata": {},
   "outputs": [],
   "source": [
    "def get_train_data(train):\n",
    "\n",
    "    # 交差検証 用の番号を振ります。\n",
    "    Fold = StratifiedKFold(n_splits=5, shuffle=True, random_state=seed)\n",
    "    for n, (train_index, val_index) in enumerate(Fold.split(train, train[\"judgement\"])):\n",
    "        train.loc[val_index, \"fold\"] = int(n)\n",
    "    train[\"fold\"] = train[\"fold\"].astype(np.uint8)\n",
    "\n",
    "    return train"
   ]
  },
  {
   "cell_type": "code",
   "execution_count": 11,
   "id": "fe0073b6-a0a6-44a2-9029-fcd48817e793",
   "metadata": {},
   "outputs": [],
   "source": [
    "def get_test_data(test):\n",
    "    return test"
   ]
  },
  {
   "cell_type": "code",
   "execution_count": 12,
   "id": "cccf40ac-ca6f-475e-a0ab-1740b1841310",
   "metadata": {},
   "outputs": [],
   "source": [
    "train = get_train_data(train)"
   ]
  },
  {
   "cell_type": "code",
   "execution_count": 13,
   "id": "92dad8e7-a220-4b5f-ab7d-6dd5f11345e4",
   "metadata": {},
   "outputs": [],
   "source": [
    "class BaseDataset(Dataset):\n",
    "    def __init__(self, df, model_name, include_labels=True):\n",
    "        tokenizer = T.BertTokenizer.from_pretrained(model_name)\n",
    "\n",
    "        self.df = df\n",
    "        self.include_labels = include_labels\n",
    "\n",
    "        self.title = df[\"title\"]\n",
    "        self.encoded = tokenizer.batch_encode_plus(\n",
    "            self.title,\n",
    "            padding = 'max_length',            \n",
    "            max_length = 72,\n",
    "            truncation = True,\n",
    "            return_attention_mask=True\n",
    "        )\n",
    "        \n",
    "        if self.include_labels:\n",
    "            self.labels = df[\"judgement\"].values\n",
    "\n",
    "    def __len__(self):\n",
    "        return len(self.df)\n",
    "\n",
    "    def __getitem__(self, idx):\n",
    "        input_ids = torch.tensor(self.encoded['input_ids'][idx])\n",
    "        attention_mask = torch.tensor(self.encoded['attention_mask'][idx])\n",
    "\n",
    "        if self.include_labels:\n",
    "            label = torch.tensor(self.labels[idx]).float()\n",
    "            return input_ids, attention_mask, label\n",
    "\n",
    "        return input_ids, attention_mask"
   ]
  },
  {
   "cell_type": "code",
   "execution_count": 14,
   "id": "d20a5d76-0d5c-4255-ab0c-aa0a0fd7be24",
   "metadata": {},
   "outputs": [],
   "source": [
    "class BaseModel(nn.Module):\n",
    "    def __init__(self, model_name):\n",
    "        super().__init__()\n",
    "\n",
    "        self.model = T.BertForSequenceClassification.from_pretrained(model_name, num_labels=1)\n",
    "        self.sigmoid = nn.Sigmoid()\n",
    "\n",
    "    def forward(self, input_ids, attention_mask):\n",
    "        out = self.model(input_ids=input_ids, attention_mask=attention_mask)\n",
    "        out = self.sigmoid(out.logits).squeeze()\n",
    "\n",
    "        return out"
   ]
  },
  {
   "cell_type": "code",
   "execution_count": 15,
   "id": "cceceab6-1098-4296-b9f7-89a9b3b2fe08",
   "metadata": {},
   "outputs": [],
   "source": [
    "class AverageMeter(object):\n",
    "    \"\"\"Computes and stores the average and current value\"\"\"\n",
    "\n",
    "    def __init__(self):\n",
    "        self.reset()\n",
    "\n",
    "    def reset(self):\n",
    "        self.val = 0\n",
    "        self.avg = 0\n",
    "        self.sum = 0\n",
    "        self.count = 0\n",
    "\n",
    "    def update(self, val, n=1):\n",
    "        self.val = val\n",
    "        self.sum += val * n\n",
    "        self.count += n\n",
    "        self.avg = self.sum / self.count\n",
    "\n",
    "\n",
    "def asMinutes(s):\n",
    "    m = math.floor(s / 60)\n",
    "    s -= m * 60\n",
    "    return \"%dm %ds\" % (m, s)\n",
    "\n",
    "\n",
    "def timeSince(since, percent):\n",
    "    now = time.time()\n",
    "    s = now - since\n",
    "    es = s / (percent)\n",
    "    rs = es - s\n",
    "    return \"%s (remain %s)\" % (asMinutes(s), asMinutes(rs))"
   ]
  },
  {
   "cell_type": "code",
   "execution_count": 16,
   "id": "b66bbde8-0a88-4bc7-9aab-1e3e2d87be18",
   "metadata": {},
   "outputs": [],
   "source": [
    "def train_fn(train_loader, model, criterion, optimizer, epoch, device):\n",
    "    start = end = time.time()\n",
    "    losses = AverageMeter()\n",
    "\n",
    "    # switch to train mode\n",
    "    model.train()\n",
    "\n",
    "    for step, (input_ids, attention_mask, labels) in enumerate(train_loader):\n",
    "        optimizer.zero_grad()\n",
    "\n",
    "        input_ids = input_ids.to(device)\n",
    "        attention_mask = attention_mask.to(device)\n",
    "        labels = labels.to(device)\n",
    "        batch_size = labels.size(0)\n",
    "\n",
    "        y_preds = model(input_ids, attention_mask)\n",
    "\n",
    "        loss = criterion(y_preds, labels)\n",
    "\n",
    "        # record loss\n",
    "        losses.update(loss.item(), batch_size)\n",
    "        loss.backward()\n",
    "\n",
    "        optimizer.step()\n",
    "\n",
    "        if step % 100 == 0 or step == (len(train_loader) - 1):\n",
    "            print(\n",
    "                f\"Epoch: [{epoch + 1}][{step}/{len(train_loader)}] \"\n",
    "                f\"Elapsed {timeSince(start, float(step + 1) / len(train_loader)):s} \"\n",
    "                f\"Loss: {losses.avg:.4f} \"\n",
    "            )\n",
    "\n",
    "    return losses.avg"
   ]
  },
  {
   "cell_type": "code",
   "execution_count": 17,
   "id": "e3eb1b26-4538-4a05-b4d6-16165bdc49c2",
   "metadata": {},
   "outputs": [],
   "source": [
    "def valid_fn(valid_loader, model, criterion, device):\n",
    "    start = end = time.time()\n",
    "    losses = AverageMeter()\n",
    "\n",
    "    # switch to evaluation mode\n",
    "    model.eval()\n",
    "    preds = []\n",
    "\n",
    "    for step, (input_ids, attention_mask, labels) in enumerate(valid_loader):\n",
    "        input_ids = input_ids.to(device)\n",
    "        attention_mask = attention_mask.to(device)\n",
    "        labels = labels.to(device)\n",
    "        batch_size = labels.size(0)\n",
    "\n",
    "        # compute loss\n",
    "        with torch.no_grad():\n",
    "            y_preds = model(input_ids, attention_mask)\n",
    "\n",
    "        loss = criterion(y_preds, labels)\n",
    "        losses.update(loss.item(), batch_size)\n",
    "\n",
    "        # record score\n",
    "        preds.append(y_preds.to(\"cpu\").numpy())\n",
    "\n",
    "        if step % 100 == 0 or step == (len(valid_loader) - 1):\n",
    "            print(\n",
    "                f\"EVAL: [{step}/{len(valid_loader)}] \"\n",
    "                f\"Elapsed {timeSince(start, float(step + 1) / len(valid_loader)):s} \"\n",
    "                f\"Loss: {losses.avg:.4f} \"\n",
    "            )\n",
    "\n",
    "    predictions = np.concatenate(preds)\n",
    "    return losses.avg, predictions"
   ]
  },
  {
   "cell_type": "code",
   "execution_count": 18,
   "id": "1dc9ca74-bc5f-4fb7-89b8-3d287df9dbd9",
   "metadata": {},
   "outputs": [],
   "source": [
    "def train_loop(train, fold):\n",
    "\n",
    "    LOGGER.info(f\"========== fold: {fold} training ==========\")\n",
    "\n",
    "    # ====================================================\n",
    "    # Data Loader\n",
    "    # ====================================================\n",
    "    trn_idx = train[train[\"fold\"] != fold].index\n",
    "    val_idx = train[train[\"fold\"] == fold].index\n",
    "\n",
    "    train_folds = train.loc[trn_idx].reset_index(drop=True)\n",
    "    valid_folds = train.loc[val_idx].reset_index(drop=True)\n",
    "\n",
    "    train_dataset = BaseDataset(train_folds, \"bert-base-uncased\")\n",
    "    valid_dataset = BaseDataset(valid_folds, \"bert-base-uncased\")\n",
    "\n",
    "    train_loader = DataLoader(\n",
    "        train_dataset,\n",
    "        batch_size=16,\n",
    "        shuffle=True,\n",
    "        num_workers=4,\n",
    "        pin_memory=True,\n",
    "        drop_last=True,\n",
    "    )\n",
    "    valid_loader = DataLoader(\n",
    "        valid_dataset,\n",
    "        batch_size=16,\n",
    "        shuffle=False,\n",
    "        num_workers=4,\n",
    "        pin_memory=True,\n",
    "        drop_last=False,\n",
    "    )\n",
    "\n",
    "    # ====================================================\n",
    "    # Model\n",
    "    # ====================================================\n",
    "    model = BaseModel(\"bert-base-uncased\")\n",
    "    model.to(device)\n",
    "\n",
    "    optimizer = T.AdamW(model.parameters(), lr=2e-5)\n",
    "\n",
    "    criterion = nn.BCELoss()\n",
    "\n",
    "    # ====================================================\n",
    "    # Loop\n",
    "    # ====================================================\n",
    "    best_score = -1\n",
    "    best_loss = np.inf\n",
    "\n",
    "    for epoch in range(3):\n",
    "        start_time = time.time()\n",
    "        \n",
    "        # train\n",
    "        avg_loss = train_fn(train_loader, model, criterion, optimizer, epoch, device)\n",
    "\n",
    "        # eval\n",
    "        avg_val_loss, preds = valid_fn(valid_loader, model, criterion, device)\n",
    "        valid_labels = valid_folds[\"judgement\"].values\n",
    "\n",
    "        # scoring\n",
    "        score = fbeta_score(valid_labels, np.where(preds < border, 0, 1), beta=7.0)\n",
    "\n",
    "        elapsed = time.time() - start_time\n",
    "        LOGGER.info(\n",
    "            f\"Epoch {epoch+1} - avg_train_loss: {avg_loss:.4f}  avg_val_loss: {avg_val_loss:.4f}  time: {elapsed:.0f}s\"\n",
    "        )\n",
    "        LOGGER.info(f\"Epoch {epoch+1} - Score: {score}\")\n",
    "\n",
    "        if score > best_score:\n",
    "            best_score = score\n",
    "            LOGGER.info(f\"Epoch {epoch+1} - Save Best Score: {best_score:.4f} Model\")\n",
    "            torch.save(\n",
    "                {\"model\": model.state_dict(), \"preds\": preds}, OUTPUT_DIR + f\"bert-base-uncased_fold{fold}_best.pth\"\n",
    "            )\n",
    "\n",
    "    check_point = torch.load(OUTPUT_DIR + f\"bert-base-uncased_fold{fold}_best.pth\")\n",
    "\n",
    "    valid_folds[\"preds\"] = check_point[\"preds\"]\n",
    "\n",
    "    return valid_folds"
   ]
  },
  {
   "cell_type": "code",
   "execution_count": 19,
   "id": "2d1d1b73-abf5-4f98-b9df-f68b0f9aa1aa",
   "metadata": {},
   "outputs": [],
   "source": [
    "def inference():\n",
    "    predictions = []\n",
    "\n",
    "    test_dataset = BaseDataset(test, \"bert-base-uncased\", include_labels=False)\n",
    "    test_loader = DataLoader(\n",
    "        test_dataset, batch_size=16, shuffle=False, num_workers=4, pin_memory=True\n",
    "    )\n",
    "\n",
    "    for fold in range(5):\n",
    "        LOGGER.info(f\"========== model: bert-base-uncased fold: {fold} inference ==========\")\n",
    "        model = BaseModel(\"bert-base-uncased\")\n",
    "        model.to(device)\n",
    "        model.load_state_dict(torch.load(OUTPUT_DIR + f\"bert-base-uncased_fold{fold}_best.pth\")[\"model\"])\n",
    "        model.eval()\n",
    "        preds = []\n",
    "        for i, (input_ids, attention_mask) in tqdm(enumerate(test_loader), total=len(test_loader)):\n",
    "            input_ids = input_ids.to(device)\n",
    "            attention_mask = attention_mask.to(device)\n",
    "            with torch.no_grad():\n",
    "                y_preds = model(input_ids, attention_mask)\n",
    "            preds.append(y_preds.to(\"cpu\").numpy())\n",
    "        preds = np.concatenate(preds)\n",
    "        predictions.append(preds)\n",
    "    predictions = np.mean(predictions, axis=0)\n",
    "\n",
    "    return predictions"
   ]
  },
  {
   "cell_type": "code",
   "execution_count": 20,
   "id": "7a7303c8-8caa-4ca8-8824-450ecf406ff5",
   "metadata": {},
   "outputs": [],
   "source": [
    "def get_result(result_df):\n",
    "    preds = result_df[\"preds\"].values\n",
    "    labels = result_df[\"judgement\"].values\n",
    "    score = fbeta_score(labels, np.where(preds < border, 0, 1), beta=7.0)\n",
    "    LOGGER.info(f\"Score: {score:<.5f}\")"
   ]
  },
  {
   "cell_type": "code",
   "execution_count": 24,
   "id": "7e7f1df6-599e-462f-87c9-320c5362a71c",
   "metadata": {},
   "outputs": [],
   "source": [
    "def main():\n",
    "    # Training\n",
    "    oof_df = pd.DataFrame()\n",
    "    for fold in range(5):\n",
    "        _oof_df = train_loop(train, fold)\n",
    "        oof_df = pd.concat([oof_df, _oof_df])\n",
    "        LOGGER.info(f\"========== fold: {fold} result ==========\")\n",
    "        get_result(_oof_df)\n",
    "        \n",
    "    # CV result\n",
    "    LOGGER.info(f\"========== CV ==========\")\n",
    "    get_result(oof_df)\n",
    "    \n",
    "    # Save OOF result\n",
    "    oof_df.to_csv(OUTPUT_DIR + \"oof_df.csv\", index=False)\n",
    "\n",
    "    # Inference\n",
    "    predictions = inference()\n",
    "    predictions = np.where(predictions < border, 0, 1)\n",
    "\n",
    "    # submission\n",
    "    sub[\"judgement\"] = predictions\n",
    "    sub.to_csv(OUTPUT_DIR + \"submission.csv\", index=False, header=False)"
   ]
  },
  {
   "cell_type": "code",
   "execution_count": 25,
   "id": "d4302906-8e71-4098-b3b0-592cf220063d",
   "metadata": {},
   "outputs": [
    {
     "name": "stderr",
     "output_type": "stream",
     "text": [
      "========== fold: 0 training ==========\n",
      "Some weights of the model checkpoint at bert-base-uncased were not used when initializing BertForSequenceClassification: ['cls.predictions.transform.LayerNorm.bias', 'cls.seq_relationship.bias', 'cls.predictions.decoder.weight', 'cls.seq_relationship.weight', 'cls.predictions.bias', 'cls.predictions.transform.dense.weight', 'cls.predictions.transform.LayerNorm.weight', 'cls.predictions.transform.dense.bias']\n",
      "- This IS expected if you are initializing BertForSequenceClassification from the checkpoint of a model trained on another task or with another architecture (e.g. initializing a BertForSequenceClassification model from a BertForPreTraining model).\n",
      "- This IS NOT expected if you are initializing BertForSequenceClassification from the checkpoint of a model that you expect to be exactly identical (initializing a BertForSequenceClassification model from a BertForSequenceClassification model).\n",
      "Some weights of BertForSequenceClassification were not initialized from the model checkpoint at bert-base-uncased and are newly initialized: ['classifier.bias', 'classifier.weight']\n",
      "You should probably TRAIN this model on a down-stream task to be able to use it for predictions and inference.\n",
      "[W pthreadpool-cpp.cc:90] Warning: Leaking Caffe2 thread-pool after fork. (function pthreadpool)\n",
      "[W pthreadpool-cpp.cc:90] Warning: Leaking Caffe2 thread-pool after fork. (function pthreadpool)\n",
      "[W pthreadpool-cpp.cc:90] Warning: Leaking Caffe2 thread-pool after fork. (function pthreadpool)\n",
      "[W pthreadpool-cpp.cc:90] Warning: Leaking Caffe2 thread-pool after fork. (function pthreadpool)\n"
     ]
    },
    {
     "name": "stdout",
     "output_type": "stream",
     "text": [
      "Epoch: [1][0/1357] Elapsed 0m 0s (remain 5m 4s) Loss: 0.9828 \n",
      "Epoch: [1][100/1357] Elapsed 0m 10s (remain 2m 9s) Loss: 0.1852 \n",
      "Epoch: [1][200/1357] Elapsed 0m 20s (remain 1m 58s) Loss: 0.1437 \n",
      "Epoch: [1][300/1357] Elapsed 0m 31s (remain 1m 48s) Loss: 0.1317 \n",
      "Epoch: [1][400/1357] Elapsed 0m 41s (remain 1m 38s) Loss: 0.1188 \n",
      "Epoch: [1][500/1357] Elapsed 0m 51s (remain 1m 28s) Loss: 0.1123 \n",
      "Epoch: [1][600/1357] Elapsed 1m 2s (remain 1m 18s) Loss: 0.1099 \n",
      "Epoch: [1][700/1357] Elapsed 1m 12s (remain 1m 7s) Loss: 0.1083 \n",
      "Epoch: [1][800/1357] Elapsed 1m 22s (remain 0m 57s) Loss: 0.1043 \n",
      "Epoch: [1][900/1357] Elapsed 1m 33s (remain 0m 47s) Loss: 0.0992 \n",
      "Epoch: [1][1000/1357] Elapsed 1m 44s (remain 0m 37s) Loss: 0.0952 \n",
      "Epoch: [1][1100/1357] Elapsed 1m 54s (remain 0m 26s) Loss: 0.0926 \n",
      "Epoch: [1][1200/1357] Elapsed 2m 4s (remain 0m 16s) Loss: 0.0905 \n",
      "Epoch: [1][1300/1357] Elapsed 2m 14s (remain 0m 5s) Loss: 0.0889 \n"
     ]
    },
    {
     "name": "stderr",
     "output_type": "stream",
     "text": [
      "[W pthreadpool-cpp.cc:90] Warning: Leaking Caffe2 thread-pool after fork. (function pthreadpool)\n",
      "[W pthreadpool-cpp.cc:90] Warning: Leaking Caffe2 thread-pool after fork. (function pthreadpool)\n"
     ]
    },
    {
     "name": "stdout",
     "output_type": "stream",
     "text": [
      "Epoch: [1][1356/1357] Elapsed 2m 20s (remain 0m 0s) Loss: 0.0866 \n"
     ]
    },
    {
     "name": "stderr",
     "output_type": "stream",
     "text": [
      "[W pthreadpool-cpp.cc:90] Warning: Leaking Caffe2 thread-pool after fork. (function pthreadpool)\n",
      "[W pthreadpool-cpp.cc:90] Warning: Leaking Caffe2 thread-pool after fork. (function pthreadpool)\n"
     ]
    },
    {
     "name": "stdout",
     "output_type": "stream",
     "text": [
      "EVAL: [0/340] Elapsed 0m 0s (remain 0m 48s) Loss: 0.0015 \n"
     ]
    },
    {
     "name": "stderr",
     "output_type": "stream",
     "text": [
      "[W pthreadpool-cpp.cc:90] Warning: Leaking Caffe2 thread-pool after fork. (function pthreadpool)\n",
      "[W pthreadpool-cpp.cc:90] Warning: Leaking Caffe2 thread-pool after fork. (function pthreadpool)\n"
     ]
    },
    {
     "name": "stdout",
     "output_type": "stream",
     "text": [
      "EVAL: [100/340] Elapsed 0m 3s (remain 0m 7s) Loss: 0.0544 \n",
      "EVAL: [200/340] Elapsed 0m 6s (remain 0m 4s) Loss: 0.0598 \n",
      "EVAL: [300/340] Elapsed 0m 9s (remain 0m 1s) Loss: 0.0596 \n"
     ]
    },
    {
     "name": "stderr",
     "output_type": "stream",
     "text": [
      "[W pthreadpool-cpp.cc:90] Warning: Leaking Caffe2 thread-pool after fork. (function pthreadpool)\n",
      "[W pthreadpool-cpp.cc:90] Warning: Leaking Caffe2 thread-pool after fork. (function pthreadpool)\n",
      "Epoch 1 - avg_train_loss: 0.0866  avg_val_loss: 0.0601  time: 151s\n",
      "Epoch 1 - Score: 0.8168927250308262\n",
      "Epoch 1 - Save Best Score: 0.8169 Model\n"
     ]
    },
    {
     "name": "stdout",
     "output_type": "stream",
     "text": [
      "EVAL: [339/340] Elapsed 0m 10s (remain 0m 0s) Loss: 0.0601 \n"
     ]
    },
    {
     "name": "stderr",
     "output_type": "stream",
     "text": [
      "[W pthreadpool-cpp.cc:90] Warning: Leaking Caffe2 thread-pool after fork. (function pthreadpool)\n",
      "[W pthreadpool-cpp.cc:90] Warning: Leaking Caffe2 thread-pool after fork. (function pthreadpool)\n",
      "[W pthreadpool-cpp.cc:90] Warning: Leaking Caffe2 thread-pool after fork. (function pthreadpool)\n",
      "[W pthreadpool-cpp.cc:90] Warning: Leaking Caffe2 thread-pool after fork. (function pthreadpool)\n"
     ]
    },
    {
     "name": "stdout",
     "output_type": "stream",
     "text": [
      "Epoch: [2][0/1357] Elapsed 0m 0s (remain 5m 1s) Loss: 0.0036 \n",
      "Epoch: [2][100/1357] Elapsed 0m 10s (remain 2m 12s) Loss: 0.0443 \n",
      "Epoch: [2][200/1357] Elapsed 0m 20s (remain 1m 58s) Loss: 0.0492 \n",
      "Epoch: [2][300/1357] Elapsed 0m 30s (remain 1m 48s) Loss: 0.0538 \n",
      "Epoch: [2][400/1357] Elapsed 0m 41s (remain 1m 38s) Loss: 0.0519 \n",
      "Epoch: [2][500/1357] Elapsed 0m 52s (remain 1m 29s) Loss: 0.0506 \n",
      "Epoch: [2][600/1357] Elapsed 1m 3s (remain 1m 19s) Loss: 0.0503 \n",
      "Epoch: [2][700/1357] Elapsed 1m 14s (remain 1m 9s) Loss: 0.0477 \n",
      "Epoch: [2][800/1357] Elapsed 1m 26s (remain 1m 0s) Loss: 0.0473 \n",
      "Epoch: [2][900/1357] Elapsed 1m 37s (remain 0m 49s) Loss: 0.0482 \n",
      "Epoch: [2][1000/1357] Elapsed 1m 49s (remain 0m 38s) Loss: 0.0483 \n",
      "Epoch: [2][1100/1357] Elapsed 2m 0s (remain 0m 27s) Loss: 0.0470 \n",
      "Epoch: [2][1200/1357] Elapsed 2m 11s (remain 0m 17s) Loss: 0.0478 \n",
      "Epoch: [2][1300/1357] Elapsed 2m 22s (remain 0m 6s) Loss: 0.0480 \n"
     ]
    },
    {
     "name": "stderr",
     "output_type": "stream",
     "text": [
      "[W pthreadpool-cpp.cc:90] Warning: Leaking Caffe2 thread-pool after fork. (function pthreadpool)\n",
      "[W pthreadpool-cpp.cc:90] Warning: Leaking Caffe2 thread-pool after fork. (function pthreadpool)\n"
     ]
    },
    {
     "name": "stdout",
     "output_type": "stream",
     "text": [
      "Epoch: [2][1356/1357] Elapsed 2m 28s (remain 0m 0s) Loss: 0.0475 \n"
     ]
    },
    {
     "name": "stderr",
     "output_type": "stream",
     "text": [
      "[W pthreadpool-cpp.cc:90] Warning: Leaking Caffe2 thread-pool after fork. (function pthreadpool)\n",
      "[W pthreadpool-cpp.cc:90] Warning: Leaking Caffe2 thread-pool after fork. (function pthreadpool)\n"
     ]
    },
    {
     "name": "stdout",
     "output_type": "stream",
     "text": [
      "EVAL: [0/340] Elapsed 0m 0s (remain 0m 49s) Loss: 0.0017 \n"
     ]
    },
    {
     "name": "stderr",
     "output_type": "stream",
     "text": [
      "[W pthreadpool-cpp.cc:90] Warning: Leaking Caffe2 thread-pool after fork. (function pthreadpool)\n",
      "[W pthreadpool-cpp.cc:90] Warning: Leaking Caffe2 thread-pool after fork. (function pthreadpool)\n"
     ]
    },
    {
     "name": "stdout",
     "output_type": "stream",
     "text": [
      "EVAL: [100/340] Elapsed 0m 3s (remain 0m 7s) Loss: 0.0521 \n",
      "EVAL: [200/340] Elapsed 0m 6s (remain 0m 4s) Loss: 0.0621 \n",
      "EVAL: [300/340] Elapsed 0m 9s (remain 0m 1s) Loss: 0.0624 \n"
     ]
    },
    {
     "name": "stderr",
     "output_type": "stream",
     "text": [
      "Epoch 2 - avg_train_loss: 0.0475  avg_val_loss: 0.0633  time: 160s\n",
      "Epoch 2 - Score: 0.8340649692712907\n",
      "Epoch 2 - Save Best Score: 0.8341 Model\n"
     ]
    },
    {
     "name": "stdout",
     "output_type": "stream",
     "text": [
      "EVAL: [339/340] Elapsed 0m 10s (remain 0m 0s) Loss: 0.0633 \n"
     ]
    },
    {
     "name": "stderr",
     "output_type": "stream",
     "text": [
      "[W pthreadpool-cpp.cc:90] Warning: Leaking Caffe2 thread-pool after fork. (function pthreadpool)\n",
      "[W pthreadpool-cpp.cc:90] Warning: Leaking Caffe2 thread-pool after fork. (function pthreadpool)\n",
      "[W pthreadpool-cpp.cc:90] Warning: Leaking Caffe2 thread-pool after fork. (function pthreadpool)\n",
      "[W pthreadpool-cpp.cc:90] Warning: Leaking Caffe2 thread-pool after fork. (function pthreadpool)\n"
     ]
    },
    {
     "name": "stdout",
     "output_type": "stream",
     "text": [
      "Epoch: [3][0/1357] Elapsed 0m 0s (remain 5m 3s) Loss: 0.0852 \n",
      "Epoch: [3][100/1357] Elapsed 0m 11s (remain 2m 22s) Loss: 0.0483 \n",
      "Epoch: [3][200/1357] Elapsed 0m 22s (remain 2m 10s) Loss: 0.0345 \n",
      "Epoch: [3][300/1357] Elapsed 0m 33s (remain 1m 59s) Loss: 0.0288 \n",
      "Epoch: [3][400/1357] Elapsed 0m 45s (remain 1m 47s) Loss: 0.0306 \n",
      "Epoch: [3][500/1357] Elapsed 0m 56s (remain 1m 36s) Loss: 0.0312 \n",
      "Epoch: [3][600/1357] Elapsed 1m 7s (remain 1m 25s) Loss: 0.0322 \n",
      "Epoch: [3][700/1357] Elapsed 1m 18s (remain 1m 13s) Loss: 0.0307 \n",
      "Epoch: [3][800/1357] Elapsed 1m 29s (remain 1m 2s) Loss: 0.0314 \n",
      "Epoch: [3][900/1357] Elapsed 1m 41s (remain 0m 51s) Loss: 0.0320 \n",
      "Epoch: [3][1000/1357] Elapsed 1m 52s (remain 0m 39s) Loss: 0.0312 \n",
      "Epoch: [3][1100/1357] Elapsed 2m 3s (remain 0m 28s) Loss: 0.0313 \n",
      "Epoch: [3][1200/1357] Elapsed 2m 14s (remain 0m 17s) Loss: 0.0316 \n",
      "Epoch: [3][1300/1357] Elapsed 2m 25s (remain 0m 6s) Loss: 0.0311 \n"
     ]
    },
    {
     "name": "stderr",
     "output_type": "stream",
     "text": [
      "[W pthreadpool-cpp.cc:90] Warning: Leaking Caffe2 thread-pool after fork. (function pthreadpool)\n",
      "[W pthreadpool-cpp.cc:90] Warning: Leaking Caffe2 thread-pool after fork. (function pthreadpool)\n"
     ]
    },
    {
     "name": "stdout",
     "output_type": "stream",
     "text": [
      "Epoch: [3][1356/1357] Elapsed 2m 32s (remain 0m 0s) Loss: 0.0311 \n"
     ]
    },
    {
     "name": "stderr",
     "output_type": "stream",
     "text": [
      "[W pthreadpool-cpp.cc:90] Warning: Leaking Caffe2 thread-pool after fork. (function pthreadpool)\n",
      "[W pthreadpool-cpp.cc:90] Warning: Leaking Caffe2 thread-pool after fork. (function pthreadpool)\n",
      "[W pthreadpool-cpp.cc:90] Warning: Leaking Caffe2 thread-pool after fork. (function pthreadpool)\n",
      "[W pthreadpool-cpp.cc:90] Warning: Leaking Caffe2 thread-pool after fork. (function pthreadpool)\n"
     ]
    },
    {
     "name": "stdout",
     "output_type": "stream",
     "text": [
      "EVAL: [0/340] Elapsed 0m 0s (remain 0m 53s) Loss: 0.0011 \n",
      "EVAL: [100/340] Elapsed 0m 3s (remain 0m 8s) Loss: 0.0543 \n",
      "EVAL: [200/340] Elapsed 0m 6s (remain 0m 4s) Loss: 0.0602 \n",
      "EVAL: [300/340] Elapsed 0m 10s (remain 0m 1s) Loss: 0.0590 \n"
     ]
    },
    {
     "name": "stderr",
     "output_type": "stream",
     "text": [
      "Epoch 3 - avg_train_loss: 0.0311  avg_val_loss: 0.0574  time: 164s\n",
      "Epoch 3 - Score: 0.8250572956455308\n"
     ]
    },
    {
     "name": "stdout",
     "output_type": "stream",
     "text": [
      "EVAL: [339/340] Elapsed 0m 11s (remain 0m 0s) Loss: 0.0574 \n"
     ]
    },
    {
     "name": "stderr",
     "output_type": "stream",
     "text": [
      "========== fold: 0 result ==========\n",
      "Score: 0.83406\n",
      "========== fold: 1 training ==========\n",
      "Some weights of the model checkpoint at bert-base-uncased were not used when initializing BertForSequenceClassification: ['cls.predictions.transform.LayerNorm.bias', 'cls.seq_relationship.bias', 'cls.predictions.decoder.weight', 'cls.seq_relationship.weight', 'cls.predictions.bias', 'cls.predictions.transform.dense.weight', 'cls.predictions.transform.LayerNorm.weight', 'cls.predictions.transform.dense.bias']\n",
      "- This IS expected if you are initializing BertForSequenceClassification from the checkpoint of a model trained on another task or with another architecture (e.g. initializing a BertForSequenceClassification model from a BertForPreTraining model).\n",
      "- This IS NOT expected if you are initializing BertForSequenceClassification from the checkpoint of a model that you expect to be exactly identical (initializing a BertForSequenceClassification model from a BertForSequenceClassification model).\n",
      "Some weights of BertForSequenceClassification were not initialized from the model checkpoint at bert-base-uncased and are newly initialized: ['classifier.bias', 'classifier.weight']\n",
      "You should probably TRAIN this model on a down-stream task to be able to use it for predictions and inference.\n",
      "[W pthreadpool-cpp.cc:90] Warning: Leaking Caffe2 thread-pool after fork. (function pthreadpool)\n",
      "[W pthreadpool-cpp.cc:90] Warning: Leaking Caffe2 thread-pool after fork. (function pthreadpool)\n",
      "[W pthreadpool-cpp.cc:90] Warning: Leaking Caffe2 thread-pool after fork. (function pthreadpool)\n",
      "[W pthreadpool-cpp.cc:90] Warning: Leaking Caffe2 thread-pool after fork. (function pthreadpool)\n"
     ]
    },
    {
     "name": "stdout",
     "output_type": "stream",
     "text": [
      "Epoch: [1][0/1357] Elapsed 0m 0s (remain 5m 9s) Loss: 0.9735 \n",
      "Epoch: [1][100/1357] Elapsed 0m 10s (remain 2m 12s) Loss: 0.1537 \n",
      "Epoch: [1][200/1357] Elapsed 0m 21s (remain 2m 1s) Loss: 0.1419 \n",
      "Epoch: [1][300/1357] Elapsed 0m 32s (remain 1m 52s) Loss: 0.1178 \n",
      "Epoch: [1][400/1357] Elapsed 0m 43s (remain 1m 43s) Loss: 0.1078 \n",
      "Epoch: [1][500/1357] Elapsed 0m 54s (remain 1m 33s) Loss: 0.1000 \n",
      "Epoch: [1][600/1357] Elapsed 1m 5s (remain 1m 22s) Loss: 0.0962 \n",
      "Epoch: [1][700/1357] Elapsed 1m 17s (remain 1m 12s) Loss: 0.0929 \n",
      "Epoch: [1][800/1357] Elapsed 1m 28s (remain 1m 1s) Loss: 0.0906 \n",
      "Epoch: [1][900/1357] Elapsed 1m 39s (remain 0m 50s) Loss: 0.0867 \n",
      "Epoch: [1][1000/1357] Elapsed 1m 50s (remain 0m 39s) Loss: 0.0853 \n",
      "Epoch: [1][1100/1357] Elapsed 2m 3s (remain 0m 28s) Loss: 0.0828 \n",
      "Epoch: [1][1200/1357] Elapsed 2m 15s (remain 0m 17s) Loss: 0.0816 \n",
      "Epoch: [1][1300/1357] Elapsed 2m 26s (remain 0m 6s) Loss: 0.0806 \n",
      "Epoch: [1][1356/1357] Elapsed 2m 32s (remain 0m 0s) Loss: 0.0792 \n"
     ]
    },
    {
     "name": "stderr",
     "output_type": "stream",
     "text": [
      "[W pthreadpool-cpp.cc:90] Warning: Leaking Caffe2 thread-pool after fork. (function pthreadpool)\n",
      "[W pthreadpool-cpp.cc:90] Warning: Leaking Caffe2 thread-pool after fork. (function pthreadpool)\n",
      "[W pthreadpool-cpp.cc:90] Warning: Leaking Caffe2 thread-pool after fork. (function pthreadpool)\n",
      "[W pthreadpool-cpp.cc:90] Warning: Leaking Caffe2 thread-pool after fork. (function pthreadpool)\n"
     ]
    },
    {
     "name": "stdout",
     "output_type": "stream",
     "text": [
      "EVAL: [0/340] Elapsed 0m 0s (remain 0m 56s) Loss: 0.0861 \n",
      "EVAL: [100/340] Elapsed 0m 3s (remain 0m 8s) Loss: 0.0760 \n",
      "EVAL: [200/340] Elapsed 0m 6s (remain 0m 4s) Loss: 0.0612 \n",
      "EVAL: [300/340] Elapsed 0m 9s (remain 0m 1s) Loss: 0.0579 \n"
     ]
    },
    {
     "name": "stderr",
     "output_type": "stream",
     "text": [
      "Epoch 1 - avg_train_loss: 0.0792  avg_val_loss: 0.0577  time: 164s\n",
      "Epoch 1 - Score: 0.7750759878419452\n",
      "Epoch 1 - Save Best Score: 0.7751 Model\n"
     ]
    },
    {
     "name": "stdout",
     "output_type": "stream",
     "text": [
      "EVAL: [339/340] Elapsed 0m 11s (remain 0m 0s) Loss: 0.0577 \n"
     ]
    },
    {
     "name": "stderr",
     "output_type": "stream",
     "text": [
      "[W pthreadpool-cpp.cc:90] Warning: Leaking Caffe2 thread-pool after fork. (function pthreadpool)\n",
      "[W pthreadpool-cpp.cc:90] Warning: Leaking Caffe2 thread-pool after fork. (function pthreadpool)\n",
      "[W pthreadpool-cpp.cc:90] Warning: Leaking Caffe2 thread-pool after fork. (function pthreadpool)\n",
      "[W pthreadpool-cpp.cc:90] Warning: Leaking Caffe2 thread-pool after fork. (function pthreadpool)\n"
     ]
    },
    {
     "name": "stdout",
     "output_type": "stream",
     "text": [
      "Epoch: [2][0/1357] Elapsed 0m 0s (remain 5m 9s) Loss: 0.0739 \n",
      "Epoch: [2][100/1357] Elapsed 0m 12s (remain 2m 33s) Loss: 0.0460 \n",
      "Epoch: [2][200/1357] Elapsed 0m 24s (remain 2m 18s) Loss: 0.0473 \n",
      "Epoch: [2][300/1357] Elapsed 0m 34s (remain 2m 2s) Loss: 0.0475 \n",
      "Epoch: [2][400/1357] Elapsed 0m 45s (remain 1m 49s) Loss: 0.0477 \n",
      "Epoch: [2][500/1357] Elapsed 0m 57s (remain 1m 37s) Loss: 0.0454 \n",
      "Epoch: [2][600/1357] Elapsed 1m 8s (remain 1m 26s) Loss: 0.0435 \n",
      "Epoch: [2][700/1357] Elapsed 1m 19s (remain 1m 14s) Loss: 0.0440 \n",
      "Epoch: [2][800/1357] Elapsed 1m 30s (remain 1m 3s) Loss: 0.0451 \n",
      "Epoch: [2][900/1357] Elapsed 1m 42s (remain 0m 51s) Loss: 0.0455 \n",
      "Epoch: [2][1000/1357] Elapsed 1m 53s (remain 0m 40s) Loss: 0.0454 \n",
      "Epoch: [2][1100/1357] Elapsed 2m 4s (remain 0m 28s) Loss: 0.0456 \n",
      "Epoch: [2][1200/1357] Elapsed 2m 15s (remain 0m 17s) Loss: 0.0465 \n",
      "Epoch: [2][1300/1357] Elapsed 2m 26s (remain 0m 6s) Loss: 0.0461 \n",
      "Epoch: [2][1356/1357] Elapsed 2m 33s (remain 0m 0s) Loss: 0.0462 \n"
     ]
    },
    {
     "name": "stderr",
     "output_type": "stream",
     "text": [
      "[W pthreadpool-cpp.cc:90] Warning: Leaking Caffe2 thread-pool after fork. (function pthreadpool)\n",
      "[W pthreadpool-cpp.cc:90] Warning: Leaking Caffe2 thread-pool after fork. (function pthreadpool)\n",
      "[W pthreadpool-cpp.cc:90] Warning: Leaking Caffe2 thread-pool after fork. (function pthreadpool)\n",
      "[W pthreadpool-cpp.cc:90] Warning: Leaking Caffe2 thread-pool after fork. (function pthreadpool)\n"
     ]
    },
    {
     "name": "stdout",
     "output_type": "stream",
     "text": [
      "EVAL: [0/340] Elapsed 0m 0s (remain 0m 54s) Loss: 0.3545 \n",
      "EVAL: [100/340] Elapsed 0m 3s (remain 0m 7s) Loss: 0.0705 \n",
      "EVAL: [200/340] Elapsed 0m 6s (remain 0m 4s) Loss: 0.0574 \n",
      "EVAL: [300/340] Elapsed 0m 10s (remain 0m 1s) Loss: 0.0534 \n"
     ]
    },
    {
     "name": "stderr",
     "output_type": "stream",
     "text": [
      "[W pthreadpool-cpp.cc:90] Warning: Leaking Caffe2 thread-pool after fork. (function pthreadpool)\n",
      "Epoch 2 - avg_train_loss: 0.0462  avg_val_loss: 0.0539  time: 165s\n",
      "Epoch 2 - Score: 0.7874015748031495\n",
      "Epoch 2 - Save Best Score: 0.7874 Model\n"
     ]
    },
    {
     "name": "stdout",
     "output_type": "stream",
     "text": [
      "EVAL: [339/340] Elapsed 0m 11s (remain 0m 0s) Loss: 0.0539 \n"
     ]
    },
    {
     "name": "stderr",
     "output_type": "stream",
     "text": [
      "[W pthreadpool-cpp.cc:90] Warning: Leaking Caffe2 thread-pool after fork. (function pthreadpool)\n",
      "[W pthreadpool-cpp.cc:90] Warning: Leaking Caffe2 thread-pool after fork. (function pthreadpool)\n",
      "[W pthreadpool-cpp.cc:90] Warning: Leaking Caffe2 thread-pool after fork. (function pthreadpool)\n",
      "[W pthreadpool-cpp.cc:90] Warning: Leaking Caffe2 thread-pool after fork. (function pthreadpool)\n"
     ]
    },
    {
     "name": "stdout",
     "output_type": "stream",
     "text": [
      "Epoch: [3][0/1357] Elapsed 0m 0s (remain 5m 7s) Loss: 0.0023 \n",
      "Epoch: [3][100/1357] Elapsed 0m 11s (remain 2m 20s) Loss: 0.0273 \n",
      "Epoch: [3][200/1357] Elapsed 0m 22s (remain 2m 9s) Loss: 0.0209 \n",
      "Epoch: [3][300/1357] Elapsed 0m 33s (remain 1m 57s) Loss: 0.0272 \n",
      "Epoch: [3][400/1357] Elapsed 0m 44s (remain 1m 46s) Loss: 0.0287 \n",
      "Epoch: [3][500/1357] Elapsed 0m 55s (remain 1m 34s) Loss: 0.0295 \n",
      "Epoch: [3][600/1357] Elapsed 1m 6s (remain 1m 23s) Loss: 0.0310 \n",
      "Epoch: [3][700/1357] Elapsed 1m 17s (remain 1m 12s) Loss: 0.0305 \n",
      "Epoch: [3][800/1357] Elapsed 1m 28s (remain 1m 1s) Loss: 0.0326 \n",
      "Epoch: [3][900/1357] Elapsed 1m 38s (remain 0m 50s) Loss: 0.0319 \n",
      "Epoch: [3][1000/1357] Elapsed 1m 49s (remain 0m 38s) Loss: 0.0325 \n",
      "Epoch: [3][1100/1357] Elapsed 2m 0s (remain 0m 27s) Loss: 0.0320 \n",
      "Epoch: [3][1200/1357] Elapsed 2m 11s (remain 0m 17s) Loss: 0.0315 \n",
      "Epoch: [3][1300/1357] Elapsed 2m 22s (remain 0m 6s) Loss: 0.0319 \n"
     ]
    },
    {
     "name": "stderr",
     "output_type": "stream",
     "text": [
      "[W pthreadpool-cpp.cc:90] Warning: Leaking Caffe2 thread-pool after fork. (function pthreadpool)\n"
     ]
    },
    {
     "name": "stdout",
     "output_type": "stream",
     "text": [
      "Epoch: [3][1356/1357] Elapsed 2m 28s (remain 0m 0s) Loss: 0.0316 \n"
     ]
    },
    {
     "name": "stderr",
     "output_type": "stream",
     "text": [
      "[W pthreadpool-cpp.cc:90] Warning: Leaking Caffe2 thread-pool after fork. (function pthreadpool)\n",
      "[W pthreadpool-cpp.cc:90] Warning: Leaking Caffe2 thread-pool after fork. (function pthreadpool)\n",
      "[W pthreadpool-cpp.cc:90] Warning: Leaking Caffe2 thread-pool after fork. (function pthreadpool)\n",
      "[W pthreadpool-cpp.cc:90] Warning: Leaking Caffe2 thread-pool after fork. (function pthreadpool)\n"
     ]
    },
    {
     "name": "stdout",
     "output_type": "stream",
     "text": [
      "EVAL: [0/340] Elapsed 0m 0s (remain 0m 52s) Loss: 0.1557 \n",
      "EVAL: [100/340] Elapsed 0m 3s (remain 0m 7s) Loss: 0.0764 \n",
      "EVAL: [200/340] Elapsed 0m 6s (remain 0m 4s) Loss: 0.0614 \n",
      "EVAL: [300/340] Elapsed 0m 9s (remain 0m 1s) Loss: 0.0544 \n"
     ]
    },
    {
     "name": "stderr",
     "output_type": "stream",
     "text": [
      "[W pthreadpool-cpp.cc:90] Warning: Leaking Caffe2 thread-pool after fork. (function pthreadpool)\n",
      "Epoch 3 - avg_train_loss: 0.0316  avg_val_loss: 0.0532  time: 160s\n",
      "Epoch 3 - Score: 0.8575803981623278\n",
      "Epoch 3 - Save Best Score: 0.8576 Model\n"
     ]
    },
    {
     "name": "stdout",
     "output_type": "stream",
     "text": [
      "EVAL: [339/340] Elapsed 0m 11s (remain 0m 0s) Loss: 0.0532 \n"
     ]
    },
    {
     "name": "stderr",
     "output_type": "stream",
     "text": [
      "========== fold: 1 result ==========\n",
      "Score: 0.85758\n",
      "========== fold: 2 training ==========\n",
      "Some weights of the model checkpoint at bert-base-uncased were not used when initializing BertForSequenceClassification: ['cls.predictions.transform.LayerNorm.bias', 'cls.seq_relationship.bias', 'cls.predictions.decoder.weight', 'cls.seq_relationship.weight', 'cls.predictions.bias', 'cls.predictions.transform.dense.weight', 'cls.predictions.transform.LayerNorm.weight', 'cls.predictions.transform.dense.bias']\n",
      "- This IS expected if you are initializing BertForSequenceClassification from the checkpoint of a model trained on another task or with another architecture (e.g. initializing a BertForSequenceClassification model from a BertForPreTraining model).\n",
      "- This IS NOT expected if you are initializing BertForSequenceClassification from the checkpoint of a model that you expect to be exactly identical (initializing a BertForSequenceClassification model from a BertForSequenceClassification model).\n",
      "Some weights of BertForSequenceClassification were not initialized from the model checkpoint at bert-base-uncased and are newly initialized: ['classifier.bias', 'classifier.weight']\n",
      "You should probably TRAIN this model on a down-stream task to be able to use it for predictions and inference.\n",
      "[W pthreadpool-cpp.cc:90] Warning: Leaking Caffe2 thread-pool after fork. (function pthreadpool)\n",
      "[W pthreadpool-cpp.cc:90] Warning: Leaking Caffe2 thread-pool after fork. (function pthreadpool)\n",
      "[W pthreadpool-cpp.cc:90] Warning: Leaking Caffe2 thread-pool after fork. (function pthreadpool)\n",
      "[W pthreadpool-cpp.cc:90] Warning: Leaking Caffe2 thread-pool after fork. (function pthreadpool)\n"
     ]
    },
    {
     "name": "stdout",
     "output_type": "stream",
     "text": [
      "Epoch: [1][0/1357] Elapsed 0m 0s (remain 5m 20s) Loss: 0.6798 \n",
      "Epoch: [1][100/1357] Elapsed 0m 10s (remain 2m 14s) Loss: 0.1414 \n",
      "Epoch: [1][200/1357] Elapsed 0m 21s (remain 2m 3s) Loss: 0.1199 \n",
      "Epoch: [1][300/1357] Elapsed 0m 32s (remain 1m 53s) Loss: 0.1146 \n",
      "Epoch: [1][400/1357] Elapsed 0m 43s (remain 1m 43s) Loss: 0.1110 \n",
      "Epoch: [1][500/1357] Elapsed 0m 54s (remain 1m 33s) Loss: 0.1103 \n",
      "Epoch: [1][600/1357] Elapsed 1m 5s (remain 1m 22s) Loss: 0.1035 \n",
      "Epoch: [1][700/1357] Elapsed 1m 16s (remain 1m 12s) Loss: 0.0996 \n",
      "Epoch: [1][800/1357] Elapsed 1m 28s (remain 1m 1s) Loss: 0.1001 \n",
      "Epoch: [1][900/1357] Elapsed 1m 39s (remain 0m 50s) Loss: 0.0974 \n",
      "Epoch: [1][1000/1357] Elapsed 1m 50s (remain 0m 39s) Loss: 0.0955 \n",
      "Epoch: [1][1100/1357] Elapsed 2m 2s (remain 0m 28s) Loss: 0.0949 \n",
      "Epoch: [1][1200/1357] Elapsed 2m 13s (remain 0m 17s) Loss: 0.0932 \n",
      "Epoch: [1][1300/1357] Elapsed 2m 24s (remain 0m 6s) Loss: 0.0905 \n"
     ]
    },
    {
     "name": "stderr",
     "output_type": "stream",
     "text": [
      "[W pthreadpool-cpp.cc:90] Warning: Leaking Caffe2 thread-pool after fork. (function pthreadpool)\n"
     ]
    },
    {
     "name": "stdout",
     "output_type": "stream",
     "text": [
      "Epoch: [1][1356/1357] Elapsed 2m 30s (remain 0m 0s) Loss: 0.0909 \n"
     ]
    },
    {
     "name": "stderr",
     "output_type": "stream",
     "text": [
      "[W pthreadpool-cpp.cc:90] Warning: Leaking Caffe2 thread-pool after fork. (function pthreadpool)\n",
      "[W pthreadpool-cpp.cc:90] Warning: Leaking Caffe2 thread-pool after fork. (function pthreadpool)\n",
      "[W pthreadpool-cpp.cc:90] Warning: Leaking Caffe2 thread-pool after fork. (function pthreadpool)\n",
      "[W pthreadpool-cpp.cc:90] Warning: Leaking Caffe2 thread-pool after fork. (function pthreadpool)\n"
     ]
    },
    {
     "name": "stdout",
     "output_type": "stream",
     "text": [
      "EVAL: [0/340] Elapsed 0m 0s (remain 0m 52s) Loss: 0.0161 \n",
      "EVAL: [100/340] Elapsed 0m 3s (remain 0m 7s) Loss: 0.0462 \n",
      "EVAL: [200/340] Elapsed 0m 6s (remain 0m 4s) Loss: 0.0549 \n",
      "EVAL: [300/340] Elapsed 0m 9s (remain 0m 1s) Loss: 0.0575 \n"
     ]
    },
    {
     "name": "stderr",
     "output_type": "stream",
     "text": [
      "Epoch 1 - avg_train_loss: 0.0909  avg_val_loss: 0.0571  time: 161s\n",
      "Epoch 1 - Score: 0.8086253369272236\n",
      "Epoch 1 - Save Best Score: 0.8086 Model\n"
     ]
    },
    {
     "name": "stdout",
     "output_type": "stream",
     "text": [
      "EVAL: [339/340] Elapsed 0m 10s (remain 0m 0s) Loss: 0.0571 \n"
     ]
    },
    {
     "name": "stderr",
     "output_type": "stream",
     "text": [
      "[W pthreadpool-cpp.cc:90] Warning: Leaking Caffe2 thread-pool after fork. (function pthreadpool)\n",
      "[W pthreadpool-cpp.cc:90] Warning: Leaking Caffe2 thread-pool after fork. (function pthreadpool)\n",
      "[W pthreadpool-cpp.cc:90] Warning: Leaking Caffe2 thread-pool after fork. (function pthreadpool)\n",
      "[W pthreadpool-cpp.cc:90] Warning: Leaking Caffe2 thread-pool after fork. (function pthreadpool)\n"
     ]
    },
    {
     "name": "stdout",
     "output_type": "stream",
     "text": [
      "Epoch: [2][0/1357] Elapsed 0m 0s (remain 4m 57s) Loss: 0.0238 \n",
      "Epoch: [2][100/1357] Elapsed 0m 10s (remain 2m 16s) Loss: 0.0663 \n",
      "Epoch: [2][200/1357] Elapsed 0m 22s (remain 2m 7s) Loss: 0.0643 \n",
      "Epoch: [2][300/1357] Elapsed 0m 33s (remain 1m 57s) Loss: 0.0616 \n",
      "Epoch: [2][400/1357] Elapsed 0m 44s (remain 1m 46s) Loss: 0.0624 \n",
      "Epoch: [2][500/1357] Elapsed 0m 55s (remain 1m 35s) Loss: 0.0660 \n",
      "Epoch: [2][600/1357] Elapsed 1m 6s (remain 1m 23s) Loss: 0.0643 \n",
      "Epoch: [2][700/1357] Elapsed 1m 17s (remain 1m 12s) Loss: 0.0633 \n",
      "Epoch: [2][800/1357] Elapsed 1m 28s (remain 1m 1s) Loss: 0.0615 \n",
      "Epoch: [2][900/1357] Elapsed 1m 39s (remain 0m 50s) Loss: 0.0608 \n",
      "Epoch: [2][1000/1357] Elapsed 1m 49s (remain 0m 38s) Loss: 0.0584 \n",
      "Epoch: [2][1100/1357] Elapsed 2m 0s (remain 0m 27s) Loss: 0.0571 \n",
      "Epoch: [2][1200/1357] Elapsed 2m 11s (remain 0m 17s) Loss: 0.0554 \n",
      "Epoch: [2][1300/1357] Elapsed 2m 22s (remain 0m 6s) Loss: 0.0540 \n"
     ]
    },
    {
     "name": "stderr",
     "output_type": "stream",
     "text": [
      "[W pthreadpool-cpp.cc:90] Warning: Leaking Caffe2 thread-pool after fork. (function pthreadpool)\n",
      "[W pthreadpool-cpp.cc:90] Warning: Leaking Caffe2 thread-pool after fork. (function pthreadpool)\n"
     ]
    },
    {
     "name": "stdout",
     "output_type": "stream",
     "text": [
      "Epoch: [2][1356/1357] Elapsed 2m 29s (remain 0m 0s) Loss: 0.0545 \n"
     ]
    },
    {
     "name": "stderr",
     "output_type": "stream",
     "text": [
      "[W pthreadpool-cpp.cc:90] Warning: Leaking Caffe2 thread-pool after fork. (function pthreadpool)\n",
      "[W pthreadpool-cpp.cc:90] Warning: Leaking Caffe2 thread-pool after fork. (function pthreadpool)\n",
      "[W pthreadpool-cpp.cc:90] Warning: Leaking Caffe2 thread-pool after fork. (function pthreadpool)\n",
      "[W pthreadpool-cpp.cc:90] Warning: Leaking Caffe2 thread-pool after fork. (function pthreadpool)\n"
     ]
    },
    {
     "name": "stdout",
     "output_type": "stream",
     "text": [
      "EVAL: [0/340] Elapsed 0m 0s (remain 0m 53s) Loss: 0.0218 \n",
      "EVAL: [100/340] Elapsed 0m 3s (remain 0m 8s) Loss: 0.0419 \n",
      "EVAL: [200/340] Elapsed 0m 6s (remain 0m 4s) Loss: 0.0536 \n",
      "EVAL: [300/340] Elapsed 0m 9s (remain 0m 1s) Loss: 0.0561 \n"
     ]
    },
    {
     "name": "stderr",
     "output_type": "stream",
     "text": [
      "[W pthreadpool-cpp.cc:90] Warning: Leaking Caffe2 thread-pool after fork. (function pthreadpool)\n",
      "Epoch 2 - avg_train_loss: 0.0545  avg_val_loss: 0.0564  time: 160s\n",
      "Epoch 2 - Score: 0.7627118644067797\n"
     ]
    },
    {
     "name": "stdout",
     "output_type": "stream",
     "text": [
      "EVAL: [339/340] Elapsed 0m 11s (remain 0m 0s) Loss: 0.0564 \n"
     ]
    },
    {
     "name": "stderr",
     "output_type": "stream",
     "text": [
      "[W pthreadpool-cpp.cc:90] Warning: Leaking Caffe2 thread-pool after fork. (function pthreadpool)\n",
      "[W pthreadpool-cpp.cc:90] Warning: Leaking Caffe2 thread-pool after fork. (function pthreadpool)\n",
      "[W pthreadpool-cpp.cc:90] Warning: Leaking Caffe2 thread-pool after fork. (function pthreadpool)\n",
      "[W pthreadpool-cpp.cc:90] Warning: Leaking Caffe2 thread-pool after fork. (function pthreadpool)\n"
     ]
    },
    {
     "name": "stdout",
     "output_type": "stream",
     "text": [
      "Epoch: [3][0/1357] Elapsed 0m 0s (remain 5m 9s) Loss: 0.2975 \n",
      "Epoch: [3][100/1357] Elapsed 0m 11s (remain 2m 23s) Loss: 0.0377 \n",
      "Epoch: [3][200/1357] Elapsed 0m 22s (remain 2m 11s) Loss: 0.0413 \n",
      "Epoch: [3][300/1357] Elapsed 0m 34s (remain 1m 59s) Loss: 0.0389 \n",
      "Epoch: [3][400/1357] Elapsed 0m 45s (remain 1m 48s) Loss: 0.0374 \n",
      "Epoch: [3][500/1357] Elapsed 0m 56s (remain 1m 36s) Loss: 0.0365 \n",
      "Epoch: [3][600/1357] Elapsed 1m 8s (remain 1m 25s) Loss: 0.0370 \n",
      "Epoch: [3][700/1357] Elapsed 1m 19s (remain 1m 14s) Loss: 0.0381 \n",
      "Epoch: [3][800/1357] Elapsed 1m 31s (remain 1m 3s) Loss: 0.0370 \n",
      "Epoch: [3][900/1357] Elapsed 1m 42s (remain 0m 52s) Loss: 0.0374 \n",
      "Epoch: [3][1000/1357] Elapsed 1m 54s (remain 0m 40s) Loss: 0.0383 \n",
      "Epoch: [3][1100/1357] Elapsed 2m 5s (remain 0m 29s) Loss: 0.0381 \n",
      "Epoch: [3][1200/1357] Elapsed 2m 16s (remain 0m 17s) Loss: 0.0395 \n",
      "Epoch: [3][1300/1357] Elapsed 2m 27s (remain 0m 6s) Loss: 0.0394 \n"
     ]
    },
    {
     "name": "stderr",
     "output_type": "stream",
     "text": [
      "[W pthreadpool-cpp.cc:90] Warning: Leaking Caffe2 thread-pool after fork. (function pthreadpool)\n"
     ]
    },
    {
     "name": "stdout",
     "output_type": "stream",
     "text": [
      "Epoch: [3][1356/1357] Elapsed 2m 34s (remain 0m 0s) Loss: 0.0386 \n"
     ]
    },
    {
     "name": "stderr",
     "output_type": "stream",
     "text": [
      "[W pthreadpool-cpp.cc:90] Warning: Leaking Caffe2 thread-pool after fork. (function pthreadpool)\n",
      "[W pthreadpool-cpp.cc:90] Warning: Leaking Caffe2 thread-pool after fork. (function pthreadpool)\n",
      "[W pthreadpool-cpp.cc:90] Warning: Leaking Caffe2 thread-pool after fork. (function pthreadpool)\n",
      "[W pthreadpool-cpp.cc:90] Warning: Leaking Caffe2 thread-pool after fork. (function pthreadpool)\n"
     ]
    },
    {
     "name": "stdout",
     "output_type": "stream",
     "text": [
      "EVAL: [0/340] Elapsed 0m 0s (remain 0m 53s) Loss: 0.0639 \n",
      "EVAL: [100/340] Elapsed 0m 3s (remain 0m 8s) Loss: 0.0450 \n",
      "EVAL: [200/340] Elapsed 0m 6s (remain 0m 4s) Loss: 0.0562 \n",
      "EVAL: [300/340] Elapsed 0m 10s (remain 0m 1s) Loss: 0.0543 \n"
     ]
    },
    {
     "name": "stderr",
     "output_type": "stream",
     "text": [
      "[W pthreadpool-cpp.cc:90] Warning: Leaking Caffe2 thread-pool after fork. (function pthreadpool)\n",
      "Epoch 3 - avg_train_loss: 0.0386  avg_val_loss: 0.0542  time: 166s\n",
      "Epoch 3 - Score: 0.8223429014740108\n",
      "Epoch 3 - Save Best Score: 0.8223 Model\n"
     ]
    },
    {
     "name": "stdout",
     "output_type": "stream",
     "text": [
      "EVAL: [339/340] Elapsed 0m 11s (remain 0m 0s) Loss: 0.0542 \n"
     ]
    },
    {
     "name": "stderr",
     "output_type": "stream",
     "text": [
      "========== fold: 2 result ==========\n",
      "Score: 0.82234\n",
      "========== fold: 3 training ==========\n",
      "Some weights of the model checkpoint at bert-base-uncased were not used when initializing BertForSequenceClassification: ['cls.predictions.transform.LayerNorm.bias', 'cls.seq_relationship.bias', 'cls.predictions.decoder.weight', 'cls.seq_relationship.weight', 'cls.predictions.bias', 'cls.predictions.transform.dense.weight', 'cls.predictions.transform.LayerNorm.weight', 'cls.predictions.transform.dense.bias']\n",
      "- This IS expected if you are initializing BertForSequenceClassification from the checkpoint of a model trained on another task or with another architecture (e.g. initializing a BertForSequenceClassification model from a BertForPreTraining model).\n",
      "- This IS NOT expected if you are initializing BertForSequenceClassification from the checkpoint of a model that you expect to be exactly identical (initializing a BertForSequenceClassification model from a BertForSequenceClassification model).\n",
      "Some weights of BertForSequenceClassification were not initialized from the model checkpoint at bert-base-uncased and are newly initialized: ['classifier.bias', 'classifier.weight']\n",
      "You should probably TRAIN this model on a down-stream task to be able to use it for predictions and inference.\n",
      "[W pthreadpool-cpp.cc:90] Warning: Leaking Caffe2 thread-pool after fork. (function pthreadpool)\n",
      "[W pthreadpool-cpp.cc:90] Warning: Leaking Caffe2 thread-pool after fork. (function pthreadpool)\n",
      "[W pthreadpool-cpp.cc:90] Warning: Leaking Caffe2 thread-pool after fork. (function pthreadpool)\n",
      "[W pthreadpool-cpp.cc:90] Warning: Leaking Caffe2 thread-pool after fork. (function pthreadpool)\n"
     ]
    },
    {
     "name": "stdout",
     "output_type": "stream",
     "text": [
      "Epoch: [1][0/1357] Elapsed 0m 0s (remain 4m 58s) Loss: 0.5854 \n",
      "Epoch: [1][100/1357] Elapsed 0m 10s (remain 2m 13s) Loss: 0.1364 \n",
      "Epoch: [1][200/1357] Elapsed 0m 21s (remain 2m 0s) Loss: 0.1248 \n",
      "Epoch: [1][300/1357] Elapsed 0m 31s (remain 1m 50s) Loss: 0.1142 \n",
      "Epoch: [1][400/1357] Elapsed 0m 42s (remain 1m 40s) Loss: 0.1072 \n",
      "Epoch: [1][500/1357] Elapsed 0m 53s (remain 1m 30s) Loss: 0.1045 \n",
      "Epoch: [1][600/1357] Elapsed 1m 4s (remain 1m 21s) Loss: 0.1025 \n",
      "Epoch: [1][700/1357] Elapsed 1m 15s (remain 1m 10s) Loss: 0.1000 \n",
      "Epoch: [1][800/1357] Elapsed 1m 27s (remain 1m 0s) Loss: 0.0963 \n",
      "Epoch: [1][900/1357] Elapsed 1m 39s (remain 0m 50s) Loss: 0.0937 \n",
      "Epoch: [1][1000/1357] Elapsed 1m 51s (remain 0m 39s) Loss: 0.0894 \n",
      "Epoch: [1][1100/1357] Elapsed 2m 3s (remain 0m 28s) Loss: 0.0868 \n",
      "Epoch: [1][1200/1357] Elapsed 2m 14s (remain 0m 17s) Loss: 0.0854 \n",
      "Epoch: [1][1300/1357] Elapsed 2m 25s (remain 0m 6s) Loss: 0.0830 \n"
     ]
    },
    {
     "name": "stderr",
     "output_type": "stream",
     "text": [
      "[W pthreadpool-cpp.cc:90] Warning: Leaking Caffe2 thread-pool after fork. (function pthreadpool)\n",
      "[W pthreadpool-cpp.cc:90] Warning: Leaking Caffe2 thread-pool after fork. (function pthreadpool)\n"
     ]
    },
    {
     "name": "stdout",
     "output_type": "stream",
     "text": [
      "Epoch: [1][1356/1357] Elapsed 2m 32s (remain 0m 0s) Loss: 0.0818 \n"
     ]
    },
    {
     "name": "stderr",
     "output_type": "stream",
     "text": [
      "[W pthreadpool-cpp.cc:90] Warning: Leaking Caffe2 thread-pool after fork. (function pthreadpool)\n",
      "[W pthreadpool-cpp.cc:90] Warning: Leaking Caffe2 thread-pool after fork. (function pthreadpool)\n",
      "[W pthreadpool-cpp.cc:90] Warning: Leaking Caffe2 thread-pool after fork. (function pthreadpool)\n",
      "[W pthreadpool-cpp.cc:90] Warning: Leaking Caffe2 thread-pool after fork. (function pthreadpool)\n"
     ]
    },
    {
     "name": "stdout",
     "output_type": "stream",
     "text": [
      "EVAL: [0/340] Elapsed 0m 0s (remain 0m 55s) Loss: 0.0204 \n",
      "EVAL: [100/340] Elapsed 0m 3s (remain 0m 8s) Loss: 0.0742 \n",
      "EVAL: [200/340] Elapsed 0m 6s (remain 0m 4s) Loss: 0.0688 \n",
      "EVAL: [300/340] Elapsed 0m 10s (remain 0m 1s) Loss: 0.0677 \n"
     ]
    },
    {
     "name": "stderr",
     "output_type": "stream",
     "text": [
      "Epoch 1 - avg_train_loss: 0.0818  avg_val_loss: 0.0677  time: 163s\n",
      "Epoch 1 - Score: 0.7098625585259024\n",
      "Epoch 1 - Save Best Score: 0.7099 Model\n"
     ]
    },
    {
     "name": "stdout",
     "output_type": "stream",
     "text": [
      "EVAL: [339/340] Elapsed 0m 11s (remain 0m 0s) Loss: 0.0677 \n"
     ]
    },
    {
     "name": "stderr",
     "output_type": "stream",
     "text": [
      "[W pthreadpool-cpp.cc:90] Warning: Leaking Caffe2 thread-pool after fork. (function pthreadpool)\n",
      "[W pthreadpool-cpp.cc:90] Warning: Leaking Caffe2 thread-pool after fork. (function pthreadpool)\n",
      "[W pthreadpool-cpp.cc:90] Warning: Leaking Caffe2 thread-pool after fork. (function pthreadpool)\n",
      "[W pthreadpool-cpp.cc:90] Warning: Leaking Caffe2 thread-pool after fork. (function pthreadpool)\n"
     ]
    },
    {
     "name": "stdout",
     "output_type": "stream",
     "text": [
      "Epoch: [2][0/1357] Elapsed 0m 0s (remain 5m 26s) Loss: 0.0047 \n",
      "Epoch: [2][100/1357] Elapsed 0m 11s (remain 2m 22s) Loss: 0.0431 \n",
      "Epoch: [2][200/1357] Elapsed 0m 22s (remain 2m 10s) Loss: 0.0415 \n",
      "Epoch: [2][300/1357] Elapsed 0m 33s (remain 1m 58s) Loss: 0.0387 \n",
      "Epoch: [2][400/1357] Elapsed 0m 45s (remain 1m 47s) Loss: 0.0390 \n",
      "Epoch: [2][500/1357] Elapsed 0m 56s (remain 1m 36s) Loss: 0.0404 \n",
      "Epoch: [2][600/1357] Elapsed 1m 7s (remain 1m 25s) Loss: 0.0431 \n",
      "Epoch: [2][700/1357] Elapsed 1m 18s (remain 1m 13s) Loss: 0.0425 \n",
      "Epoch: [2][800/1357] Elapsed 1m 30s (remain 1m 2s) Loss: 0.0419 \n",
      "Epoch: [2][900/1357] Elapsed 1m 43s (remain 0m 52s) Loss: 0.0424 \n",
      "Epoch: [2][1000/1357] Elapsed 1m 56s (remain 0m 41s) Loss: 0.0433 \n",
      "Epoch: [2][1100/1357] Elapsed 2m 9s (remain 0m 30s) Loss: 0.0441 \n",
      "Epoch: [2][1200/1357] Elapsed 2m 21s (remain 0m 18s) Loss: 0.0454 \n",
      "Epoch: [2][1300/1357] Elapsed 2m 32s (remain 0m 6s) Loss: 0.0449 \n"
     ]
    },
    {
     "name": "stderr",
     "output_type": "stream",
     "text": [
      "[W pthreadpool-cpp.cc:90] Warning: Leaking Caffe2 thread-pool after fork. (function pthreadpool)\n"
     ]
    },
    {
     "name": "stdout",
     "output_type": "stream",
     "text": [
      "Epoch: [2][1356/1357] Elapsed 2m 39s (remain 0m 0s) Loss: 0.0458 \n"
     ]
    },
    {
     "name": "stderr",
     "output_type": "stream",
     "text": [
      "[W pthreadpool-cpp.cc:90] Warning: Leaking Caffe2 thread-pool after fork. (function pthreadpool)\n",
      "[W pthreadpool-cpp.cc:90] Warning: Leaking Caffe2 thread-pool after fork. (function pthreadpool)\n",
      "[W pthreadpool-cpp.cc:90] Warning: Leaking Caffe2 thread-pool after fork. (function pthreadpool)\n",
      "[W pthreadpool-cpp.cc:90] Warning: Leaking Caffe2 thread-pool after fork. (function pthreadpool)\n"
     ]
    },
    {
     "name": "stdout",
     "output_type": "stream",
     "text": [
      "EVAL: [0/340] Elapsed 0m 0s (remain 0m 54s) Loss: 0.0123 \n",
      "EVAL: [100/340] Elapsed 0m 3s (remain 0m 8s) Loss: 0.0581 \n",
      "EVAL: [200/340] Elapsed 0m 6s (remain 0m 4s) Loss: 0.0517 \n",
      "EVAL: [300/340] Elapsed 0m 10s (remain 0m 1s) Loss: 0.0514 \n"
     ]
    },
    {
     "name": "stderr",
     "output_type": "stream",
     "text": [
      "[W pthreadpool-cpp.cc:90] Warning: Leaking Caffe2 thread-pool after fork. (function pthreadpool)\n",
      "Epoch 2 - avg_train_loss: 0.0458  avg_val_loss: 0.0517  time: 171s\n",
      "Epoch 2 - Score: 0.826943316794467\n",
      "Epoch 2 - Save Best Score: 0.8269 Model\n"
     ]
    },
    {
     "name": "stdout",
     "output_type": "stream",
     "text": [
      "EVAL: [339/340] Elapsed 0m 11s (remain 0m 0s) Loss: 0.0517 \n"
     ]
    },
    {
     "name": "stderr",
     "output_type": "stream",
     "text": [
      "[W pthreadpool-cpp.cc:90] Warning: Leaking Caffe2 thread-pool after fork. (function pthreadpool)\n",
      "[W pthreadpool-cpp.cc:90] Warning: Leaking Caffe2 thread-pool after fork. (function pthreadpool)\n",
      "[W pthreadpool-cpp.cc:90] Warning: Leaking Caffe2 thread-pool after fork. (function pthreadpool)\n",
      "[W pthreadpool-cpp.cc:90] Warning: Leaking Caffe2 thread-pool after fork. (function pthreadpool)\n"
     ]
    },
    {
     "name": "stdout",
     "output_type": "stream",
     "text": [
      "Epoch: [3][0/1357] Elapsed 0m 0s (remain 5m 13s) Loss: 0.0024 \n",
      "Epoch: [3][100/1357] Elapsed 0m 11s (remain 2m 24s) Loss: 0.0257 \n",
      "Epoch: [3][200/1357] Elapsed 0m 22s (remain 2m 11s) Loss: 0.0240 \n",
      "Epoch: [3][300/1357] Elapsed 0m 34s (remain 1m 59s) Loss: 0.0252 \n",
      "Epoch: [3][400/1357] Elapsed 0m 45s (remain 1m 48s) Loss: 0.0244 \n",
      "Epoch: [3][500/1357] Elapsed 0m 56s (remain 1m 37s) Loss: 0.0235 \n",
      "Epoch: [3][600/1357] Elapsed 1m 7s (remain 1m 25s) Loss: 0.0266 \n",
      "Epoch: [3][700/1357] Elapsed 1m 19s (remain 1m 14s) Loss: 0.0270 \n",
      "Epoch: [3][800/1357] Elapsed 1m 31s (remain 1m 3s) Loss: 0.0261 \n",
      "Epoch: [3][900/1357] Elapsed 1m 43s (remain 0m 52s) Loss: 0.0259 \n",
      "Epoch: [3][1000/1357] Elapsed 1m 54s (remain 0m 40s) Loss: 0.0258 \n",
      "Epoch: [3][1100/1357] Elapsed 2m 6s (remain 0m 29s) Loss: 0.0263 \n",
      "Epoch: [3][1200/1357] Elapsed 2m 18s (remain 0m 17s) Loss: 0.0271 \n",
      "Epoch: [3][1300/1357] Elapsed 2m 30s (remain 0m 6s) Loss: 0.0272 \n"
     ]
    },
    {
     "name": "stderr",
     "output_type": "stream",
     "text": [
      "[W pthreadpool-cpp.cc:90] Warning: Leaking Caffe2 thread-pool after fork. (function pthreadpool)\n"
     ]
    },
    {
     "name": "stdout",
     "output_type": "stream",
     "text": [
      "Epoch: [3][1356/1357] Elapsed 2m 36s (remain 0m 0s) Loss: 0.0270 \n"
     ]
    },
    {
     "name": "stderr",
     "output_type": "stream",
     "text": [
      "[W pthreadpool-cpp.cc:90] Warning: Leaking Caffe2 thread-pool after fork. (function pthreadpool)\n",
      "[W pthreadpool-cpp.cc:90] Warning: Leaking Caffe2 thread-pool after fork. (function pthreadpool)\n",
      "[W pthreadpool-cpp.cc:90] Warning: Leaking Caffe2 thread-pool after fork. (function pthreadpool)\n",
      "[W pthreadpool-cpp.cc:90] Warning: Leaking Caffe2 thread-pool after fork. (function pthreadpool)\n"
     ]
    },
    {
     "name": "stdout",
     "output_type": "stream",
     "text": [
      "EVAL: [0/340] Elapsed 0m 0s (remain 0m 55s) Loss: 0.0061 \n",
      "EVAL: [100/340] Elapsed 0m 3s (remain 0m 8s) Loss: 0.0824 \n",
      "EVAL: [200/340] Elapsed 0m 6s (remain 0m 4s) Loss: 0.0703 \n",
      "EVAL: [300/340] Elapsed 0m 10s (remain 0m 1s) Loss: 0.0680 \n"
     ]
    },
    {
     "name": "stderr",
     "output_type": "stream",
     "text": [
      "Epoch 3 - avg_train_loss: 0.0270  avg_val_loss: 0.0683  time: 168s\n",
      "Epoch 3 - Score: 0.7226322263222632\n"
     ]
    },
    {
     "name": "stdout",
     "output_type": "stream",
     "text": [
      "EVAL: [339/340] Elapsed 0m 11s (remain 0m 0s) Loss: 0.0683 \n"
     ]
    },
    {
     "name": "stderr",
     "output_type": "stream",
     "text": [
      "========== fold: 3 result ==========\n",
      "Score: 0.82694\n",
      "========== fold: 4 training ==========\n",
      "Some weights of the model checkpoint at bert-base-uncased were not used when initializing BertForSequenceClassification: ['cls.predictions.transform.LayerNorm.bias', 'cls.seq_relationship.bias', 'cls.predictions.decoder.weight', 'cls.seq_relationship.weight', 'cls.predictions.bias', 'cls.predictions.transform.dense.weight', 'cls.predictions.transform.LayerNorm.weight', 'cls.predictions.transform.dense.bias']\n",
      "- This IS expected if you are initializing BertForSequenceClassification from the checkpoint of a model trained on another task or with another architecture (e.g. initializing a BertForSequenceClassification model from a BertForPreTraining model).\n",
      "- This IS NOT expected if you are initializing BertForSequenceClassification from the checkpoint of a model that you expect to be exactly identical (initializing a BertForSequenceClassification model from a BertForSequenceClassification model).\n",
      "Some weights of BertForSequenceClassification were not initialized from the model checkpoint at bert-base-uncased and are newly initialized: ['classifier.bias', 'classifier.weight']\n",
      "You should probably TRAIN this model on a down-stream task to be able to use it for predictions and inference.\n",
      "[W pthreadpool-cpp.cc:90] Warning: Leaking Caffe2 thread-pool after fork. (function pthreadpool)\n",
      "[W pthreadpool-cpp.cc:90] Warning: Leaking Caffe2 thread-pool after fork. (function pthreadpool)\n",
      "[W pthreadpool-cpp.cc:90] Warning: Leaking Caffe2 thread-pool after fork. (function pthreadpool)\n",
      "[W pthreadpool-cpp.cc:90] Warning: Leaking Caffe2 thread-pool after fork. (function pthreadpool)\n"
     ]
    },
    {
     "name": "stdout",
     "output_type": "stream",
     "text": [
      "Epoch: [1][0/1357] Elapsed 0m 0s (remain 6m 56s) Loss: 0.7124 \n",
      "Epoch: [1][100/1357] Elapsed 0m 11s (remain 2m 16s) Loss: 0.1473 \n",
      "Epoch: [1][200/1357] Elapsed 0m 21s (remain 2m 5s) Loss: 0.1275 \n",
      "Epoch: [1][300/1357] Elapsed 0m 32s (remain 1m 55s) Loss: 0.1139 \n",
      "Epoch: [1][400/1357] Elapsed 0m 44s (remain 1m 45s) Loss: 0.1060 \n",
      "Epoch: [1][500/1357] Elapsed 0m 55s (remain 1m 34s) Loss: 0.1007 \n",
      "Epoch: [1][600/1357] Elapsed 1m 6s (remain 1m 23s) Loss: 0.0964 \n",
      "Epoch: [1][700/1357] Elapsed 1m 18s (remain 1m 13s) Loss: 0.0940 \n",
      "Epoch: [1][800/1357] Elapsed 1m 30s (remain 1m 2s) Loss: 0.0915 \n",
      "Epoch: [1][900/1357] Elapsed 1m 41s (remain 0m 51s) Loss: 0.0889 \n",
      "Epoch: [1][1000/1357] Elapsed 1m 53s (remain 0m 40s) Loss: 0.0859 \n",
      "Epoch: [1][1100/1357] Elapsed 2m 4s (remain 0m 28s) Loss: 0.0851 \n",
      "Epoch: [1][1200/1357] Elapsed 2m 16s (remain 0m 17s) Loss: 0.0836 \n",
      "Epoch: [1][1300/1357] Elapsed 2m 27s (remain 0m 6s) Loss: 0.0827 \n"
     ]
    },
    {
     "name": "stderr",
     "output_type": "stream",
     "text": [
      "[W pthreadpool-cpp.cc:90] Warning: Leaking Caffe2 thread-pool after fork. (function pthreadpool)\n"
     ]
    },
    {
     "name": "stdout",
     "output_type": "stream",
     "text": [
      "Epoch: [1][1356/1357] Elapsed 2m 33s (remain 0m 0s) Loss: 0.0824 \n"
     ]
    },
    {
     "name": "stderr",
     "output_type": "stream",
     "text": [
      "[W pthreadpool-cpp.cc:90] Warning: Leaking Caffe2 thread-pool after fork. (function pthreadpool)\n",
      "[W pthreadpool-cpp.cc:90] Warning: Leaking Caffe2 thread-pool after fork. (function pthreadpool)\n",
      "[W pthreadpool-cpp.cc:90] Warning: Leaking Caffe2 thread-pool after fork. (function pthreadpool)\n",
      "[W pthreadpool-cpp.cc:90] Warning: Leaking Caffe2 thread-pool after fork. (function pthreadpool)\n"
     ]
    },
    {
     "name": "stdout",
     "output_type": "stream",
     "text": [
      "EVAL: [0/340] Elapsed 0m 0s (remain 0m 58s) Loss: 0.0178 \n",
      "EVAL: [100/340] Elapsed 0m 3s (remain 0m 8s) Loss: 0.0423 \n",
      "EVAL: [200/340] Elapsed 0m 6s (remain 0m 4s) Loss: 0.0455 \n",
      "EVAL: [300/340] Elapsed 0m 10s (remain 0m 1s) Loss: 0.0483 \n"
     ]
    },
    {
     "name": "stderr",
     "output_type": "stream",
     "text": [
      "Epoch 1 - avg_train_loss: 0.0824  avg_val_loss: 0.0499  time: 165s\n",
      "Epoch 1 - Score: 0.8587097705296579\n",
      "Epoch 1 - Save Best Score: 0.8587 Model\n"
     ]
    },
    {
     "name": "stdout",
     "output_type": "stream",
     "text": [
      "EVAL: [339/340] Elapsed 0m 11s (remain 0m 0s) Loss: 0.0499 \n"
     ]
    },
    {
     "name": "stderr",
     "output_type": "stream",
     "text": [
      "[W pthreadpool-cpp.cc:90] Warning: Leaking Caffe2 thread-pool after fork. (function pthreadpool)\n",
      "[W pthreadpool-cpp.cc:90] Warning: Leaking Caffe2 thread-pool after fork. (function pthreadpool)\n",
      "[W pthreadpool-cpp.cc:90] Warning: Leaking Caffe2 thread-pool after fork. (function pthreadpool)\n",
      "[W pthreadpool-cpp.cc:90] Warning: Leaking Caffe2 thread-pool after fork. (function pthreadpool)\n"
     ]
    },
    {
     "name": "stdout",
     "output_type": "stream",
     "text": [
      "Epoch: [2][0/1357] Elapsed 0m 0s (remain 5m 36s) Loss: 0.1120 \n",
      "Epoch: [2][100/1357] Elapsed 0m 11s (remain 2m 25s) Loss: 0.0549 \n",
      "Epoch: [2][200/1357] Elapsed 0m 23s (remain 2m 13s) Loss: 0.0534 \n",
      "Epoch: [2][300/1357] Elapsed 0m 34s (remain 2m 1s) Loss: 0.0553 \n",
      "Epoch: [2][400/1357] Elapsed 0m 46s (remain 1m 49s) Loss: 0.0576 \n",
      "Epoch: [2][500/1357] Elapsed 0m 57s (remain 1m 38s) Loss: 0.0560 \n",
      "Epoch: [2][600/1357] Elapsed 1m 8s (remain 1m 26s) Loss: 0.0534 \n",
      "Epoch: [2][700/1357] Elapsed 1m 20s (remain 1m 15s) Loss: 0.0511 \n",
      "Epoch: [2][800/1357] Elapsed 1m 31s (remain 1m 3s) Loss: 0.0511 \n",
      "Epoch: [2][900/1357] Elapsed 1m 43s (remain 0m 52s) Loss: 0.0506 \n",
      "Epoch: [2][1000/1357] Elapsed 1m 54s (remain 0m 40s) Loss: 0.0499 \n",
      "Epoch: [2][1100/1357] Elapsed 2m 5s (remain 0m 29s) Loss: 0.0492 \n",
      "Epoch: [2][1200/1357] Elapsed 2m 17s (remain 0m 17s) Loss: 0.0489 \n",
      "Epoch: [2][1300/1357] Elapsed 2m 28s (remain 0m 6s) Loss: 0.0481 \n"
     ]
    },
    {
     "name": "stderr",
     "output_type": "stream",
     "text": [
      "[W pthreadpool-cpp.cc:90] Warning: Leaking Caffe2 thread-pool after fork. (function pthreadpool)\n"
     ]
    },
    {
     "name": "stdout",
     "output_type": "stream",
     "text": [
      "Epoch: [2][1356/1357] Elapsed 2m 34s (remain 0m 0s) Loss: 0.0482 \n"
     ]
    },
    {
     "name": "stderr",
     "output_type": "stream",
     "text": [
      "[W pthreadpool-cpp.cc:90] Warning: Leaking Caffe2 thread-pool after fork. (function pthreadpool)\n",
      "[W pthreadpool-cpp.cc:90] Warning: Leaking Caffe2 thread-pool after fork. (function pthreadpool)\n",
      "[W pthreadpool-cpp.cc:90] Warning: Leaking Caffe2 thread-pool after fork. (function pthreadpool)\n",
      "[W pthreadpool-cpp.cc:90] Warning: Leaking Caffe2 thread-pool after fork. (function pthreadpool)\n"
     ]
    },
    {
     "name": "stdout",
     "output_type": "stream",
     "text": [
      "EVAL: [0/340] Elapsed 0m 0s (remain 0m 56s) Loss: 0.0036 \n",
      "EVAL: [100/340] Elapsed 0m 3s (remain 0m 8s) Loss: 0.0468 \n",
      "EVAL: [200/340] Elapsed 0m 6s (remain 0m 4s) Loss: 0.0441 \n",
      "EVAL: [300/340] Elapsed 0m 10s (remain 0m 1s) Loss: 0.0463 \n"
     ]
    },
    {
     "name": "stderr",
     "output_type": "stream",
     "text": [
      "Epoch 2 - avg_train_loss: 0.0482  avg_val_loss: 0.0474  time: 166s\n",
      "Epoch 2 - Score: 0.8806986382474836\n",
      "Epoch 2 - Save Best Score: 0.8807 Model\n"
     ]
    },
    {
     "name": "stdout",
     "output_type": "stream",
     "text": [
      "EVAL: [339/340] Elapsed 0m 11s (remain 0m 0s) Loss: 0.0474 \n"
     ]
    },
    {
     "name": "stderr",
     "output_type": "stream",
     "text": [
      "[W pthreadpool-cpp.cc:90] Warning: Leaking Caffe2 thread-pool after fork. (function pthreadpool)\n",
      "[W pthreadpool-cpp.cc:90] Warning: Leaking Caffe2 thread-pool after fork. (function pthreadpool)\n",
      "[W pthreadpool-cpp.cc:90] Warning: Leaking Caffe2 thread-pool after fork. (function pthreadpool)\n",
      "[W pthreadpool-cpp.cc:90] Warning: Leaking Caffe2 thread-pool after fork. (function pthreadpool)\n"
     ]
    },
    {
     "name": "stdout",
     "output_type": "stream",
     "text": [
      "Epoch: [3][0/1357] Elapsed 0m 0s (remain 5m 19s) Loss: 0.0879 \n",
      "Epoch: [3][100/1357] Elapsed 0m 11s (remain 2m 25s) Loss: 0.0382 \n",
      "Epoch: [3][200/1357] Elapsed 0m 23s (remain 2m 12s) Loss: 0.0317 \n",
      "Epoch: [3][300/1357] Elapsed 0m 34s (remain 2m 0s) Loss: 0.0293 \n",
      "Epoch: [3][400/1357] Elapsed 0m 45s (remain 1m 49s) Loss: 0.0296 \n",
      "Epoch: [3][500/1357] Elapsed 0m 57s (remain 1m 37s) Loss: 0.0312 \n",
      "Epoch: [3][600/1357] Elapsed 1m 8s (remain 1m 26s) Loss: 0.0332 \n",
      "Epoch: [3][700/1357] Elapsed 1m 19s (remain 1m 14s) Loss: 0.0322 \n",
      "Epoch: [3][800/1357] Elapsed 1m 31s (remain 1m 3s) Loss: 0.0315 \n",
      "Epoch: [3][900/1357] Elapsed 1m 42s (remain 0m 51s) Loss: 0.0301 \n",
      "Epoch: [3][1000/1357] Elapsed 1m 53s (remain 0m 40s) Loss: 0.0297 \n",
      "Epoch: [3][1100/1357] Elapsed 2m 5s (remain 0m 29s) Loss: 0.0301 \n",
      "Epoch: [3][1200/1357] Elapsed 2m 16s (remain 0m 17s) Loss: 0.0301 \n",
      "Epoch: [3][1300/1357] Elapsed 2m 27s (remain 0m 6s) Loss: 0.0294 \n"
     ]
    },
    {
     "name": "stderr",
     "output_type": "stream",
     "text": [
      "[W pthreadpool-cpp.cc:90] Warning: Leaking Caffe2 thread-pool after fork. (function pthreadpool)\n",
      "[W pthreadpool-cpp.cc:90] Warning: Leaking Caffe2 thread-pool after fork. (function pthreadpool)\n",
      "[W pthreadpool-cpp.cc:90] Warning: Leaking Caffe2 thread-pool after fork. (function pthreadpool)\n"
     ]
    },
    {
     "name": "stdout",
     "output_type": "stream",
     "text": [
      "Epoch: [3][1356/1357] Elapsed 2m 33s (remain 0m 0s) Loss: 0.0295 \n"
     ]
    },
    {
     "name": "stderr",
     "output_type": "stream",
     "text": [
      "[W pthreadpool-cpp.cc:90] Warning: Leaking Caffe2 thread-pool after fork. (function pthreadpool)\n",
      "[W pthreadpool-cpp.cc:90] Warning: Leaking Caffe2 thread-pool after fork. (function pthreadpool)\n",
      "[W pthreadpool-cpp.cc:90] Warning: Leaking Caffe2 thread-pool after fork. (function pthreadpool)\n",
      "[W pthreadpool-cpp.cc:90] Warning: Leaking Caffe2 thread-pool after fork. (function pthreadpool)\n"
     ]
    },
    {
     "name": "stdout",
     "output_type": "stream",
     "text": [
      "EVAL: [0/340] Elapsed 0m 0s (remain 0m 56s) Loss: 0.0005 \n",
      "EVAL: [100/340] Elapsed 0m 3s (remain 0m 8s) Loss: 0.0628 \n",
      "EVAL: [200/340] Elapsed 0m 6s (remain 0m 4s) Loss: 0.0653 \n",
      "EVAL: [300/340] Elapsed 0m 10s (remain 0m 1s) Loss: 0.0652 \n"
     ]
    },
    {
     "name": "stderr",
     "output_type": "stream",
     "text": [
      "[W pthreadpool-cpp.cc:90] Warning: Leaking Caffe2 thread-pool after fork. (function pthreadpool)\n",
      "Epoch 3 - avg_train_loss: 0.0295  avg_val_loss: 0.0687  time: 165s\n",
      "Epoch 3 - Score: 0.6593406593406593\n"
     ]
    },
    {
     "name": "stdout",
     "output_type": "stream",
     "text": [
      "EVAL: [339/340] Elapsed 0m 11s (remain 0m 0s) Loss: 0.0687 \n"
     ]
    },
    {
     "name": "stderr",
     "output_type": "stream",
     "text": [
      "========== fold: 4 result ==========\n",
      "Score: 0.88070\n",
      "========== CV ==========\n",
      "Score: 0.84447\n",
      "========== model: bert-base-uncased fold: 0 inference ==========\n",
      "Some weights of the model checkpoint at bert-base-uncased were not used when initializing BertForSequenceClassification: ['cls.predictions.transform.LayerNorm.bias', 'cls.seq_relationship.bias', 'cls.predictions.decoder.weight', 'cls.seq_relationship.weight', 'cls.predictions.bias', 'cls.predictions.transform.dense.weight', 'cls.predictions.transform.LayerNorm.weight', 'cls.predictions.transform.dense.bias']\n",
      "- This IS expected if you are initializing BertForSequenceClassification from the checkpoint of a model trained on another task or with another architecture (e.g. initializing a BertForSequenceClassification model from a BertForPreTraining model).\n",
      "- This IS NOT expected if you are initializing BertForSequenceClassification from the checkpoint of a model that you expect to be exactly identical (initializing a BertForSequenceClassification model from a BertForSequenceClassification model).\n",
      "Some weights of BertForSequenceClassification were not initialized from the model checkpoint at bert-base-uncased and are newly initialized: ['classifier.bias', 'classifier.weight']\n",
      "You should probably TRAIN this model on a down-stream task to be able to use it for predictions and inference.\n",
      "[W pthreadpool-cpp.cc:90] Warning: Leaking Caffe2 thread-pool after fork. (function pthreadpool)\n",
      "[W pthreadpool-cpp.cc:90] Warning: Leaking Caffe2 thread-pool after fork. (function pthreadpool)\n",
      "[W pthreadpool-cpp.cc:90] Warning: Leaking Caffe2 thread-pool after fork. (function pthreadpool)\n",
      "[W pthreadpool-cpp.cc:90] Warning: Leaking Caffe2 thread-pool after fork. (function pthreadpool)\n"
     ]
    },
    {
     "data": {
      "application/vnd.jupyter.widget-view+json": {
       "model_id": "01586d37d4e54a4ebe4018f2f0e5f8db",
       "version_major": 2,
       "version_minor": 0
      },
      "text/plain": [
       "  0%|          | 0/2553 [00:00<?, ?it/s]"
      ]
     },
     "metadata": {},
     "output_type": "display_data"
    },
    {
     "name": "stderr",
     "output_type": "stream",
     "text": [
      "========== model: bert-base-uncased fold: 1 inference ==========\n",
      "Some weights of the model checkpoint at bert-base-uncased were not used when initializing BertForSequenceClassification: ['cls.predictions.transform.LayerNorm.bias', 'cls.seq_relationship.bias', 'cls.predictions.decoder.weight', 'cls.seq_relationship.weight', 'cls.predictions.bias', 'cls.predictions.transform.dense.weight', 'cls.predictions.transform.LayerNorm.weight', 'cls.predictions.transform.dense.bias']\n",
      "- This IS expected if you are initializing BertForSequenceClassification from the checkpoint of a model trained on another task or with another architecture (e.g. initializing a BertForSequenceClassification model from a BertForPreTraining model).\n",
      "- This IS NOT expected if you are initializing BertForSequenceClassification from the checkpoint of a model that you expect to be exactly identical (initializing a BertForSequenceClassification model from a BertForSequenceClassification model).\n",
      "Some weights of BertForSequenceClassification were not initialized from the model checkpoint at bert-base-uncased and are newly initialized: ['classifier.bias', 'classifier.weight']\n",
      "You should probably TRAIN this model on a down-stream task to be able to use it for predictions and inference.\n",
      "[W pthreadpool-cpp.cc:90] Warning: Leaking Caffe2 thread-pool after fork. (function pthreadpool)\n",
      "[W pthreadpool-cpp.cc:90] Warning: Leaking Caffe2 thread-pool after fork. (function pthreadpool)\n",
      "[W pthreadpool-cpp.cc:90] Warning: Leaking Caffe2 thread-pool after fork. (function pthreadpool)\n",
      "[W pthreadpool-cpp.cc:90] Warning: Leaking Caffe2 thread-pool after fork. (function pthreadpool)\n"
     ]
    },
    {
     "data": {
      "application/vnd.jupyter.widget-view+json": {
       "model_id": "78b7b20a4d49404c88ee0e0c7f3ca0b7",
       "version_major": 2,
       "version_minor": 0
      },
      "text/plain": [
       "  0%|          | 0/2553 [00:00<?, ?it/s]"
      ]
     },
     "metadata": {},
     "output_type": "display_data"
    },
    {
     "name": "stderr",
     "output_type": "stream",
     "text": [
      "[W pthreadpool-cpp.cc:90] Warning: Leaking Caffe2 thread-pool after fork. (function pthreadpool)\n",
      "[W pthreadpool-cpp.cc:90] Warning: Leaking Caffe2 thread-pool after fork. (function pthreadpool)\n",
      "========== model: bert-base-uncased fold: 2 inference ==========\n",
      "Some weights of the model checkpoint at bert-base-uncased were not used when initializing BertForSequenceClassification: ['cls.predictions.transform.LayerNorm.bias', 'cls.seq_relationship.bias', 'cls.predictions.decoder.weight', 'cls.seq_relationship.weight', 'cls.predictions.bias', 'cls.predictions.transform.dense.weight', 'cls.predictions.transform.LayerNorm.weight', 'cls.predictions.transform.dense.bias']\n",
      "- This IS expected if you are initializing BertForSequenceClassification from the checkpoint of a model trained on another task or with another architecture (e.g. initializing a BertForSequenceClassification model from a BertForPreTraining model).\n",
      "- This IS NOT expected if you are initializing BertForSequenceClassification from the checkpoint of a model that you expect to be exactly identical (initializing a BertForSequenceClassification model from a BertForSequenceClassification model).\n",
      "Some weights of BertForSequenceClassification were not initialized from the model checkpoint at bert-base-uncased and are newly initialized: ['classifier.bias', 'classifier.weight']\n",
      "You should probably TRAIN this model on a down-stream task to be able to use it for predictions and inference.\n",
      "[W pthreadpool-cpp.cc:90] Warning: Leaking Caffe2 thread-pool after fork. (function pthreadpool)\n",
      "[W pthreadpool-cpp.cc:90] Warning: Leaking Caffe2 thread-pool after fork. (function pthreadpool)\n",
      "[W pthreadpool-cpp.cc:90] Warning: Leaking Caffe2 thread-pool after fork. (function pthreadpool)\n",
      "[W pthreadpool-cpp.cc:90] Warning: Leaking Caffe2 thread-pool after fork. (function pthreadpool)\n"
     ]
    },
    {
     "data": {
      "application/vnd.jupyter.widget-view+json": {
       "model_id": "a9cc080091ef4842b3ed754d71ce807c",
       "version_major": 2,
       "version_minor": 0
      },
      "text/plain": [
       "  0%|          | 0/2553 [00:00<?, ?it/s]"
      ]
     },
     "metadata": {},
     "output_type": "display_data"
    },
    {
     "name": "stderr",
     "output_type": "stream",
     "text": [
      "========== model: bert-base-uncased fold: 3 inference ==========\n",
      "Some weights of the model checkpoint at bert-base-uncased were not used when initializing BertForSequenceClassification: ['cls.predictions.transform.LayerNorm.bias', 'cls.seq_relationship.bias', 'cls.predictions.decoder.weight', 'cls.seq_relationship.weight', 'cls.predictions.bias', 'cls.predictions.transform.dense.weight', 'cls.predictions.transform.LayerNorm.weight', 'cls.predictions.transform.dense.bias']\n",
      "- This IS expected if you are initializing BertForSequenceClassification from the checkpoint of a model trained on another task or with another architecture (e.g. initializing a BertForSequenceClassification model from a BertForPreTraining model).\n",
      "- This IS NOT expected if you are initializing BertForSequenceClassification from the checkpoint of a model that you expect to be exactly identical (initializing a BertForSequenceClassification model from a BertForSequenceClassification model).\n",
      "Some weights of BertForSequenceClassification were not initialized from the model checkpoint at bert-base-uncased and are newly initialized: ['classifier.bias', 'classifier.weight']\n",
      "You should probably TRAIN this model on a down-stream task to be able to use it for predictions and inference.\n",
      "[W pthreadpool-cpp.cc:90] Warning: Leaking Caffe2 thread-pool after fork. (function pthreadpool)\n",
      "[W pthreadpool-cpp.cc:90] Warning: Leaking Caffe2 thread-pool after fork. (function pthreadpool)\n",
      "[W pthreadpool-cpp.cc:90] Warning: Leaking Caffe2 thread-pool after fork. (function pthreadpool)\n",
      "[W pthreadpool-cpp.cc:90] Warning: Leaking Caffe2 thread-pool after fork. (function pthreadpool)\n"
     ]
    },
    {
     "data": {
      "application/vnd.jupyter.widget-view+json": {
       "model_id": "7bdc9c28a06146bb861dffba47472803",
       "version_major": 2,
       "version_minor": 0
      },
      "text/plain": [
       "  0%|          | 0/2553 [00:00<?, ?it/s]"
      ]
     },
     "metadata": {},
     "output_type": "display_data"
    },
    {
     "name": "stderr",
     "output_type": "stream",
     "text": [
      "[W pthreadpool-cpp.cc:90] Warning: Leaking Caffe2 thread-pool after fork. (function pthreadpool)\n",
      "========== model: bert-base-uncased fold: 4 inference ==========\n",
      "Some weights of the model checkpoint at bert-base-uncased were not used when initializing BertForSequenceClassification: ['cls.predictions.transform.LayerNorm.bias', 'cls.seq_relationship.bias', 'cls.predictions.decoder.weight', 'cls.seq_relationship.weight', 'cls.predictions.bias', 'cls.predictions.transform.dense.weight', 'cls.predictions.transform.LayerNorm.weight', 'cls.predictions.transform.dense.bias']\n",
      "- This IS expected if you are initializing BertForSequenceClassification from the checkpoint of a model trained on another task or with another architecture (e.g. initializing a BertForSequenceClassification model from a BertForPreTraining model).\n",
      "- This IS NOT expected if you are initializing BertForSequenceClassification from the checkpoint of a model that you expect to be exactly identical (initializing a BertForSequenceClassification model from a BertForSequenceClassification model).\n",
      "Some weights of BertForSequenceClassification were not initialized from the model checkpoint at bert-base-uncased and are newly initialized: ['classifier.bias', 'classifier.weight']\n",
      "You should probably TRAIN this model on a down-stream task to be able to use it for predictions and inference.\n",
      "[W pthreadpool-cpp.cc:90] Warning: Leaking Caffe2 thread-pool after fork. (function pthreadpool)\n",
      "[W pthreadpool-cpp.cc:90] Warning: Leaking Caffe2 thread-pool after fork. (function pthreadpool)\n",
      "[W pthreadpool-cpp.cc:90] Warning: Leaking Caffe2 thread-pool after fork. (function pthreadpool)\n",
      "[W pthreadpool-cpp.cc:90] Warning: Leaking Caffe2 thread-pool after fork. (function pthreadpool)\n"
     ]
    },
    {
     "data": {
      "application/vnd.jupyter.widget-view+json": {
       "model_id": "6ff19e7912f747e095aa520519696e8c",
       "version_major": 2,
       "version_minor": 0
      },
      "text/plain": [
       "  0%|          | 0/2553 [00:00<?, ?it/s]"
      ]
     },
     "metadata": {},
     "output_type": "display_data"
    }
   ],
   "source": [
    "if __name__ == \"__main__\":\n",
    "    main()"
   ]
  },
  {
   "cell_type": "code",
   "execution_count": null,
   "id": "2183653f-21ea-499f-846b-fa124ab4e83a",
   "metadata": {},
   "outputs": [],
   "source": []
  },
  {
   "cell_type": "code",
   "execution_count": null,
   "id": "a097c0a6-783c-4f2f-8013-867f23f73ca9",
   "metadata": {},
   "outputs": [],
   "source": []
  },
  {
   "cell_type": "code",
   "execution_count": null,
   "id": "ba86808b-88ff-4d4a-a356-addd86c93ccb",
   "metadata": {},
   "outputs": [],
   "source": []
  }
 ],
 "metadata": {
  "kernelspec": {
   "display_name": "signate_env",
   "language": "python",
   "name": "signate_env"
  },
  "language_info": {
   "codemirror_mode": {
    "name": "ipython",
    "version": 3
   },
   "file_extension": ".py",
   "mimetype": "text/x-python",
   "name": "python",
   "nbconvert_exporter": "python",
   "pygments_lexer": "ipython3",
   "version": "3.9.6"
  }
 },
 "nbformat": 4,
 "nbformat_minor": 5
}
